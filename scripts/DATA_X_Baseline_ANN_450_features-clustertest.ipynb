{
 "cells": [
  {
   "cell_type": "code",
   "execution_count": 1,
   "metadata": {},
   "outputs": [],
   "source": [
    "import pandas as pd\n",
    "import matplotlib.pyplot as plt\n",
    "import numpy as np\n",
    "%matplotlib inline"
   ]
  },
  {
   "cell_type": "code",
   "execution_count": 2,
   "metadata": {},
   "outputs": [],
   "source": [
    "train_1 = pd.read_csv('ACT1_train_450.csv')"
   ]
  },
  {
   "cell_type": "code",
   "execution_count": 3,
   "metadata": {},
   "outputs": [
    {
     "data": {
      "text/html": [
       "<div>\n",
       "<style scoped>\n",
       "    .dataframe tbody tr th:only-of-type {\n",
       "        vertical-align: middle;\n",
       "    }\n",
       "\n",
       "    .dataframe tbody tr th {\n",
       "        vertical-align: top;\n",
       "    }\n",
       "\n",
       "    .dataframe thead th {\n",
       "        text-align: right;\n",
       "    }\n",
       "</style>\n",
       "<table border=\"1\" class=\"dataframe\">\n",
       "  <thead>\n",
       "    <tr style=\"text-align: right;\">\n",
       "      <th></th>\n",
       "      <th>Unnamed: 0</th>\n",
       "      <th>D_212</th>\n",
       "      <th>D_213</th>\n",
       "      <th>D_214</th>\n",
       "      <th>D_215</th>\n",
       "      <th>D_216</th>\n",
       "      <th>D_217</th>\n",
       "      <th>D_219</th>\n",
       "      <th>D_294</th>\n",
       "      <th>D_295</th>\n",
       "      <th>...</th>\n",
       "      <th>D_7351</th>\n",
       "      <th>D_7352</th>\n",
       "      <th>D_7954</th>\n",
       "      <th>D_7955</th>\n",
       "      <th>D_7957</th>\n",
       "      <th>D_7958</th>\n",
       "      <th>D_8051</th>\n",
       "      <th>D_8053</th>\n",
       "      <th>D_8054</th>\n",
       "      <th>Act</th>\n",
       "    </tr>\n",
       "  </thead>\n",
       "  <tbody>\n",
       "    <tr>\n",
       "      <th>0</th>\n",
       "      <td>0</td>\n",
       "      <td>0</td>\n",
       "      <td>0</td>\n",
       "      <td>0</td>\n",
       "      <td>0</td>\n",
       "      <td>0</td>\n",
       "      <td>0</td>\n",
       "      <td>0</td>\n",
       "      <td>0</td>\n",
       "      <td>0</td>\n",
       "      <td>...</td>\n",
       "      <td>0</td>\n",
       "      <td>0</td>\n",
       "      <td>0</td>\n",
       "      <td>0</td>\n",
       "      <td>0</td>\n",
       "      <td>0</td>\n",
       "      <td>0</td>\n",
       "      <td>0</td>\n",
       "      <td>0</td>\n",
       "      <td>6.0179</td>\n",
       "    </tr>\n",
       "    <tr>\n",
       "      <th>1</th>\n",
       "      <td>1</td>\n",
       "      <td>0</td>\n",
       "      <td>0</td>\n",
       "      <td>0</td>\n",
       "      <td>0</td>\n",
       "      <td>0</td>\n",
       "      <td>0</td>\n",
       "      <td>0</td>\n",
       "      <td>4</td>\n",
       "      <td>4</td>\n",
       "      <td>...</td>\n",
       "      <td>0</td>\n",
       "      <td>0</td>\n",
       "      <td>0</td>\n",
       "      <td>0</td>\n",
       "      <td>0</td>\n",
       "      <td>0</td>\n",
       "      <td>0</td>\n",
       "      <td>0</td>\n",
       "      <td>0</td>\n",
       "      <td>4.3003</td>\n",
       "    </tr>\n",
       "    <tr>\n",
       "      <th>2</th>\n",
       "      <td>2</td>\n",
       "      <td>0</td>\n",
       "      <td>0</td>\n",
       "      <td>0</td>\n",
       "      <td>0</td>\n",
       "      <td>0</td>\n",
       "      <td>0</td>\n",
       "      <td>0</td>\n",
       "      <td>0</td>\n",
       "      <td>0</td>\n",
       "      <td>...</td>\n",
       "      <td>0</td>\n",
       "      <td>0</td>\n",
       "      <td>0</td>\n",
       "      <td>0</td>\n",
       "      <td>0</td>\n",
       "      <td>0</td>\n",
       "      <td>0</td>\n",
       "      <td>0</td>\n",
       "      <td>0</td>\n",
       "      <td>5.2697</td>\n",
       "    </tr>\n",
       "    <tr>\n",
       "      <th>3</th>\n",
       "      <td>3</td>\n",
       "      <td>0</td>\n",
       "      <td>0</td>\n",
       "      <td>0</td>\n",
       "      <td>0</td>\n",
       "      <td>0</td>\n",
       "      <td>0</td>\n",
       "      <td>0</td>\n",
       "      <td>1</td>\n",
       "      <td>0</td>\n",
       "      <td>...</td>\n",
       "      <td>0</td>\n",
       "      <td>0</td>\n",
       "      <td>2</td>\n",
       "      <td>2</td>\n",
       "      <td>3</td>\n",
       "      <td>2</td>\n",
       "      <td>1</td>\n",
       "      <td>1</td>\n",
       "      <td>1</td>\n",
       "      <td>6.1797</td>\n",
       "    </tr>\n",
       "    <tr>\n",
       "      <th>4</th>\n",
       "      <td>4</td>\n",
       "      <td>0</td>\n",
       "      <td>0</td>\n",
       "      <td>0</td>\n",
       "      <td>0</td>\n",
       "      <td>0</td>\n",
       "      <td>0</td>\n",
       "      <td>0</td>\n",
       "      <td>0</td>\n",
       "      <td>0</td>\n",
       "      <td>...</td>\n",
       "      <td>2</td>\n",
       "      <td>0</td>\n",
       "      <td>0</td>\n",
       "      <td>2</td>\n",
       "      <td>0</td>\n",
       "      <td>1</td>\n",
       "      <td>0</td>\n",
       "      <td>0</td>\n",
       "      <td>1</td>\n",
       "      <td>4.3003</td>\n",
       "    </tr>\n",
       "  </tbody>\n",
       "</table>\n",
       "<p>5 rows × 444 columns</p>\n",
       "</div>"
      ],
      "text/plain": [
       "   Unnamed: 0  D_212  D_213  D_214  D_215  D_216  D_217  D_219  D_294  D_295  \\\n",
       "0           0      0      0      0      0      0      0      0      0      0   \n",
       "1           1      0      0      0      0      0      0      0      4      4   \n",
       "2           2      0      0      0      0      0      0      0      0      0   \n",
       "3           3      0      0      0      0      0      0      0      1      0   \n",
       "4           4      0      0      0      0      0      0      0      0      0   \n",
       "\n",
       "    ...    D_7351  D_7352  D_7954  D_7955  D_7957  D_7958  D_8051  D_8053  \\\n",
       "0   ...         0       0       0       0       0       0       0       0   \n",
       "1   ...         0       0       0       0       0       0       0       0   \n",
       "2   ...         0       0       0       0       0       0       0       0   \n",
       "3   ...         0       0       2       2       3       2       1       1   \n",
       "4   ...         2       0       0       2       0       1       0       0   \n",
       "\n",
       "   D_8054     Act  \n",
       "0       0  6.0179  \n",
       "1       0  4.3003  \n",
       "2       0  5.2697  \n",
       "3       1  6.1797  \n",
       "4       1  4.3003  \n",
       "\n",
       "[5 rows x 444 columns]"
      ]
     },
     "execution_count": 3,
     "metadata": {},
     "output_type": "execute_result"
    }
   ],
   "source": [
    "train_1.head(5)"
   ]
  },
  {
   "cell_type": "code",
   "execution_count": 4,
   "metadata": {},
   "outputs": [],
   "source": [
    "knn = pd.read_csv('450 features with labels_10clusters.csv')"
   ]
  },
  {
   "cell_type": "code",
   "execution_count": 5,
   "metadata": {},
   "outputs": [],
   "source": [
    "labels = np.array(knn['label'])"
   ]
  },
  {
   "cell_type": "code",
   "execution_count": 6,
   "metadata": {},
   "outputs": [],
   "source": [
    "#adding labels to data\n",
    "from sklearn.model_selection import train_test_split\n",
    "import numpy as np\n",
    "y = train_1['Act'].values\n",
    "y = np.reshape(y,(len(y),1))\n",
    "labels = np.reshape(labels,(len(labels),1))\n",
    "y = np.hstack((y,labels))"
   ]
  },
  {
   "cell_type": "code",
   "execution_count": 7,
   "metadata": {},
   "outputs": [],
   "source": [
    "train_1 = train_1.drop(['Act', 'Unnamed: 0'], axis = 1)\n",
    "x = train_1.values"
   ]
  },
  {
   "cell_type": "code",
   "execution_count": 9,
   "metadata": {},
   "outputs": [
    {
     "name": "stdout",
     "output_type": "stream",
     "text": [
      "(29792,) (29792, 442) (7449,) (7449, 442)\n"
     ]
    },
    {
     "data": {
      "text/plain": [
       "(7449, 1)"
      ]
     },
     "execution_count": 9,
     "metadata": {},
     "output_type": "execute_result"
    }
   ],
   "source": [
    "#Adding Labels to Data\n",
    "X_train, X_test, Y_train, Y_test = train_test_split(x, y, test_size = 0.20, random_state = 0)\n",
    "Y_train_labels = Y_train[:,1]\n",
    "Y_train = Y_train[:,0]\n",
    "Y_test_labels = Y_test[:,1]\n",
    "Y_test = Y_test[:,0]\n",
    "Y_train = np.reshape(Y_train,(len(Y_train),1))\n",
    "Y_test = np.reshape(Y_test,(len(Y_test),1))"
   ]
  },
  {
   "cell_type": "code",
   "execution_count": 10,
   "metadata": {},
   "outputs": [],
   "source": [
    "def r_square(X, Y):\n",
    "    \"\"\" r^2 value defined by the competition host, r^2 = 1 indicates 100% prediction accuracy\n",
    "    \"\"\"\n",
    "    avx = np.mean(X)\n",
    "    avy = np.mean(Y)\n",
    "    sum1, sumx, sumy = 0, 0, 0\n",
    "    for i in range(len(X)):\n",
    "        sum1 += (X[i] - avx)*(Y[i] - avy)\n",
    "        sumx += (X[i] - avx)*(X[i] - avx)\n",
    "        sumy += (Y[i] - avy)*(Y[i] - avy)\n",
    "    print(len(X), sum1, sumx, sumy)\n",
    "    return sum1*sum1/(sumx*sumy)"
   ]
  },
  {
   "cell_type": "code",
   "execution_count": 11,
   "metadata": {},
   "outputs": [
    {
     "name": "stderr",
     "output_type": "stream",
     "text": [
      "Using TensorFlow backend.\n"
     ]
    }
   ],
   "source": [
    "from keras import backend as K\n",
    "#Keras R_2 function\n",
    "def coeff_determination(y_true, y_pred):\n",
    "    SS_res =  K.sum(K.square( y_true-y_pred )) \n",
    "    SS_tot = K.sum(K.square( y_true - K.mean(y_true) ) ) \n",
    "    return ( 1 - SS_res/(SS_tot + K.epsilon()) )"
   ]
  },
  {
   "cell_type": "code",
   "execution_count": 12,
   "metadata": {},
   "outputs": [],
   "source": [
    "from sklearn.metrics import make_scorer\n",
    "#Keras MAPE function\n",
    "MAPE = []\n",
    "def mean_ape(y_true, y_pred):\n",
    "    return K.mean(K.abs((y_true-y_pred)/y_true))*100\n",
    "#Scikit learn mape function\n",
    "def mean_apes(y_true, y_pred):\n",
    "    return np.mean(np.abs((y_true-y_pred)/y_true))*100\n",
    "mape_func = make_scorer(mean_apes)"
   ]
  },
  {
   "cell_type": "code",
   "execution_count": 13,
   "metadata": {},
   "outputs": [],
   "source": [
    "from tensorflow.keras.models import Sequential\n",
    "import keras\n",
    "from tensorflow.keras.layers import Dense\n",
    "from keras.optimizers import Adam \n",
    "from tensorflow.keras.wrappers.scikit_learn import KerasRegressor"
   ]
  },
  {
   "cell_type": "code",
   "execution_count": 21,
   "metadata": {},
   "outputs": [
    {
     "name": "stdout",
     "output_type": "stream",
     "text": [
      "_________________________________________________________________\n",
      "Layer (type)                 Output Shape              Param #   \n",
      "=================================================================\n",
      "dense_1 (Dense)              (None, 50)                22150     \n",
      "_________________________________________________________________\n",
      "dense_2 (Dense)              (None, 25)                1275      \n",
      "_________________________________________________________________\n",
      "dense_3 (Dense)              (None, 1)                 26        \n",
      "=================================================================\n",
      "Total params: 23,451\n",
      "Trainable params: 23,451\n",
      "Non-trainable params: 0\n",
      "_________________________________________________________________\n",
      "None Epochs =  200 Batch = 60\n",
      "Epoch 1/200\n",
      "29792/29792 [==============================] - 1s 26us/step - loss: 0.6852 - coeff_determination: -0.8918 - mean_ape: 12.3837 - mean_absolute_error: 0.5889\n",
      "Epoch 2/200\n",
      "29792/29792 [==============================] - 1s 18us/step - loss: 0.2854 - coeff_determination: 0.2613 - mean_ape: 8.3582 - mean_absolute_error: 0.4020\n",
      "Epoch 3/200\n",
      "29792/29792 [==============================] - 1s 18us/step - loss: 0.2448 - coeff_determination: 0.3505 - mean_ape: 7.6520 - mean_absolute_error: 0.3692\n",
      "Epoch 4/200\n",
      "29792/29792 [==============================] - 1s 18us/step - loss: 0.2285 - coeff_determination: 0.4003 - mean_ape: 7.3325 - mean_absolute_error: 0.3543\n",
      "Epoch 5/200\n",
      "29792/29792 [==============================] - 1s 18us/step - loss: 0.2132 - coeff_determination: 0.4404 - mean_ape: 7.0328 - mean_absolute_error: 0.3403\n",
      "Epoch 6/200\n",
      "29792/29792 [==============================] - 1s 20us/step - loss: 0.2011 - coeff_determination: 0.4738 - mean_ape: 6.7921 - mean_absolute_error: 0.3290\n",
      "Epoch 7/200\n",
      "29792/29792 [==============================] - 1s 20us/step - loss: 0.1955 - coeff_determination: 0.4907 - mean_ape: 6.6972 - mean_absolute_error: 0.3243\n",
      "Epoch 8/200\n",
      "29792/29792 [==============================] - 1s 21us/step - loss: 0.1886 - coeff_determination: 0.5019 - mean_ape: 6.5058 - mean_absolute_error: 0.3158\n",
      "Epoch 9/200\n",
      "29792/29792 [==============================] - 1s 21us/step - loss: 0.1818 - coeff_determination: 0.5136 - mean_ape: 6.4105 - mean_absolute_error: 0.3109\n",
      "Epoch 10/200\n",
      "29792/29792 [==============================] - 1s 20us/step - loss: 0.1751 - coeff_determination: 0.5372 - mean_ape: 6.2896 - mean_absolute_error: 0.3049\n",
      "Epoch 11/200\n",
      "29792/29792 [==============================] - 1s 22us/step - loss: 0.1711 - coeff_determination: 0.5518 - mean_ape: 6.1711 - mean_absolute_error: 0.2995\n",
      "Epoch 12/200\n",
      "29792/29792 [==============================] - 1s 18us/step - loss: 0.1716 - coeff_determination: 0.5431 - mean_ape: 6.2270 - mean_absolute_error: 0.3019\n",
      "Epoch 13/200\n",
      "29792/29792 [==============================] - 1s 20us/step - loss: 0.1640 - coeff_determination: 0.5711 - mean_ape: 6.0552 - mean_absolute_error: 0.2937\n",
      "Epoch 14/200\n",
      "29792/29792 [==============================] - 1s 18us/step - loss: 0.1611 - coeff_determination: 0.5797 - mean_ape: 5.9597 - mean_absolute_error: 0.2894\n",
      "Epoch 15/200\n",
      "29792/29792 [==============================] - 1s 18us/step - loss: 0.1569 - coeff_determination: 0.5811 - mean_ape: 5.8778 - mean_absolute_error: 0.2854\n",
      "Epoch 16/200\n",
      "29792/29792 [==============================] - 1s 20us/step - loss: 0.1534 - coeff_determination: 0.5959 - mean_ape: 5.8169 - mean_absolute_error: 0.2822\n",
      "Epoch 17/200\n",
      "29792/29792 [==============================] - 1s 23us/step - loss: 0.1546 - coeff_determination: 0.5932 - mean_ape: 5.8533 - mean_absolute_error: 0.2838\n",
      "Epoch 18/200\n",
      "29792/29792 [==============================] - 1s 25us/step - loss: 0.1514 - coeff_determination: 0.6018 - mean_ape: 5.7875 - mean_absolute_error: 0.2808\n",
      "Epoch 19/200\n",
      "29792/29792 [==============================] - 1s 20us/step - loss: 0.1412 - coeff_determination: 0.6265 - mean_ape: 5.5334 - mean_absolute_error: 0.2688\n",
      "Epoch 20/200\n",
      "29792/29792 [==============================] - 1s 18us/step - loss: 0.1405 - coeff_determination: 0.6306 - mean_ape: 5.5607 - mean_absolute_error: 0.2696\n",
      "Epoch 21/200\n",
      "29792/29792 [==============================] - 1s 18us/step - loss: 0.1393 - coeff_determination: 0.6293 - mean_ape: 5.5170 - mean_absolute_error: 0.2677\n",
      "Epoch 22/200\n",
      "29792/29792 [==============================] - 1s 18us/step - loss: 0.1377 - coeff_determination: 0.6380 - mean_ape: 5.4771 - mean_absolute_error: 0.2659\n",
      "Epoch 23/200\n",
      "29792/29792 [==============================] - 1s 19us/step - loss: 0.1373 - coeff_determination: 0.6391 - mean_ape: 5.4770 - mean_absolute_error: 0.2661\n",
      "Epoch 24/200\n",
      "29792/29792 [==============================] - 1s 19us/step - loss: 0.1344 - coeff_determination: 0.6360 - mean_ape: 5.4160 - mean_absolute_error: 0.2628\n",
      "Epoch 25/200\n",
      "29792/29792 [==============================] - 1s 18us/step - loss: 0.1320 - coeff_determination: 0.6504 - mean_ape: 5.3695 - mean_absolute_error: 0.2606\n",
      "Epoch 26/200\n",
      "29792/29792 [==============================] - 1s 18us/step - loss: 0.1299 - coeff_determination: 0.6554 - mean_ape: 5.3080 - mean_absolute_error: 0.2575\n",
      "Epoch 27/200\n",
      "29792/29792 [==============================] - 1s 20us/step - loss: 0.1296 - coeff_determination: 0.6574 - mean_ape: 5.2851 - mean_absolute_error: 0.2565\n",
      "Epoch 28/200\n",
      "29792/29792 [==============================] - 1s 18us/step - loss: 0.1277 - coeff_determination: 0.6647 - mean_ape: 5.2680 - mean_absolute_error: 0.2558\n",
      "Epoch 29/200\n",
      "29792/29792 [==============================] - 1s 18us/step - loss: 0.1266 - coeff_determination: 0.6617 - mean_ape: 5.2383 - mean_absolute_error: 0.2541\n",
      "Epoch 30/200\n",
      "29792/29792 [==============================] - 1s 18us/step - loss: 0.1212 - coeff_determination: 0.6788 - mean_ape: 5.1003 - mean_absolute_error: 0.2477\n",
      "Epoch 31/200\n",
      "29792/29792 [==============================] - 1s 20us/step - loss: 0.1216 - coeff_determination: 0.6777 - mean_ape: 5.1269 - mean_absolute_error: 0.2488\n",
      "Epoch 32/200\n",
      "29792/29792 [==============================] - 1s 25us/step - loss: 0.1189 - coeff_determination: 0.6854 - mean_ape: 5.0427 - mean_absolute_error: 0.2448\n",
      "Epoch 33/200\n",
      "29792/29792 [==============================] - 1s 20us/step - loss: 0.1190 - coeff_determination: 0.6858 - mean_ape: 5.0242 - mean_absolute_error: 0.2440\n",
      "Epoch 34/200\n",
      "29792/29792 [==============================] - 1s 21us/step - loss: 0.1190 - coeff_determination: 0.6829 - mean_ape: 5.0305 - mean_absolute_error: 0.2443\n",
      "Epoch 35/200\n",
      "29792/29792 [==============================] - 1s 19us/step - loss: 0.1134 - coeff_determination: 0.6985 - mean_ape: 4.9119 - mean_absolute_error: 0.2386\n",
      "Epoch 36/200\n",
      "29792/29792 [==============================] - 1s 19us/step - loss: 0.1138 - coeff_determination: 0.6993 - mean_ape: 4.9308 - mean_absolute_error: 0.2392\n",
      "Epoch 37/200\n",
      "29792/29792 [==============================] - 1s 19us/step - loss: 0.1115 - coeff_determination: 0.7074 - mean_ape: 4.8567 - mean_absolute_error: 0.2356\n",
      "Epoch 38/200\n",
      "29792/29792 [==============================] - 1s 21us/step - loss: 0.1102 - coeff_determination: 0.7097 - mean_ape: 4.8242 - mean_absolute_error: 0.2343\n",
      "Epoch 39/200\n",
      "29792/29792 [==============================] - 1s 20us/step - loss: 0.1107 - coeff_determination: 0.7075 - mean_ape: 4.8611 - mean_absolute_error: 0.2358\n",
      "Epoch 40/200\n",
      "29792/29792 [==============================] - 1s 19us/step - loss: 0.1082 - coeff_determination: 0.7113 - mean_ape: 4.7895 - mean_absolute_error: 0.2324\n",
      "Epoch 41/200\n",
      "29792/29792 [==============================] - 1s 20us/step - loss: 0.1079 - coeff_determination: 0.7084 - mean_ape: 4.7858 - mean_absolute_error: 0.2323\n",
      "Epoch 42/200\n",
      "29792/29792 [==============================] - 1s 22us/step - loss: 0.1067 - coeff_determination: 0.7179 - mean_ape: 4.7449 - mean_absolute_error: 0.2305\n",
      "Epoch 43/200\n",
      "29792/29792 [==============================] - 1s 21us/step - loss: 0.1041 - coeff_determination: 0.7216 - mean_ape: 4.6840 - mean_absolute_error: 0.2274\n",
      "Epoch 44/200\n",
      "29792/29792 [==============================] - 1s 19us/step - loss: 0.1044 - coeff_determination: 0.7183 - mean_ape: 4.6927 - mean_absolute_error: 0.2279\n",
      "Epoch 45/200\n",
      "29792/29792 [==============================] - 1s 18us/step - loss: 0.1016 - coeff_determination: 0.7317 - mean_ape: 4.6459 - mean_absolute_error: 0.2254\n",
      "Epoch 46/200\n",
      "29792/29792 [==============================] - 1s 18us/step - loss: 0.1007 - coeff_determination: 0.7320 - mean_ape: 4.5994 - mean_absolute_error: 0.2232\n",
      "Epoch 47/200\n",
      "29792/29792 [==============================] - 1s 19us/step - loss: 0.0990 - coeff_determination: 0.7394 - mean_ape: 4.5447 - mean_absolute_error: 0.2207\n",
      "Epoch 48/200\n",
      "29792/29792 [==============================] - 1s 18us/step - loss: 0.0994 - coeff_determination: 0.7371 - mean_ape: 4.5539 - mean_absolute_error: 0.2209\n",
      "Epoch 49/200\n",
      "29792/29792 [==============================] - 1s 19us/step - loss: 0.1005 - coeff_determination: 0.7320 - mean_ape: 4.5931 - mean_absolute_error: 0.2229\n",
      "Epoch 50/200\n",
      "29792/29792 [==============================] - 1s 19us/step - loss: 0.0965 - coeff_determination: 0.7459 - mean_ape: 4.4793 - mean_absolute_error: 0.2176\n",
      "Epoch 51/200\n",
      "29792/29792 [==============================] - 1s 18us/step - loss: 0.0971 - coeff_determination: 0.7432 - mean_ape: 4.5157 - mean_absolute_error: 0.2194\n",
      "Epoch 52/200\n",
      "29792/29792 [==============================] - 1s 19us/step - loss: 0.0946 - coeff_determination: 0.7473 - mean_ape: 4.4501 - mean_absolute_error: 0.2159\n",
      "Epoch 53/200\n",
      "29792/29792 [==============================] - 1s 19us/step - loss: 0.0952 - coeff_determination: 0.7454 - mean_ape: 4.4654 - mean_absolute_error: 0.2168\n",
      "Epoch 54/200\n",
      "29792/29792 [==============================] - 1s 18us/step - loss: 0.0922 - coeff_determination: 0.7514 - mean_ape: 4.3798 - mean_absolute_error: 0.2126\n",
      "Epoch 55/200\n",
      "29792/29792 [==============================] - 1s 18us/step - loss: 0.0930 - coeff_determination: 0.7554 - mean_ape: 4.4299 - mean_absolute_error: 0.2149\n",
      "Epoch 56/200\n",
      "29792/29792 [==============================] - 1s 19us/step - loss: 0.0899 - coeff_determination: 0.7611 - mean_ape: 4.3196 - mean_absolute_error: 0.2097\n",
      "Epoch 57/200\n",
      "29792/29792 [==============================] - 1s 19us/step - loss: 0.0908 - coeff_determination: 0.7598 - mean_ape: 4.3505 - mean_absolute_error: 0.2111 0s - loss: 0.0891 - coeff_determination: 0.7596 - mean_ape: 4.3835 - mean_abso\n",
      "Epoch 58/200\n",
      "29792/29792 [==============================] - 1s 18us/step - loss: 0.0897 - coeff_determination: 0.7626 - mean_ape: 4.3330 - mean_absolute_error: 0.2102\n",
      "Epoch 59/200\n",
      "29792/29792 [==============================] - 1s 19us/step - loss: 0.0897 - coeff_determination: 0.7614 - mean_ape: 4.3264 - mean_absolute_error: 0.2099\n",
      "Epoch 60/200\n",
      "29792/29792 [==============================] - 1s 18us/step - loss: 0.0878 - coeff_determination: 0.7675 - mean_ape: 4.2728 - mean_absolute_error: 0.2074\n",
      "Epoch 61/200\n",
      "29792/29792 [==============================] - 1s 18us/step - loss: 0.0876 - coeff_determination: 0.7667 - mean_ape: 4.2632 - mean_absolute_error: 0.2068\n",
      "Epoch 62/200\n",
      "29792/29792 [==============================] - 1s 18us/step - loss: 0.0876 - coeff_determination: 0.7663 - mean_ape: 4.2720 - mean_absolute_error: 0.2076\n",
      "Epoch 63/200\n",
      "29792/29792 [==============================] - 1s 18us/step - loss: 0.0875 - coeff_determination: 0.7661 - mean_ape: 4.2963 - mean_absolute_error: 0.2082\n",
      "Epoch 64/200\n",
      "29792/29792 [==============================] - 1s 18us/step - loss: 0.0851 - coeff_determination: 0.7730 - mean_ape: 4.2224 - mean_absolute_error: 0.2047\n",
      "Epoch 65/200\n",
      "29792/29792 [==============================] - 1s 18us/step - loss: 0.0874 - coeff_determination: 0.7699 - mean_ape: 4.2763 - mean_absolute_error: 0.2075\n",
      "Epoch 66/200\n",
      "29792/29792 [==============================] - 1s 18us/step - loss: 0.0859 - coeff_determination: 0.7745 - mean_ape: 4.1923 - mean_absolute_error: 0.2037\n",
      "Epoch 67/200\n",
      "29792/29792 [==============================] - 1s 18us/step - loss: 0.0831 - coeff_determination: 0.7804 - mean_ape: 4.1570 - mean_absolute_error: 0.2018\n",
      "Epoch 68/200\n",
      "29792/29792 [==============================] - 1s 18us/step - loss: 0.0830 - coeff_determination: 0.7778 - mean_ape: 4.1278 - mean_absolute_error: 0.2004\n",
      "Epoch 69/200\n",
      "29792/29792 [==============================] - 1s 18us/step - loss: 0.0846 - coeff_determination: 0.7765 - mean_ape: 4.2057 - mean_absolute_error: 0.2040\n",
      "Epoch 70/200\n",
      "29792/29792 [==============================] - 1s 20us/step - loss: 0.0818 - coeff_determination: 0.7845 - mean_ape: 4.0951 - mean_absolute_error: 0.1989\n",
      "Epoch 71/200\n",
      "29792/29792 [==============================] - 1s 19us/step - loss: 0.0814 - coeff_determination: 0.7855 - mean_ape: 4.1244 - mean_absolute_error: 0.2000\n",
      "Epoch 72/200\n",
      "29792/29792 [==============================] - 1s 18us/step - loss: 0.0824 - coeff_determination: 0.7823 - mean_ape: 4.1424 - mean_absolute_error: 0.2009\n",
      "Epoch 73/200\n",
      "29792/29792 [==============================] - 1s 19us/step - loss: 0.0828 - coeff_determination: 0.7821 - mean_ape: 4.1591 - mean_absolute_error: 0.2017\n",
      "Epoch 74/200\n",
      "29792/29792 [==============================] - 1s 18us/step - loss: 0.0791 - coeff_determination: 0.7892 - mean_ape: 4.0480 - mean_absolute_error: 0.1964\n",
      "Epoch 75/200\n",
      "29792/29792 [==============================] - 1s 18us/step - loss: 0.0784 - coeff_determination: 0.7922 - mean_ape: 4.0222 - mean_absolute_error: 0.1952\n",
      "Epoch 76/200\n",
      "29792/29792 [==============================] - 1s 20us/step - loss: 0.0800 - coeff_determination: 0.7864 - mean_ape: 4.0893 - mean_absolute_error: 0.1981\n",
      "Epoch 77/200\n",
      "29792/29792 [==============================] - 1s 20us/step - loss: 0.0758 - coeff_determination: 0.7964 - mean_ape: 3.9462 - mean_absolute_error: 0.1915\n",
      "Epoch 78/200\n",
      "29792/29792 [==============================] - 1s 18us/step - loss: 0.0795 - coeff_determination: 0.7859 - mean_ape: 4.0693 - mean_absolute_error: 0.1973\n",
      "Epoch 79/200\n",
      "29792/29792 [==============================] - 1s 19us/step - loss: 0.0801 - coeff_determination: 0.7873 - mean_ape: 4.0903 - mean_absolute_error: 0.1984\n",
      "Epoch 80/200\n",
      "29792/29792 [==============================] - 1s 19us/step - loss: 0.0762 - coeff_determination: 0.7992 - mean_ape: 3.9537 - mean_absolute_error: 0.1919\n",
      "Epoch 81/200\n",
      "29792/29792 [==============================] - 1s 21us/step - loss: 0.0753 - coeff_determination: 0.7992 - mean_ape: 3.9480 - mean_absolute_error: 0.1915\n",
      "Epoch 82/200\n",
      "29792/29792 [==============================] - 1s 20us/step - loss: 0.0775 - coeff_determination: 0.7958 - mean_ape: 3.9987 - mean_absolute_error: 0.1942\n",
      "Epoch 83/200\n",
      "29792/29792 [==============================] - 1s 21us/step - loss: 0.0765 - coeff_determination: 0.7973 - mean_ape: 3.9636 - mean_absolute_error: 0.1923\n",
      "Epoch 84/200\n",
      "29792/29792 [==============================] - 1s 21us/step - loss: 0.0750 - coeff_determination: 0.7973 - mean_ape: 3.9324 - mean_absolute_error: 0.1907\n",
      "Epoch 85/200\n",
      "29792/29792 [==============================] - 1s 20us/step - loss: 0.0747 - coeff_determination: 0.8033 - mean_ape: 3.9188 - mean_absolute_error: 0.1899\n",
      "Epoch 86/200\n",
      "29792/29792 [==============================] - 1s 20us/step - loss: 0.0743 - coeff_determination: 0.8001 - mean_ape: 3.8776 - mean_absolute_error: 0.1883\n",
      "Epoch 87/200\n",
      "29792/29792 [==============================] - 1s 21us/step - loss: 0.0737 - coeff_determination: 0.8039 - mean_ape: 3.8947 - mean_absolute_error: 0.1888\n",
      "Epoch 88/200\n",
      "29792/29792 [==============================] - 1s 21us/step - loss: 0.0765 - coeff_determination: 0.7966 - mean_ape: 3.9630 - mean_absolute_error: 0.1923\n",
      "Epoch 89/200\n",
      "29792/29792 [==============================] - 1s 21us/step - loss: 0.0729 - coeff_determination: 0.8064 - mean_ape: 3.8719 - mean_absolute_error: 0.1877\n",
      "Epoch 90/200\n",
      "29792/29792 [==============================] - 1s 20us/step - loss: 0.0758 - coeff_determination: 0.7938 - mean_ape: 3.9626 - mean_absolute_error: 0.1922\n",
      "Epoch 91/200\n",
      "29792/29792 [==============================] - 1s 20us/step - loss: 0.0730 - coeff_determination: 0.8057 - mean_ape: 3.8672 - mean_absolute_error: 0.1877\n",
      "Epoch 92/200\n",
      "29792/29792 [==============================] - 1s 20us/step - loss: 0.0736 - coeff_determination: 0.8072 - mean_ape: 3.9046 - mean_absolute_error: 0.1894\n",
      "Epoch 93/200\n"
     ]
    },
    {
     "name": "stdout",
     "output_type": "stream",
     "text": [
      "29792/29792 [==============================] - 1s 19us/step - loss: 0.0715 - coeff_determination: 0.8112 - mean_ape: 3.8214 - mean_absolute_error: 0.1854\n",
      "Epoch 94/200\n",
      "29792/29792 [==============================] - 1s 19us/step - loss: 0.0701 - coeff_determination: 0.8157 - mean_ape: 3.7788 - mean_absolute_error: 0.1833\n",
      "Epoch 95/200\n",
      "29792/29792 [==============================] - 1s 19us/step - loss: 0.0719 - coeff_determination: 0.8113 - mean_ape: 3.8429 - mean_absolute_error: 0.1865\n",
      "Epoch 96/200\n",
      "29792/29792 [==============================] - 1s 19us/step - loss: 0.0702 - coeff_determination: 0.8116 - mean_ape: 3.7930 - mean_absolute_error: 0.1840\n",
      "Epoch 97/200\n",
      "29792/29792 [==============================] - 1s 20us/step - loss: 0.0709 - coeff_determination: 0.8077 - mean_ape: 3.8134 - mean_absolute_error: 0.1849\n",
      "Epoch 98/200\n",
      "29792/29792 [==============================] - 1s 20us/step - loss: 0.0697 - coeff_determination: 0.8140 - mean_ape: 3.7826 - mean_absolute_error: 0.1835\n",
      "Epoch 99/200\n",
      "29792/29792 [==============================] - 1s 18us/step - loss: 0.0707 - coeff_determination: 0.8094 - mean_ape: 3.8321 - mean_absolute_error: 0.1858\n",
      "Epoch 100/200\n",
      "29792/29792 [==============================] - 1s 18us/step - loss: 0.0708 - coeff_determination: 0.8117 - mean_ape: 3.8228 - mean_absolute_error: 0.1853\n",
      "Epoch 101/200\n",
      "29792/29792 [==============================] - 1s 18us/step - loss: 0.0700 - coeff_determination: 0.8126 - mean_ape: 3.7718 - mean_absolute_error: 0.1830\n",
      "Epoch 102/200\n",
      "29792/29792 [==============================] - 1s 18us/step - loss: 0.0692 - coeff_determination: 0.8132 - mean_ape: 3.7577 - mean_absolute_error: 0.1824\n",
      "Epoch 103/200\n",
      "29792/29792 [==============================] - 1s 19us/step - loss: 0.0678 - coeff_determination: 0.8186 - mean_ape: 3.7163 - mean_absolute_error: 0.1803\n",
      "Epoch 104/200\n",
      "29792/29792 [==============================] - 1s 19us/step - loss: 0.0679 - coeff_determination: 0.8187 - mean_ape: 3.7355 - mean_absolute_error: 0.1811\n",
      "Epoch 105/200\n",
      "29792/29792 [==============================] - 1s 19us/step - loss: 0.0677 - coeff_determination: 0.8178 - mean_ape: 3.7327 - mean_absolute_error: 0.1809\n",
      "Epoch 106/200\n",
      "29792/29792 [==============================] - 1s 19us/step - loss: 0.0673 - coeff_determination: 0.8233 - mean_ape: 3.7051 - mean_absolute_error: 0.1798\n",
      "Epoch 107/200\n",
      "29792/29792 [==============================] - 1s 19us/step - loss: 0.0681 - coeff_determination: 0.8189 - mean_ape: 3.7319 - mean_absolute_error: 0.1809\n",
      "Epoch 108/200\n",
      "29792/29792 [==============================] - 1s 19us/step - loss: 0.0673 - coeff_determination: 0.8213 - mean_ape: 3.7137 - mean_absolute_error: 0.1803\n",
      "Epoch 109/200\n",
      "29792/29792 [==============================] - 1s 18us/step - loss: 0.0665 - coeff_determination: 0.8223 - mean_ape: 3.6823 - mean_absolute_error: 0.1787\n",
      "Epoch 110/200\n",
      "29792/29792 [==============================] - 1s 19us/step - loss: 0.0660 - coeff_determination: 0.8215 - mean_ape: 3.6635 - mean_absolute_error: 0.1775\n",
      "Epoch 111/200\n",
      "29792/29792 [==============================] - 1s 18us/step - loss: 0.0677 - coeff_determination: 0.8192 - mean_ape: 3.7259 - mean_absolute_error: 0.1806\n",
      "Epoch 112/200\n",
      "29792/29792 [==============================] - 1s 19us/step - loss: 0.0659 - coeff_determination: 0.8242 - mean_ape: 3.6739 - mean_absolute_error: 0.1782\n",
      "Epoch 113/200\n",
      "29792/29792 [==============================] - 1s 19us/step - loss: 0.0659 - coeff_determination: 0.8230 - mean_ape: 3.6555 - mean_absolute_error: 0.1773\n",
      "Epoch 114/200\n",
      "29792/29792 [==============================] - 1s 19us/step - loss: 0.0653 - coeff_determination: 0.8255 - mean_ape: 3.6462 - mean_absolute_error: 0.1767\n",
      "Epoch 115/200\n",
      "29792/29792 [==============================] - 1s 19us/step - loss: 0.0637 - coeff_determination: 0.8303 - mean_ape: 3.6026 - mean_absolute_error: 0.1747\n",
      "Epoch 116/200\n",
      "29792/29792 [==============================] - 1s 19us/step - loss: 0.0660 - coeff_determination: 0.8243 - mean_ape: 3.6687 - mean_absolute_error: 0.1779\n",
      "Epoch 117/200\n",
      "29792/29792 [==============================] - 1s 19us/step - loss: 0.0670 - coeff_determination: 0.8196 - mean_ape: 3.7019 - mean_absolute_error: 0.1793\n",
      "Epoch 118/200\n",
      "29792/29792 [==============================] - 1s 18us/step - loss: 0.0631 - coeff_determination: 0.8321 - mean_ape: 3.5563 - mean_absolute_error: 0.1726\n",
      "Epoch 119/200\n",
      "29792/29792 [==============================] - 1s 19us/step - loss: 0.0640 - coeff_determination: 0.8305 - mean_ape: 3.6004 - mean_absolute_error: 0.1747\n",
      "Epoch 120/200\n",
      "29792/29792 [==============================] - 1s 18us/step - loss: 0.0635 - coeff_determination: 0.8296 - mean_ape: 3.6118 - mean_absolute_error: 0.1749\n",
      "Epoch 121/200\n",
      "29792/29792 [==============================] - 1s 19us/step - loss: 0.0620 - coeff_determination: 0.8336 - mean_ape: 3.5718 - mean_absolute_error: 0.1731\n",
      "Epoch 122/200\n",
      "29792/29792 [==============================] - 1s 19us/step - loss: 0.0620 - coeff_determination: 0.8354 - mean_ape: 3.5523 - mean_absolute_error: 0.1722\n",
      "Epoch 123/200\n",
      "29792/29792 [==============================] - 1s 19us/step - loss: 0.0627 - coeff_determination: 0.8339 - mean_ape: 3.5577 - mean_absolute_error: 0.1725\n",
      "Epoch 124/200\n",
      "29792/29792 [==============================] - 1s 20us/step - loss: 0.0613 - coeff_determination: 0.8385 - mean_ape: 3.5466 - mean_absolute_error: 0.1718\n",
      "Epoch 125/200\n",
      "29792/29792 [==============================] - 1s 19us/step - loss: 0.0615 - coeff_determination: 0.8332 - mean_ape: 3.5059 - mean_absolute_error: 0.1701\n",
      "Epoch 126/200\n",
      "29792/29792 [==============================] - 1s 19us/step - loss: 0.0626 - coeff_determination: 0.8319 - mean_ape: 3.5558 - mean_absolute_error: 0.1725\n",
      "Epoch 127/200\n",
      "29792/29792 [==============================] - 1s 19us/step - loss: 0.0622 - coeff_determination: 0.8345 - mean_ape: 3.5488 - mean_absolute_error: 0.1720\n",
      "Epoch 128/200\n",
      "29792/29792 [==============================] - 1s 19us/step - loss: 0.0596 - coeff_determination: 0.8400 - mean_ape: 3.4801 - mean_absolute_error: 0.1686\n",
      "Epoch 129/200\n",
      "29792/29792 [==============================] - 1s 19us/step - loss: 0.0617 - coeff_determination: 0.8337 - mean_ape: 3.5467 - mean_absolute_error: 0.1718\n",
      "Epoch 130/200\n",
      "29792/29792 [==============================] - 1s 19us/step - loss: 0.0595 - coeff_determination: 0.8391 - mean_ape: 3.4809 - mean_absolute_error: 0.1688\n",
      "Epoch 131/200\n",
      "29792/29792 [==============================] - 1s 19us/step - loss: 0.0603 - coeff_determination: 0.8389 - mean_ape: 3.5168 - mean_absolute_error: 0.1704\n",
      "Epoch 132/200\n",
      "29792/29792 [==============================] - 1s 19us/step - loss: 0.0611 - coeff_determination: 0.8360 - mean_ape: 3.5169 - mean_absolute_error: 0.1704\n",
      "Epoch 133/200\n",
      "29792/29792 [==============================] - 1s 19us/step - loss: 0.0582 - coeff_determination: 0.8458 - mean_ape: 3.4278 - mean_absolute_error: 0.1660\n",
      "Epoch 134/200\n",
      "29792/29792 [==============================] - 1s 18us/step - loss: 0.0601 - coeff_determination: 0.8384 - mean_ape: 3.4783 - mean_absolute_error: 0.1687\n",
      "Epoch 135/200\n",
      "29792/29792 [==============================] - 1s 19us/step - loss: 0.0608 - coeff_determination: 0.8389 - mean_ape: 3.5144 - mean_absolute_error: 0.1704\n",
      "Epoch 136/200\n",
      "29792/29792 [==============================] - 1s 19us/step - loss: 0.0610 - coeff_determination: 0.8346 - mean_ape: 3.5241 - mean_absolute_error: 0.1708\n",
      "Epoch 137/200\n",
      "29792/29792 [==============================] - 1s 19us/step - loss: 0.0585 - coeff_determination: 0.8448 - mean_ape: 3.4307 - mean_absolute_error: 0.1662\n",
      "Epoch 138/200\n",
      "29792/29792 [==============================] - 1s 19us/step - loss: 0.0584 - coeff_determination: 0.8448 - mean_ape: 3.4239 - mean_absolute_error: 0.1661\n",
      "Epoch 139/200\n",
      "29792/29792 [==============================] - 1s 19us/step - loss: 0.0578 - coeff_determination: 0.8449 - mean_ape: 3.4147 - mean_absolute_error: 0.1654\n",
      "Epoch 140/200\n",
      "29792/29792 [==============================] - 1s 19us/step - loss: 0.0596 - coeff_determination: 0.8410 - mean_ape: 3.4482 - mean_absolute_error: 0.1672\n",
      "Epoch 141/200\n",
      "29792/29792 [==============================] - 1s 18us/step - loss: 0.0591 - coeff_determination: 0.8400 - mean_ape: 3.4658 - mean_absolute_error: 0.1679\n",
      "Epoch 142/200\n",
      "29792/29792 [==============================] - 1s 20us/step - loss: 0.0587 - coeff_determination: 0.8418 - mean_ape: 3.4450 - mean_absolute_error: 0.1671\n",
      "Epoch 143/200\n",
      "29792/29792 [==============================] - 1s 18us/step - loss: 0.0567 - coeff_determination: 0.8468 - mean_ape: 3.3888 - mean_absolute_error: 0.1642\n",
      "Epoch 144/200\n",
      "29792/29792 [==============================] - 1s 18us/step - loss: 0.0569 - coeff_determination: 0.8468 - mean_ape: 3.3996 - mean_absolute_error: 0.1647\n",
      "Epoch 145/200\n",
      "29792/29792 [==============================] - 1s 18us/step - loss: 0.0577 - coeff_determination: 0.8450 - mean_ape: 3.4062 - mean_absolute_error: 0.1651\n",
      "Epoch 146/200\n",
      "29792/29792 [==============================] - 1s 19us/step - loss: 0.0577 - coeff_determination: 0.8456 - mean_ape: 3.4275 - mean_absolute_error: 0.1659\n",
      "Epoch 147/200\n",
      "29792/29792 [==============================] - 1s 18us/step - loss: 0.0569 - coeff_determination: 0.8473 - mean_ape: 3.4011 - mean_absolute_error: 0.1648\n",
      "Epoch 148/200\n",
      "29792/29792 [==============================] - 1s 18us/step - loss: 0.0551 - coeff_determination: 0.8541 - mean_ape: 3.3193 - mean_absolute_error: 0.1609\n",
      "Epoch 149/200\n",
      "29792/29792 [==============================] - 1s 18us/step - loss: 0.0571 - coeff_determination: 0.8474 - mean_ape: 3.4096 - mean_absolute_error: 0.1652\n",
      "Epoch 150/200\n",
      "29792/29792 [==============================] - 1s 18us/step - loss: 0.0558 - coeff_determination: 0.8506 - mean_ape: 3.3584 - mean_absolute_error: 0.1627\n",
      "Epoch 151/200\n",
      "29792/29792 [==============================] - 1s 18us/step - loss: 0.0556 - coeff_determination: 0.8518 - mean_ape: 3.3433 - mean_absolute_error: 0.1620\n",
      "Epoch 152/200\n",
      "29792/29792 [==============================] - 1s 19us/step - loss: 0.0555 - coeff_determination: 0.8508 - mean_ape: 3.3379 - mean_absolute_error: 0.1618\n",
      "Epoch 153/200\n",
      "29792/29792 [==============================] - 1s 18us/step - loss: 0.0560 - coeff_determination: 0.8518 - mean_ape: 3.3587 - mean_absolute_error: 0.1627\n",
      "Epoch 154/200\n",
      "29792/29792 [==============================] - 1s 18us/step - loss: 0.0542 - coeff_determination: 0.8543 - mean_ape: 3.3020 - mean_absolute_error: 0.1599\n",
      "Epoch 155/200\n",
      "29792/29792 [==============================] - 1s 19us/step - loss: 0.0551 - coeff_determination: 0.8519 - mean_ape: 3.3299 - mean_absolute_error: 0.1612\n",
      "Epoch 156/200\n",
      "29792/29792 [==============================] - 1s 18us/step - loss: 0.0541 - coeff_determination: 0.8526 - mean_ape: 3.2918 - mean_absolute_error: 0.1595\n",
      "Epoch 157/200\n",
      "29792/29792 [==============================] - 1s 19us/step - loss: 0.0543 - coeff_determination: 0.8535 - mean_ape: 3.3116 - mean_absolute_error: 0.1604\n",
      "Epoch 158/200\n",
      "29792/29792 [==============================] - 1s 18us/step - loss: 0.0543 - coeff_determination: 0.8553 - mean_ape: 3.3070 - mean_absolute_error: 0.1603\n",
      "Epoch 159/200\n",
      "29792/29792 [==============================] - 1s 19us/step - loss: 0.0549 - coeff_determination: 0.8532 - mean_ape: 3.3416 - mean_absolute_error: 0.1618\n",
      "Epoch 160/200\n",
      "29792/29792 [==============================] - 1s 18us/step - loss: 0.0543 - coeff_determination: 0.8555 - mean_ape: 3.3098 - mean_absolute_error: 0.1604\n",
      "Epoch 161/200\n",
      "29792/29792 [==============================] - 1s 19us/step - loss: 0.0530 - coeff_determination: 0.8587 - mean_ape: 3.2593 - mean_absolute_error: 0.1578\n",
      "Epoch 162/200\n",
      "29792/29792 [==============================] - 1s 18us/step - loss: 0.0548 - coeff_determination: 0.8538 - mean_ape: 3.3135 - mean_absolute_error: 0.1606\n",
      "Epoch 163/200\n",
      "29792/29792 [==============================] - 1s 18us/step - loss: 0.0539 - coeff_determination: 0.8538 - mean_ape: 3.2982 - mean_absolute_error: 0.1597\n",
      "Epoch 164/200\n",
      "29792/29792 [==============================] - 1s 18us/step - loss: 0.0528 - coeff_determination: 0.8568 - mean_ape: 3.2538 - mean_absolute_error: 0.1575\n",
      "Epoch 165/200\n",
      "29792/29792 [==============================] - 1s 18us/step - loss: 0.0542 - coeff_determination: 0.8550 - mean_ape: 3.3027 - mean_absolute_error: 0.1600\n",
      "Epoch 166/200\n",
      "29792/29792 [==============================] - 1s 18us/step - loss: 0.0526 - coeff_determination: 0.8592 - mean_ape: 3.2536 - mean_absolute_error: 0.1575\n",
      "Epoch 167/200\n",
      "29792/29792 [==============================] - 1s 18us/step - loss: 0.0535 - coeff_determination: 0.8579 - mean_ape: 3.2786 - mean_absolute_error: 0.1588\n",
      "Epoch 168/200\n",
      "29792/29792 [==============================] - 1s 19us/step - loss: 0.0539 - coeff_determination: 0.8556 - mean_ape: 3.2836 - mean_absolute_error: 0.1592\n",
      "Epoch 169/200\n",
      "29792/29792 [==============================] - 1s 19us/step - loss: 0.0523 - coeff_determination: 0.8589 - mean_ape: 3.2329 - mean_absolute_error: 0.1564\n",
      "Epoch 170/200\n",
      "29792/29792 [==============================] - 1s 19us/step - loss: 0.0517 - coeff_determination: 0.8638 - mean_ape: 3.2273 - mean_absolute_error: 0.1563\n",
      "Epoch 171/200\n",
      "29792/29792 [==============================] - 1s 18us/step - loss: 0.0533 - coeff_determination: 0.8587 - mean_ape: 3.2817 - mean_absolute_error: 0.1591\n",
      "Epoch 172/200\n",
      "29792/29792 [==============================] - 1s 18us/step - loss: 0.0511 - coeff_determination: 0.8630 - mean_ape: 3.1938 - mean_absolute_error: 0.1548\n",
      "Epoch 173/200\n",
      "29792/29792 [==============================] - 1s 18us/step - loss: 0.0515 - coeff_determination: 0.8614 - mean_ape: 3.2174 - mean_absolute_error: 0.1557\n",
      "Epoch 174/200\n",
      "29792/29792 [==============================] - 1s 19us/step - loss: 0.0514 - coeff_determination: 0.8611 - mean_ape: 3.1958 - mean_absolute_error: 0.1549\n",
      "Epoch 175/200\n",
      "29792/29792 [==============================] - 1s 19us/step - loss: 0.0526 - coeff_determination: 0.8596 - mean_ape: 3.2531 - mean_absolute_error: 0.1577\n",
      "Epoch 176/200\n",
      "29792/29792 [==============================] - 1s 19us/step - loss: 0.0537 - coeff_determination: 0.8553 - mean_ape: 3.2792 - mean_absolute_error: 0.1589\n",
      "Epoch 177/200\n",
      "29792/29792 [==============================] - 1s 18us/step - loss: 0.0510 - coeff_determination: 0.8635 - mean_ape: 3.1883 - mean_absolute_error: 0.1544\n",
      "Epoch 178/200\n",
      "29792/29792 [==============================] - 1s 18us/step - loss: 0.0509 - coeff_determination: 0.8644 - mean_ape: 3.1996 - mean_absolute_error: 0.1550\n",
      "Epoch 179/200\n",
      "29792/29792 [==============================] - 1s 19us/step - loss: 0.0505 - coeff_determination: 0.8638 - mean_ape: 3.1691 - mean_absolute_error: 0.1534\n",
      "Epoch 180/200\n",
      "29792/29792 [==============================] - 1s 18us/step - loss: 0.0535 - coeff_determination: 0.8557 - mean_ape: 3.2898 - mean_absolute_error: 0.1594\n",
      "Epoch 181/200\n",
      "29792/29792 [==============================] - 1s 19us/step - loss: 0.0502 - coeff_determination: 0.8643 - mean_ape: 3.1555 - mean_absolute_error: 0.1529\n",
      "Epoch 182/200\n",
      "29792/29792 [==============================] - 1s 18us/step - loss: 0.0509 - coeff_determination: 0.8621 - mean_ape: 3.2091 - mean_absolute_error: 0.1552\n",
      "Epoch 183/200\n",
      "29792/29792 [==============================] - 1s 19us/step - loss: 0.0503 - coeff_determination: 0.8664 - mean_ape: 3.1792 - mean_absolute_error: 0.1538\n",
      "Epoch 184/200\n",
      "29792/29792 [==============================] - 1s 19us/step - loss: 0.0506 - coeff_determination: 0.8659 - mean_ape: 3.1958 - mean_absolute_error: 0.1546\n",
      "Epoch 185/200\n",
      "29792/29792 [==============================] - 1s 19us/step - loss: 0.0507 - coeff_determination: 0.8644 - mean_ape: 3.1860 - mean_absolute_error: 0.1542\n",
      "Epoch 186/200\n",
      "29792/29792 [==============================] - 1s 19us/step - loss: 0.0494 - coeff_determination: 0.8659 - mean_ape: 3.1267 - mean_absolute_error: 0.1514\n",
      "Epoch 187/200\n",
      "29792/29792 [==============================] - 1s 20us/step - loss: 0.0491 - coeff_determination: 0.8675 - mean_ape: 3.1365 - mean_absolute_error: 0.1517\n",
      "Epoch 188/200\n",
      "29792/29792 [==============================] - 1s 19us/step - loss: 0.0507 - coeff_determination: 0.8670 - mean_ape: 3.1705 - mean_absolute_error: 0.1536\n",
      "Epoch 189/200\n"
     ]
    },
    {
     "name": "stdout",
     "output_type": "stream",
     "text": [
      "29792/29792 [==============================] - 1s 19us/step - loss: 0.0528 - coeff_determination: 0.8597 - mean_ape: 3.2713 - mean_absolute_error: 0.1583\n",
      "Epoch 190/200\n",
      "29792/29792 [==============================] - 1s 18us/step - loss: 0.0490 - coeff_determination: 0.8701 - mean_ape: 3.1384 - mean_absolute_error: 0.1519\n",
      "Epoch 191/200\n",
      "29792/29792 [==============================] - 1s 18us/step - loss: 0.0486 - coeff_determination: 0.8699 - mean_ape: 3.1033 - mean_absolute_error: 0.1503\n",
      "Epoch 192/200\n",
      "29792/29792 [==============================] - 1s 18us/step - loss: 0.0478 - coeff_determination: 0.8706 - mean_ape: 3.0675 - mean_absolute_error: 0.1485\n",
      "Epoch 193/200\n",
      "29792/29792 [==============================] - 1s 18us/step - loss: 0.0493 - coeff_determination: 0.8692 - mean_ape: 3.1285 - mean_absolute_error: 0.1514\n",
      "Epoch 194/200\n",
      "29792/29792 [==============================] - 1s 18us/step - loss: 0.0499 - coeff_determination: 0.8664 - mean_ape: 3.1696 - mean_absolute_error: 0.1533\n",
      "Epoch 195/200\n",
      "29792/29792 [==============================] - 1s 18us/step - loss: 0.0489 - coeff_determination: 0.8703 - mean_ape: 3.1291 - mean_absolute_error: 0.1514\n",
      "Epoch 196/200\n",
      "29792/29792 [==============================] - 1s 18us/step - loss: 0.0482 - coeff_determination: 0.8721 - mean_ape: 3.1150 - mean_absolute_error: 0.1507\n",
      "Epoch 197/200\n",
      "29792/29792 [==============================] - 1s 19us/step - loss: 0.0487 - coeff_determination: 0.8714 - mean_ape: 3.1034 - mean_absolute_error: 0.1504\n",
      "Epoch 198/200\n",
      "29792/29792 [==============================] - 1s 18us/step - loss: 0.0493 - coeff_determination: 0.8690 - mean_ape: 3.1328 - mean_absolute_error: 0.1517\n",
      "Epoch 199/200\n",
      "29792/29792 [==============================] - 1s 18us/step - loss: 0.0493 - coeff_determination: 0.8670 - mean_ape: 3.1381 - mean_absolute_error: 0.1518\n",
      "Epoch 200/200\n",
      "29792/29792 [==============================] - 1s 18us/step - loss: 0.0488 - coeff_determination: 0.8685 - mean_ape: 3.1304 - mean_absolute_error: 0.1516\n"
     ]
    }
   ],
   "source": [
    "#Keras model\n",
    "for epochs in [200]:\n",
    "    for batch in [60]:\n",
    "        K.clear_session()\n",
    "        model = keras.models.Sequential();\n",
    "        model.add(keras.layers.core.Dense(units = 50, activation='relu', input_dim = 442));\n",
    "        model.add(keras.layers.core.Dense(units = 25, activation = 'relu'))\n",
    "        model.add(keras.layers.core.Dense(1, activation = 'relu'));\n",
    "        adam = Adam(lr=0.001, beta_1=0.9, beta_2=0.999, epsilon=None, decay=0.0, amsgrad=False);\n",
    "        model.compile(loss=\"mean_squared_error\", optimizer=adam, metrics = [coeff_determination, mean_ape,'mae']);\n",
    "        print(model.summary(), 'Epochs = ', epochs, 'Batch =', batch);\n",
    "        history = model.fit(X_train, Y_train, epochs = epochs, batch_size= batch, verbose = 1);"
   ]
  },
  {
   "cell_type": "code",
   "execution_count": 22,
   "metadata": {
    "scrolled": true
   },
   "outputs": [
    {
     "name": "stdout",
     "output_type": "stream",
     "text": [
      "dict_keys(['loss', 'coeff_determination', 'mean_ape', 'mean_absolute_error'])\n"
     ]
    }
   ],
   "source": [
    "print(history.history.keys())"
   ]
  },
  {
   "cell_type": "code",
   "execution_count": 23,
   "metadata": {},
   "outputs": [
    {
     "name": "stdout",
     "output_type": "stream",
     "text": [
      "[0.18798344592421404, 0.46449811091469767, 5.639996703446576, 0.27752237991928846]\n"
     ]
    }
   ],
   "source": [
    "print(model.evaluate(X_test, Y_test,verbose=False))"
   ]
  },
  {
   "cell_type": "code",
   "execution_count": 24,
   "metadata": {
    "scrolled": true
   },
   "outputs": [
    {
     "data": {
      "text/plain": [
       "5.63999798217945"
      ]
     },
     "execution_count": 24,
     "metadata": {},
     "output_type": "execute_result"
    }
   ],
   "source": [
    "#Predict values\n",
    "Y_predict = model.predict(X_test)"
   ]
  },
  {
   "cell_type": "code",
   "execution_count": 27,
   "metadata": {
    "scrolled": true
   },
   "outputs": [
    {
     "data": {
      "text/plain": [
       "<matplotlib.legend.Legend at 0x1ff9b9f96d8>"
      ]
     },
     "execution_count": 27,
     "metadata": {},
     "output_type": "execute_result"
    },
    {
     "data": {
      "image/png": "[encoded data removed]",
      "text/plain": [
       "<Figure size 432x288 with 1 Axes>"
      ]
     },
     "metadata": {
      "needs_background": "light"
     },
     "output_type": "display_data"
    }
   ],
   "source": [
    "plt.plot(history.history['loss'])\n",
    "plt.title('Model Loss History')\n",
    "plt.ylabel('MSE')\n",
    "plt.xlabel('Epochs')\n",
    "plt.legend(['MSE'])\n"
   ]
  },
  {
   "cell_type": "code",
   "execution_count": 28,
   "metadata": {},
   "outputs": [
    {
     "data": {
      "text/plain": [
       "<matplotlib.legend.Legend at 0x1ff9ba95ba8>"
      ]
     },
     "execution_count": 28,
     "metadata": {},
     "output_type": "execute_result"
    },
    {
     "data": {
      "image/png": "[encoded data removed]",
      "text/plain": [
       "<Figure size 432x288 with 1 Axes>"
      ]
     },
     "metadata": {
      "needs_background": "light"
     },
     "output_type": "display_data"
    }
   ],
   "source": [
    "plt.plot(history.history['mean_ape'])\n",
    "#plt.plot(history.history['mean_ape'])\n",
    "plt.title('MAPE vs Epochs')\n",
    "plt.ylabel('MAPE (%)')\n",
    "plt.xlabel('Epochs')\n",
    "plt.legend(['MAPE'])\n"
   ]
  },
  {
   "cell_type": "code",
   "execution_count": 29,
   "metadata": {},
   "outputs": [
    {
     "name": "stdout",
     "output_type": "stream",
     "text": [
      "6.411328618147735\n"
     ]
    },
    {
     "data": {
      "image/png": "[encoded data removed]",
      "text/plain": [
       "<Figure size 432x288 with 1 Axes>"
      ]
     },
     "metadata": {
      "needs_background": "light"
     },
     "output_type": "display_data"
    }
   ],
   "source": [
    "comparison = np.ravel(np.abs((Y_predict-Y_test)/Y_test*100))\n",
    "abs_comparison = np.abs(comparison)\n",
    "mask = np.where(abs_comparison>0)\n",
    "plt.scatter(range(np.shape(mask)[1]), comparison[mask])\n",
    "plt.axhline(y=mean_apes(Y_predict,Y_test), color='r', linestyle='-')\n",
    "plt.title('Actual vs Predicted')\n",
    "plt.ylabel('Dissociation Constant')\n",
    "plt.xlabel('Index')\n",
    "plt.legend(['% Error', 'MAPE'])\n",
    "plt.text(0.05, 60, 'STD of 9.31%')\n",
    "print(comparison.std())"
   ]
  },
  {
   "cell_type": "code",
   "execution_count": 30,
   "metadata": {},
   "outputs": [
    {
     "data": {
      "text/plain": [
       "Text(40, 800, 'STD of 6.52%')"
      ]
     },
     "execution_count": 30,
     "metadata": {},
     "output_type": "execute_result"
    },
    {
     "name": "stderr",
     "output_type": "stream",
     "text": [
      "C:\\Users\\willi\\Anaconda3\\envs\\data-x\\lib\\site-packages\\matplotlib\\figure.py:2366: UserWarning: This figure includes Axes that are not compatible with tight_layout, so results might be incorrect.\n",
      "  warnings.warn(\"This figure includes Axes that are not compatible \"\n"
     ]
    },
    {
     "data": {
      "image/png": "[encoded data removed]",
      "text/plain": [
       "<Figure size 432x288 with 1 Axes>"
      ]
     },
     "metadata": {
      "needs_background": "light"
     },
     "output_type": "display_data"
    }
   ],
   "source": [
    "fig, ax= plt.subplots(1, 1,tight_layout=True)\n",
    "ax.hist(comparison,np.linspace(0,50,26))\n",
    "ax.set_xlabel('APE %')\n",
    "ax.set_ylabel('Frequency')\n",
    "ax.set_title('APE Histogram 450 Features')\n",
    "plt.text(40, 800, 'STD of 6.52%')"
   ]
  },
  {
   "cell_type": "code",
   "execution_count": 31,
   "metadata": {},
   "outputs": [],
   "source": [
    "graph_data = pd.DataFrame({'APE':comparison,'Label':Y_test_labels})"
   ]
  },
  {
   "cell_type": "code",
   "execution_count": 32,
   "metadata": {},
   "outputs": [
    {
     "data": {
      "text/html": [
       "<div>\n",
       "<style scoped>\n",
       "    .dataframe tbody tr th:only-of-type {\n",
       "        vertical-align: middle;\n",
       "    }\n",
       "\n",
       "    .dataframe tbody tr th {\n",
       "        vertical-align: top;\n",
       "    }\n",
       "\n",
       "    .dataframe thead th {\n",
       "        text-align: right;\n",
       "    }\n",
       "</style>\n",
       "<table border=\"1\" class=\"dataframe\">\n",
       "  <thead>\n",
       "    <tr style=\"text-align: right;\">\n",
       "      <th></th>\n",
       "      <th>APE</th>\n",
       "      <th>Label</th>\n",
       "    </tr>\n",
       "  </thead>\n",
       "  <tbody>\n",
       "    <tr>\n",
       "      <th>0</th>\n",
       "      <td>9.869471</td>\n",
       "      <td>0.0</td>\n",
       "    </tr>\n",
       "    <tr>\n",
       "      <th>1</th>\n",
       "      <td>0.530170</td>\n",
       "      <td>6.0</td>\n",
       "    </tr>\n",
       "    <tr>\n",
       "      <th>2</th>\n",
       "      <td>0.881458</td>\n",
       "      <td>1.0</td>\n",
       "    </tr>\n",
       "    <tr>\n",
       "      <th>3</th>\n",
       "      <td>2.614926</td>\n",
       "      <td>0.0</td>\n",
       "    </tr>\n",
       "    <tr>\n",
       "      <th>4</th>\n",
       "      <td>1.190086</td>\n",
       "      <td>9.0</td>\n",
       "    </tr>\n",
       "  </tbody>\n",
       "</table>\n",
       "</div>"
      ],
      "text/plain": [
       "        APE  Label\n",
       "0  9.869471    0.0\n",
       "1  0.530170    6.0\n",
       "2  0.881458    1.0\n",
       "3  2.614926    0.0\n",
       "4  1.190086    9.0"
      ]
     },
     "execution_count": 32,
     "metadata": {},
     "output_type": "execute_result"
    }
   ],
   "source": [
    "graph_data.head()"
   ]
  },
  {
   "cell_type": "code",
   "execution_count": 33,
   "metadata": {},
   "outputs": [],
   "source": [
    "graph_data = graph_data.sort_values('Label')"
   ]
  },
  {
   "cell_type": "code",
   "execution_count": 34,
   "metadata": {},
   "outputs": [
    {
     "data": {
      "text/html": [
       "<div>\n",
       "<style scoped>\n",
       "    .dataframe tbody tr th:only-of-type {\n",
       "        vertical-align: middle;\n",
       "    }\n",
       "\n",
       "    .dataframe tbody tr th {\n",
       "        vertical-align: top;\n",
       "    }\n",
       "\n",
       "    .dataframe thead th {\n",
       "        text-align: right;\n",
       "    }\n",
       "</style>\n",
       "<table border=\"1\" class=\"dataframe\">\n",
       "  <thead>\n",
       "    <tr style=\"text-align: right;\">\n",
       "      <th></th>\n",
       "      <th>APE</th>\n",
       "      <th>Label</th>\n",
       "    </tr>\n",
       "  </thead>\n",
       "  <tbody>\n",
       "    <tr>\n",
       "      <th>0</th>\n",
       "      <td>9.869471</td>\n",
       "      <td>0.0</td>\n",
       "    </tr>\n",
       "    <tr>\n",
       "      <th>2184</th>\n",
       "      <td>8.071828</td>\n",
       "      <td>0.0</td>\n",
       "    </tr>\n",
       "    <tr>\n",
       "      <th>5788</th>\n",
       "      <td>0.217375</td>\n",
       "      <td>0.0</td>\n",
       "    </tr>\n",
       "    <tr>\n",
       "      <th>2178</th>\n",
       "      <td>8.794463</td>\n",
       "      <td>0.0</td>\n",
       "    </tr>\n",
       "    <tr>\n",
       "      <th>2177</th>\n",
       "      <td>13.706684</td>\n",
       "      <td>0.0</td>\n",
       "    </tr>\n",
       "  </tbody>\n",
       "</table>\n",
       "</div>"
      ],
      "text/plain": [
       "            APE  Label\n",
       "0      9.869471    0.0\n",
       "2184   8.071828    0.0\n",
       "5788   0.217375    0.0\n",
       "2178   8.794463    0.0\n",
       "2177  13.706684    0.0"
      ]
     },
     "execution_count": 34,
     "metadata": {},
     "output_type": "execute_result"
    }
   ],
   "source": [
    "graph_data.head()"
   ]
  },
  {
   "cell_type": "code",
   "execution_count": 35,
   "metadata": {},
   "outputs": [
    {
     "data": {
      "image/png": "[encoded data removed]",
      "text/plain": [
       "<Figure size 1080x360 with 10 Axes>"
      ]
     },
     "metadata": {
      "needs_background": "light"
     },
     "output_type": "display_data"
    }
   ],
   "source": [
    "#Generate APE histogram for clusters\n",
    "fig, ax= plt.subplots(2, 5,tight_layout=True, figsize= (15,5))\n",
    "for cluster_label in range(0,5):\n",
    "    title = 'APE Histogram Cluster Label ' + str(cluster_label)\n",
    "    ax[0,cluster_label].hist(graph_data[graph_data['Label']== cluster_label]['APE'],np.linspace(0,50,26))\n",
    "    ax[0,cluster_label].set_xlabel('APE %')\n",
    "    ax[0,cluster_label].set_ylabel('Frequency')\n",
    "    ax[0,cluster_label].set_title(title)\n",
    "for cluster_label in range(0,5):\n",
    "    title = 'APE Histogram Cluster Label ' + str(cluster_label+5)\n",
    "    ax[1,cluster_label].hist(graph_data[graph_data['Label']== cluster_label]['APE'],np.linspace(0,50,26))\n",
    "    ax[1,cluster_label].set_xlabel('APE %')\n",
    "    ax[1,cluster_label].set_ylabel('Frequency')\n",
    "    ax[1,cluster_label].set_title(title)"
   ]
  },
  {
   "cell_type": "code",
   "execution_count": 36,
   "metadata": {},
   "outputs": [
    {
     "data": {
      "text/plain": [
       "array([1459.,  294.,  848., 1249.,   47.,  862., 1280.,  611.,   84.,\n",
       "        715.])"
      ]
     },
     "execution_count": 36,
     "metadata": {},
     "output_type": "execute_result"
    }
   ],
   "source": [
    "#determine frequency in each cluster and average mape of each cluster\n",
    "MAPE = []\n",
    "numb = []\n",
    "for cluster_label in range(0,10):\n",
    "    avg = graph_data[graph_data['Label']== cluster_label]['APE'].mean()\n",
    "    MAPE = np.append(MAPE,avg)\n",
    "for cluster_label in range(0,10):\n",
    "    freq = len(graph_data[graph_data['Label']== cluster_label]['APE'])\n",
    "    numb = np.append(numb,freq)\n",
    "numb"
   ]
  },
  {
   "cell_type": "code",
   "execution_count": 37,
   "metadata": {},
   "outputs": [
    {
     "data": {
      "text/plain": [
       "Text(0.5, 0, 'Cluster')"
      ]
     },
     "execution_count": 37,
     "metadata": {},
     "output_type": "execute_result"
    },
    {
     "data": {
      "image/png": "[encoded data removed]",
      "text/plain": [
       "<Figure size 720x216 with 2 Axes>"
      ]
     },
     "metadata": {
      "needs_background": "light"
     },
     "output_type": "display_data"
    }
   ],
   "source": [
    "#Plot average mape/frequency of each cluster\n",
    "fig, ax= plt.subplots(1, 2,tight_layout=True, figsize= (10,3))\n",
    "ax[0].plot(np.linspace(0,9,10),MAPE)\n",
    "#plt.plot(history.history['mean_ape'])\n",
    "ax[0].set_title('MAPE vs Cluster')\n",
    "ax[0].set_ylabel('MAPE (%)')\n",
    "ax[0].set_xlabel('Cluster')\n",
    "ax[1].plot(np.linspace(0,9,10),numb)\n",
    "#plt.plot(history.history['mean_ape'])\n",
    "ax[1].set_title('Frequency vs Cluster')\n",
    "ax[1].set_ylabel('Frequency')\n",
    "ax[1].set_xlabel('Cluster')"
   ]
  },
  {
   "cell_type": "code",
   "execution_count": null,
   "metadata": {},
   "outputs": [],
   "source": []
  }
 ],
 "metadata": {
  "kernelspec": {
   "display_name": "Python 3",
   "language": "python",
   "name": "python3"
  },
  "language_info": {
   "codemirror_mode": {
    "name": "ipython",
    "version": 3
   },
   "file_extension": ".py",
   "mimetype": "text/x-python",
   "name": "python",
   "nbconvert_exporter": "python",
   "pygments_lexer": "ipython3",
   "version": "3.6.7"
  }
 },
 "nbformat": 4,
 "nbformat_minor": 2
}
