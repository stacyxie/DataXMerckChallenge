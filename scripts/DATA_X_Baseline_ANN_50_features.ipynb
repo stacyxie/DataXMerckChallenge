{
 "cells": [
  {
   "cell_type": "code",
   "execution_count": 35,
   "metadata": {},
   "outputs": [],
   "source": [
    "import pandas as pd\n",
    "import matplotlib.pyplot as plt\n",
    "%matplotlib inline"
   ]
  },
  {
   "cell_type": "code",
   "execution_count": 36,
   "metadata": {},
   "outputs": [],
   "source": [
    "train_1 = pd.read_csv('ACT1_train_50_corr_red.csv')"
   ]
  },
  {
   "cell_type": "code",
   "execution_count": 37,
   "metadata": {},
   "outputs": [
    {
     "data": {
      "text/html": [
       "<div>\n",
       "<style scoped>\n",
       "    .dataframe tbody tr th:only-of-type {\n",
       "        vertical-align: middle;\n",
       "    }\n",
       "\n",
       "    .dataframe tbody tr th {\n",
       "        vertical-align: top;\n",
       "    }\n",
       "\n",
       "    .dataframe thead th {\n",
       "        text-align: right;\n",
       "    }\n",
       "</style>\n",
       "<table border=\"1\" class=\"dataframe\">\n",
       "  <thead>\n",
       "    <tr style=\"text-align: right;\">\n",
       "      <th></th>\n",
       "      <th>Unnamed: 0</th>\n",
       "      <th>Act</th>\n",
       "      <th>D_1114</th>\n",
       "      <th>D_1115</th>\n",
       "      <th>D_1116</th>\n",
       "      <th>D_1117</th>\n",
       "      <th>D_1215</th>\n",
       "      <th>D_1217</th>\n",
       "      <th>D_1286</th>\n",
       "      <th>D_1486</th>\n",
       "      <th>...</th>\n",
       "      <th>D_519</th>\n",
       "      <th>D_520</th>\n",
       "      <th>D_521</th>\n",
       "      <th>D_5523</th>\n",
       "      <th>D_5524</th>\n",
       "      <th>D_5526</th>\n",
       "      <th>D_5527</th>\n",
       "      <th>D_7349</th>\n",
       "      <th>D_834</th>\n",
       "      <th>D_835</th>\n",
       "    </tr>\n",
       "  </thead>\n",
       "  <tbody>\n",
       "    <tr>\n",
       "      <th>0</th>\n",
       "      <td>0</td>\n",
       "      <td>6.0179</td>\n",
       "      <td>0</td>\n",
       "      <td>0</td>\n",
       "      <td>0</td>\n",
       "      <td>0</td>\n",
       "      <td>5</td>\n",
       "      <td>4</td>\n",
       "      <td>0</td>\n",
       "      <td>0</td>\n",
       "      <td>...</td>\n",
       "      <td>0</td>\n",
       "      <td>0</td>\n",
       "      <td>0</td>\n",
       "      <td>0</td>\n",
       "      <td>0</td>\n",
       "      <td>0</td>\n",
       "      <td>0</td>\n",
       "      <td>0</td>\n",
       "      <td>0</td>\n",
       "      <td>0</td>\n",
       "    </tr>\n",
       "    <tr>\n",
       "      <th>1</th>\n",
       "      <td>1</td>\n",
       "      <td>4.3003</td>\n",
       "      <td>0</td>\n",
       "      <td>0</td>\n",
       "      <td>0</td>\n",
       "      <td>0</td>\n",
       "      <td>3</td>\n",
       "      <td>2</td>\n",
       "      <td>0</td>\n",
       "      <td>0</td>\n",
       "      <td>...</td>\n",
       "      <td>0</td>\n",
       "      <td>0</td>\n",
       "      <td>0</td>\n",
       "      <td>1</td>\n",
       "      <td>1</td>\n",
       "      <td>0</td>\n",
       "      <td>1</td>\n",
       "      <td>0</td>\n",
       "      <td>0</td>\n",
       "      <td>0</td>\n",
       "    </tr>\n",
       "    <tr>\n",
       "      <th>2</th>\n",
       "      <td>2</td>\n",
       "      <td>5.2697</td>\n",
       "      <td>0</td>\n",
       "      <td>0</td>\n",
       "      <td>0</td>\n",
       "      <td>0</td>\n",
       "      <td>3</td>\n",
       "      <td>3</td>\n",
       "      <td>0</td>\n",
       "      <td>0</td>\n",
       "      <td>...</td>\n",
       "      <td>0</td>\n",
       "      <td>0</td>\n",
       "      <td>0</td>\n",
       "      <td>0</td>\n",
       "      <td>0</td>\n",
       "      <td>0</td>\n",
       "      <td>0</td>\n",
       "      <td>0</td>\n",
       "      <td>0</td>\n",
       "      <td>0</td>\n",
       "    </tr>\n",
       "    <tr>\n",
       "      <th>3</th>\n",
       "      <td>3</td>\n",
       "      <td>6.1797</td>\n",
       "      <td>0</td>\n",
       "      <td>0</td>\n",
       "      <td>0</td>\n",
       "      <td>0</td>\n",
       "      <td>5</td>\n",
       "      <td>5</td>\n",
       "      <td>0</td>\n",
       "      <td>0</td>\n",
       "      <td>...</td>\n",
       "      <td>0</td>\n",
       "      <td>0</td>\n",
       "      <td>0</td>\n",
       "      <td>4</td>\n",
       "      <td>4</td>\n",
       "      <td>2</td>\n",
       "      <td>3</td>\n",
       "      <td>1</td>\n",
       "      <td>0</td>\n",
       "      <td>0</td>\n",
       "    </tr>\n",
       "    <tr>\n",
       "      <th>4</th>\n",
       "      <td>4</td>\n",
       "      <td>4.3003</td>\n",
       "      <td>0</td>\n",
       "      <td>0</td>\n",
       "      <td>0</td>\n",
       "      <td>0</td>\n",
       "      <td>4</td>\n",
       "      <td>2</td>\n",
       "      <td>3</td>\n",
       "      <td>0</td>\n",
       "      <td>...</td>\n",
       "      <td>0</td>\n",
       "      <td>0</td>\n",
       "      <td>0</td>\n",
       "      <td>3</td>\n",
       "      <td>0</td>\n",
       "      <td>0</td>\n",
       "      <td>0</td>\n",
       "      <td>2</td>\n",
       "      <td>0</td>\n",
       "      <td>0</td>\n",
       "    </tr>\n",
       "  </tbody>\n",
       "</table>\n",
       "<p>5 rows × 51 columns</p>\n",
       "</div>"
      ],
      "text/plain": [
       "   Unnamed: 0     Act  D_1114  D_1115  D_1116  D_1117  D_1215  D_1217  D_1286  \\\n",
       "0           0  6.0179       0       0       0       0       5       4       0   \n",
       "1           1  4.3003       0       0       0       0       3       2       0   \n",
       "2           2  5.2697       0       0       0       0       3       3       0   \n",
       "3           3  6.1797       0       0       0       0       5       5       0   \n",
       "4           4  4.3003       0       0       0       0       4       2       3   \n",
       "\n",
       "   D_1486  ...    D_519  D_520  D_521  D_5523  D_5524  D_5526  D_5527  D_7349  \\\n",
       "0       0  ...        0      0      0       0       0       0       0       0   \n",
       "1       0  ...        0      0      0       1       1       0       1       0   \n",
       "2       0  ...        0      0      0       0       0       0       0       0   \n",
       "3       0  ...        0      0      0       4       4       2       3       1   \n",
       "4       0  ...        0      0      0       3       0       0       0       2   \n",
       "\n",
       "   D_834  D_835  \n",
       "0      0      0  \n",
       "1      0      0  \n",
       "2      0      0  \n",
       "3      0      0  \n",
       "4      0      0  \n",
       "\n",
       "[5 rows x 51 columns]"
      ]
     },
     "execution_count": 37,
     "metadata": {},
     "output_type": "execute_result"
    }
   ],
   "source": [
    "train_1.head(5)"
   ]
  },
  {
   "cell_type": "code",
   "execution_count": 38,
   "metadata": {},
   "outputs": [],
   "source": [
    "from sklearn.model_selection import train_test_split\n",
    "import numpy as np\n",
    "y = train_1['Act'].values\n",
    "train_1 = train_1.drop(['Act', 'Unnamed: 0'], axis = 1)\n",
    "x = train_1.values\n",
    "X_train, X_test, Y_train, Y_test = train_test_split(x, y, test_size = 0.20, random_state = 0)\n",
    "X_train, X_val, Y_train, Y_val = train_test_split(X_train, Y_train, test_size=0.25, random_state=0)\n"
   ]
  },
  {
   "cell_type": "code",
   "execution_count": 39,
   "metadata": {},
   "outputs": [
    {
     "name": "stdout",
     "output_type": "stream",
     "text": [
      "(22344,) (22344, 49) (7449,) (7449, 49)\n"
     ]
    }
   ],
   "source": [
    "print(np.shape(Y_train), np.shape(X_train), np.shape(Y_test), np.shape(X_test))\n",
    "Y_train = np.reshape(Y_train,(len(Y_train),1))\n",
    "Y_test = np.reshape(Y_test,(len(Y_test),1))\n"
   ]
  },
  {
   "cell_type": "code",
   "execution_count": 40,
   "metadata": {},
   "outputs": [],
   "source": [
    "def r_square(X, Y):\n",
    "    \"\"\" r^2 value defined by the competition host, r^2 = 1 indicates 100% prediction accuracy\n",
    "    \"\"\"\n",
    "    avx = np.mean(X)\n",
    "    avy = np.mean(Y)\n",
    "    sum1, sumx, sumy = 0, 0, 0\n",
    "    for i in range(len(X)):\n",
    "        sum1 += (X[i] - avx)*(Y[i] - avy)\n",
    "        sumx += (X[i] - avx)*(X[i] - avx)\n",
    "        sumy += (Y[i] - avy)*(Y[i] - avy)\n",
    "    print(len(X), sum1, sumx, sumy)\n",
    "    return sum1*sum1/(sumx*sumy)"
   ]
  },
  {
   "cell_type": "code",
   "execution_count": 41,
   "metadata": {},
   "outputs": [],
   "source": [
    "from keras import backend as K\n",
    "#Keras R_2 function\n",
    "R_2 = []\n",
    "def coeff_determination(y_true, y_pred):\n",
    "    SS_res =  K.sum(K.square( y_true-y_pred )) \n",
    "    SS_tot = K.sum(K.square( y_true - K.mean(y_true) ) ) \n",
    "    return ( 1 - SS_res/(SS_tot + K.epsilon()) )"
   ]
  },
  {
   "cell_type": "code",
   "execution_count": 42,
   "metadata": {},
   "outputs": [],
   "source": [
    "from sklearn.metrics import make_scorer\n",
    "#Keras MAPE function\n",
    "MAPE = []\n",
    "def mean_ape(y_true, y_pred):\n",
    "    return K.mean(K.abs((y_true-y_pred)/y_true))*100\n",
    "#Scikit learn mape function\n",
    "def mean_apes(y_true, y_pred):\n",
    "    return np.mean(np.abs((y_true-y_pred)/y_true))*100\n",
    "mape_func = make_scorer(mean_apes)"
   ]
  },
  {
   "cell_type": "code",
   "execution_count": 43,
   "metadata": {},
   "outputs": [],
   "source": [
    "from tensorflow.keras.models import Sequential\n",
    "import keras\n",
    "from tensorflow.keras.layers import Dense\n",
    "from keras.optimizers import Adam \n",
    "from tensorflow.keras.wrappers.scikit_learn import KerasRegressor\n",
    "from scipy.stats import randint"
   ]
  },
  {
   "cell_type": "code",
   "execution_count": 51,
   "metadata": {},
   "outputs": [
    {
     "name": "stdout",
     "output_type": "stream",
     "text": [
      "_________________________________________________________________\n",
      "Layer (type)                 Output Shape              Param #   \n",
      "=================================================================\n",
      "dense_1 (Dense)              (None, 40)                2000      \n",
      "_________________________________________________________________\n",
      "dense_2 (Dense)              (None, 20)                820       \n",
      "_________________________________________________________________\n",
      "dense_3 (Dense)              (None, 1)                 21        \n",
      "=================================================================\n",
      "Total params: 2,841\n",
      "Trainable params: 2,841\n",
      "Non-trainable params: 0\n",
      "_________________________________________________________________\n",
      "None Epochs =  100 Batch = 50\n",
      "Epoch 1/100\n",
      "22344/22344 [==============================] - 1s 29us/step - loss: 0.6993 - coeff_determination: -0.9982 - mean_ape: 12.1986 - mean_absolute_error: 0.5866\n",
      "Epoch 2/100\n",
      "22344/22344 [==============================] - 0s 20us/step - loss: 0.2822 - coeff_determination: 0.2551 - mean_ape: 7.7413 - mean_absolute_error: 0.3822\n",
      "Epoch 3/100\n",
      "22344/22344 [==============================] - 0s 21us/step - loss: 0.2693 - coeff_determination: 0.2923 - mean_ape: 7.5598 - mean_absolute_error: 0.3733\n",
      "Epoch 4/100\n",
      "22344/22344 [==============================] - 0s 20us/step - loss: 0.2696 - coeff_determination: 0.2976 - mean_ape: 7.4683 - mean_absolute_error: 0.3693\n",
      "Epoch 5/100\n",
      "22344/22344 [==============================] - 0s 21us/step - loss: 0.2661 - coeff_determination: 0.3051 - mean_ape: 7.3741 - mean_absolute_error: 0.3651\n",
      "Epoch 6/100\n",
      "22344/22344 [==============================] - 0s 19us/step - loss: 0.2566 - coeff_determination: 0.3249 - mean_ape: 7.2410 - mean_absolute_error: 0.3584\n",
      "Epoch 7/100\n",
      "22344/22344 [==============================] - 0s 18us/step - loss: 0.2553 - coeff_determination: 0.3362 - mean_ape: 7.2432 - mean_absolute_error: 0.3581\n",
      "Epoch 8/100\n",
      "22344/22344 [==============================] - 0s 18us/step - loss: 0.2552 - coeff_determination: 0.3217 - mean_ape: 7.2459 - mean_absolute_error: 0.3585\n",
      "Epoch 9/100\n",
      "22344/22344 [==============================] - 0s 18us/step - loss: 0.2533 - coeff_determination: 0.3349 - mean_ape: 7.2218 - mean_absolute_error: 0.3571\n",
      "Epoch 10/100\n",
      "22344/22344 [==============================] - 0s 19us/step - loss: 0.2490 - coeff_determination: 0.3468 - mean_ape: 7.1595 - mean_absolute_error: 0.3539\n",
      "Epoch 11/100\n",
      "22344/22344 [==============================] - 0s 18us/step - loss: 0.2472 - coeff_determination: 0.3465 - mean_ape: 7.1311 - mean_absolute_error: 0.3528\n",
      "Epoch 12/100\n",
      "22344/22344 [==============================] - 0s 19us/step - loss: 0.2394 - coeff_determination: 0.3720 - mean_ape: 7.0050 - mean_absolute_error: 0.3465\n",
      "Epoch 13/100\n",
      "22344/22344 [==============================] - 0s 18us/step - loss: 0.2435 - coeff_determination: 0.3550 - mean_ape: 7.0668 - mean_absolute_error: 0.3493\n",
      "Epoch 14/100\n",
      "22344/22344 [==============================] - 0s 20us/step - loss: 0.2366 - coeff_determination: 0.3730 - mean_ape: 7.0054 - mean_absolute_error: 0.3460\n",
      "Epoch 15/100\n",
      "22344/22344 [==============================] - 0s 22us/step - loss: 0.2431 - coeff_determination: 0.3598 - mean_ape: 7.0688 - mean_absolute_error: 0.3495\n",
      "Epoch 16/100\n",
      "22344/22344 [==============================] - 1s 26us/step - loss: 0.2408 - coeff_determination: 0.3700 - mean_ape: 7.0695 - mean_absolute_error: 0.3491\n",
      "Epoch 17/100\n",
      "22344/22344 [==============================] - 1s 22us/step - loss: 0.2389 - coeff_determination: 0.3651 - mean_ape: 7.0250 - mean_absolute_error: 0.3472\n",
      "Epoch 18/100\n",
      "22344/22344 [==============================] - 1s 23us/step - loss: 0.2339 - coeff_determination: 0.3910 - mean_ape: 6.9313 - mean_absolute_error: 0.3428\n",
      "Epoch 19/100\n",
      "22344/22344 [==============================] - 0s 20us/step - loss: 0.2360 - coeff_determination: 0.3780 - mean_ape: 6.9569 - mean_absolute_error: 0.3438\n",
      "Epoch 20/100\n",
      "22344/22344 [==============================] - 1s 23us/step - loss: 0.2384 - coeff_determination: 0.3775 - mean_ape: 6.9929 - mean_absolute_error: 0.3457\n",
      "Epoch 21/100\n",
      "22344/22344 [==============================] - 0s 22us/step - loss: 0.2303 - coeff_determination: 0.3927 - mean_ape: 6.8497 - mean_absolute_error: 0.3385\n",
      "Epoch 22/100\n",
      "22344/22344 [==============================] - 0s 21us/step - loss: 0.2320 - coeff_determination: 0.3908 - mean_ape: 6.8731 - mean_absolute_error: 0.3398\n",
      "Epoch 23/100\n",
      "22344/22344 [==============================] - 0s 20us/step - loss: 0.2276 - coeff_determination: 0.4039 - mean_ape: 6.8153 - mean_absolute_error: 0.3369\n",
      "Epoch 24/100\n",
      "22344/22344 [==============================] - 0s 21us/step - loss: 0.2300 - coeff_determination: 0.3968 - mean_ape: 6.8535 - mean_absolute_error: 0.3385\n",
      "Epoch 25/100\n",
      "22344/22344 [==============================] - 0s 20us/step - loss: 0.2266 - coeff_determination: 0.4028 - mean_ape: 6.7998 - mean_absolute_error: 0.3360\n",
      "Epoch 26/100\n",
      "22344/22344 [==============================] - 0s 19us/step - loss: 0.2250 - coeff_determination: 0.4068 - mean_ape: 6.7873 - mean_absolute_error: 0.3353\n",
      "Epoch 27/100\n",
      "22344/22344 [==============================] - 0s 20us/step - loss: 0.2224 - coeff_determination: 0.4123 - mean_ape: 6.7318 - mean_absolute_error: 0.3325\n",
      "Epoch 28/100\n",
      "22344/22344 [==============================] - 0s 20us/step - loss: 0.2215 - coeff_determination: 0.4199 - mean_ape: 6.7415 - mean_absolute_error: 0.3328\n",
      "Epoch 29/100\n",
      "22344/22344 [==============================] - 0s 21us/step - loss: 0.2216 - coeff_determination: 0.4120 - mean_ape: 6.7365 - mean_absolute_error: 0.3329\n",
      "Epoch 30/100\n",
      "22344/22344 [==============================] - 0s 20us/step - loss: 0.2194 - coeff_determination: 0.4228 - mean_ape: 6.6989 - mean_absolute_error: 0.3306\n",
      "Epoch 31/100\n",
      "22344/22344 [==============================] - 0s 21us/step - loss: 0.2201 - coeff_determination: 0.4143 - mean_ape: 6.7039 - mean_absolute_error: 0.3311\n",
      "Epoch 32/100\n",
      "22344/22344 [==============================] - 0s 19us/step - loss: 0.2192 - coeff_determination: 0.4175 - mean_ape: 6.6992 - mean_absolute_error: 0.3307\n",
      "Epoch 33/100\n",
      "22344/22344 [==============================] - 0s 21us/step - loss: 0.2169 - coeff_determination: 0.4232 - mean_ape: 6.6569 - mean_absolute_error: 0.3287\n",
      "Epoch 34/100\n",
      "22344/22344 [==============================] - 0s 21us/step - loss: 0.2167 - coeff_determination: 0.4226 - mean_ape: 6.6573 - mean_absolute_error: 0.3286\n",
      "Epoch 35/100\n",
      "22344/22344 [==============================] - 0s 20us/step - loss: 0.2161 - coeff_determination: 0.4301 - mean_ape: 6.6314 - mean_absolute_error: 0.3276\n",
      "Epoch 36/100\n",
      "22344/22344 [==============================] - 0s 19us/step - loss: 0.2171 - coeff_determination: 0.4253 - mean_ape: 6.6474 - mean_absolute_error: 0.3285\n",
      "Epoch 37/100\n",
      "22344/22344 [==============================] - 0s 19us/step - loss: 0.2124 - coeff_determination: 0.4297 - mean_ape: 6.5900 - mean_absolute_error: 0.3254\n",
      "Epoch 38/100\n",
      "22344/22344 [==============================] - 0s 21us/step - loss: 0.2148 - coeff_determination: 0.4375 - mean_ape: 6.6031 - mean_absolute_error: 0.3262\n",
      "Epoch 39/100\n",
      "22344/22344 [==============================] - 0s 20us/step - loss: 0.2154 - coeff_determination: 0.4353 - mean_ape: 6.6315 - mean_absolute_error: 0.3276\n",
      "Epoch 40/100\n",
      "22344/22344 [==============================] - 0s 21us/step - loss: 0.2129 - coeff_determination: 0.4396 - mean_ape: 6.5743 - mean_absolute_error: 0.3249\n",
      "Epoch 41/100\n",
      "22344/22344 [==============================] - 0s 19us/step - loss: 0.2126 - coeff_determination: 0.4358 - mean_ape: 6.5874 - mean_absolute_error: 0.3254\n",
      "Epoch 42/100\n",
      "22344/22344 [==============================] - 0s 17us/step - loss: 0.2118 - coeff_determination: 0.4367 - mean_ape: 6.5744 - mean_absolute_error: 0.3247\n",
      "Epoch 43/100\n",
      "22344/22344 [==============================] - 0s 17us/step - loss: 0.2127 - coeff_determination: 0.4264 - mean_ape: 6.5762 - mean_absolute_error: 0.3250\n",
      "Epoch 44/100\n",
      "22344/22344 [==============================] - 0s 17us/step - loss: 0.2110 - coeff_determination: 0.4426 - mean_ape: 6.5357 - mean_absolute_error: 0.3229\n",
      "Epoch 45/100\n",
      "22344/22344 [==============================] - 0s 18us/step - loss: 0.2095 - coeff_determination: 0.4432 - mean_ape: 6.5410 - mean_absolute_error: 0.3229\n",
      "Epoch 46/100\n",
      "22344/22344 [==============================] - 0s 17us/step - loss: 0.2114 - coeff_determination: 0.4474 - mean_ape: 6.5264 - mean_absolute_error: 0.3226\n",
      "Epoch 47/100\n",
      "22344/22344 [==============================] - 0s 17us/step - loss: 0.2088 - coeff_determination: 0.4479 - mean_ape: 6.5196 - mean_absolute_error: 0.3219\n",
      "Epoch 48/100\n",
      "22344/22344 [==============================] - 0s 20us/step - loss: 0.2093 - coeff_determination: 0.4330 - mean_ape: 6.4981 - mean_absolute_error: 0.3210\n",
      "Epoch 49/100\n",
      "22344/22344 [==============================] - 0s 20us/step - loss: 0.2088 - coeff_determination: 0.4466 - mean_ape: 6.5061 - mean_absolute_error: 0.3213\n",
      "Epoch 50/100\n",
      "22344/22344 [==============================] - 0s 18us/step - loss: 0.2090 - coeff_determination: 0.4443 - mean_ape: 6.4909 - mean_absolute_error: 0.3207\n",
      "Epoch 51/100\n",
      "22344/22344 [==============================] - 0s 19us/step - loss: 0.2098 - coeff_determination: 0.4461 - mean_ape: 6.5204 - mean_absolute_error: 0.3225\n",
      "Epoch 52/100\n",
      "22344/22344 [==============================] - 0s 19us/step - loss: 0.2077 - coeff_determination: 0.4481 - mean_ape: 6.5004 - mean_absolute_error: 0.3211\n",
      "Epoch 53/100\n",
      "22344/22344 [==============================] - 0s 18us/step - loss: 0.2073 - coeff_determination: 0.4514 - mean_ape: 6.4934 - mean_absolute_error: 0.3207\n",
      "Epoch 54/100\n",
      "22344/22344 [==============================] - 0s 19us/step - loss: 0.2065 - coeff_determination: 0.4541 - mean_ape: 6.4567 - mean_absolute_error: 0.3191\n",
      "Epoch 55/100\n",
      "22344/22344 [==============================] - 0s 21us/step - loss: 0.2087 - coeff_determination: 0.4464 - mean_ape: 6.4988 - mean_absolute_error: 0.3211\n",
      "Epoch 56/100\n",
      "22344/22344 [==============================] - 0s 19us/step - loss: 0.2046 - coeff_determination: 0.4626 - mean_ape: 6.4538 - mean_absolute_error: 0.3187\n",
      "Epoch 57/100\n",
      "22344/22344 [==============================] - 0s 20us/step - loss: 0.2056 - coeff_determination: 0.4524 - mean_ape: 6.4699 - mean_absolute_error: 0.3197\n",
      "Epoch 58/100\n",
      "22344/22344 [==============================] - 0s 21us/step - loss: 0.2050 - coeff_determination: 0.4517 - mean_ape: 6.4852 - mean_absolute_error: 0.3202\n",
      "Epoch 59/100\n",
      "22344/22344 [==============================] - 0s 20us/step - loss: 0.2043 - coeff_determination: 0.4563 - mean_ape: 6.4558 - mean_absolute_error: 0.3188\n",
      "Epoch 60/100\n",
      "22344/22344 [==============================] - 0s 19us/step - loss: 0.2037 - coeff_determination: 0.4562 - mean_ape: 6.4262 - mean_absolute_error: 0.3174\n",
      "Epoch 61/100\n",
      "22344/22344 [==============================] - 0s 19us/step - loss: 0.2055 - coeff_determination: 0.4591 - mean_ape: 6.4510 - mean_absolute_error: 0.3187 0s - loss: 0.1990 - coeff_determination: 0.4840 - mean_ape: 6.3598 - mean_absolu\n",
      "Epoch 62/100\n",
      "22344/22344 [==============================] - 0s 19us/step - loss: 0.2047 - coeff_determination: 0.4604 - mean_ape: 6.4322 - mean_absolute_error: 0.3179\n",
      "Epoch 63/100\n",
      "22344/22344 [==============================] - 0s 19us/step - loss: 0.2023 - coeff_determination: 0.4645 - mean_ape: 6.4114 - mean_absolute_error: 0.3167\n",
      "Epoch 64/100\n",
      "22344/22344 [==============================] - 0s 19us/step - loss: 0.2020 - coeff_determination: 0.4645 - mean_ape: 6.4226 - mean_absolute_error: 0.3173\n",
      "Epoch 65/100\n",
      "22344/22344 [==============================] - 0s 19us/step - loss: 0.2030 - coeff_determination: 0.4673 - mean_ape: 6.4266 - mean_absolute_error: 0.3174\n",
      "Epoch 66/100\n",
      "22344/22344 [==============================] - 0s 19us/step - loss: 0.2019 - coeff_determination: 0.4676 - mean_ape: 6.4014 - mean_absolute_error: 0.3162\n",
      "Epoch 67/100\n",
      "22344/22344 [==============================] - 0s 19us/step - loss: 0.1994 - coeff_determination: 0.4636 - mean_ape: 6.3557 - mean_absolute_error: 0.3138\n",
      "Epoch 68/100\n",
      "22344/22344 [==============================] - 0s 20us/step - loss: 0.2017 - coeff_determination: 0.4641 - mean_ape: 6.4104 - mean_absolute_error: 0.3166\n",
      "Epoch 69/100\n",
      "22344/22344 [==============================] - 0s 20us/step - loss: 0.1996 - coeff_determination: 0.4673 - mean_ape: 6.3628 - mean_absolute_error: 0.3142\n",
      "Epoch 70/100\n",
      "22344/22344 [==============================] - 0s 20us/step - loss: 0.1994 - coeff_determination: 0.4668 - mean_ape: 6.3606 - mean_absolute_error: 0.3143\n",
      "Epoch 71/100\n",
      "22344/22344 [==============================] - 0s 19us/step - loss: 0.1989 - coeff_determination: 0.4727 - mean_ape: 6.3487 - mean_absolute_error: 0.3134\n",
      "Epoch 72/100\n",
      "22344/22344 [==============================] - 0s 21us/step - loss: 0.1997 - coeff_determination: 0.4738 - mean_ape: 6.3650 - mean_absolute_error: 0.3144\n",
      "Epoch 73/100\n",
      "22344/22344 [==============================] - 0s 19us/step - loss: 0.1991 - coeff_determination: 0.4729 - mean_ape: 6.3794 - mean_absolute_error: 0.3148\n",
      "Epoch 74/100\n",
      "22344/22344 [==============================] - 0s 19us/step - loss: 0.1973 - coeff_determination: 0.4767 - mean_ape: 6.3052 - mean_absolute_error: 0.3113\n",
      "Epoch 75/100\n",
      "22344/22344 [==============================] - 0s 19us/step - loss: 0.1976 - coeff_determination: 0.4779 - mean_ape: 6.3186 - mean_absolute_error: 0.3119\n",
      "Epoch 76/100\n",
      "22344/22344 [==============================] - 0s 19us/step - loss: 0.1986 - coeff_determination: 0.4711 - mean_ape: 6.3409 - mean_absolute_error: 0.3133\n",
      "Epoch 77/100\n",
      "22344/22344 [==============================] - 0s 19us/step - loss: 0.1961 - coeff_determination: 0.4783 - mean_ape: 6.3130 - mean_absolute_error: 0.3116\n",
      "Epoch 78/100\n",
      "22344/22344 [==============================] - 0s 19us/step - loss: 0.1955 - coeff_determination: 0.4896 - mean_ape: 6.3182 - mean_absolute_error: 0.3117\n",
      "Epoch 79/100\n",
      "22344/22344 [==============================] - 0s 19us/step - loss: 0.1967 - coeff_determination: 0.4838 - mean_ape: 6.3178 - mean_absolute_error: 0.3120\n",
      "Epoch 80/100\n",
      "22344/22344 [==============================] - 0s 19us/step - loss: 0.1969 - coeff_determination: 0.4797 - mean_ape: 6.3134 - mean_absolute_error: 0.3117\n",
      "Epoch 81/100\n",
      "22344/22344 [==============================] - 0s 19us/step - loss: 0.1964 - coeff_determination: 0.4798 - mean_ape: 6.2971 - mean_absolute_error: 0.3108\n",
      "Epoch 82/100\n",
      "22344/22344 [==============================] - 0s 19us/step - loss: 0.1969 - coeff_determination: 0.4741 - mean_ape: 6.3202 - mean_absolute_error: 0.3120\n",
      "Epoch 83/100\n",
      "22344/22344 [==============================] - 0s 19us/step - loss: 0.1971 - coeff_determination: 0.4716 - mean_ape: 6.3279 - mean_absolute_error: 0.3125 0s - loss: 0.1908 - coeff_determination: 0.4897 - mean_ape: 6.2393 - mean_absolute_e\n",
      "Epoch 84/100\n",
      "22344/22344 [==============================] - 0s 20us/step - loss: 0.1984 - coeff_determination: 0.4742 - mean_ape: 6.3462 - mean_absolute_error: 0.3134\n",
      "Epoch 85/100\n",
      "22344/22344 [==============================] - 0s 19us/step - loss: 0.2002 - coeff_determination: 0.4674 - mean_ape: 6.3959 - mean_absolute_error: 0.3159\n",
      "Epoch 86/100\n",
      "22344/22344 [==============================] - 0s 20us/step - loss: 0.1972 - coeff_determination: 0.4785 - mean_ape: 6.3359 - mean_absolute_error: 0.3128\n",
      "Epoch 87/100\n",
      "22344/22344 [==============================] - 0s 20us/step - loss: 0.1974 - coeff_determination: 0.4716 - mean_ape: 6.3221 - mean_absolute_error: 0.3124\n",
      "Epoch 88/100\n",
      "22344/22344 [==============================] - 0s 19us/step - loss: 0.1956 - coeff_determination: 0.4864 - mean_ape: 6.2889 - mean_absolute_error: 0.3107\n",
      "Epoch 89/100\n",
      "22344/22344 [==============================] - 0s 21us/step - loss: 0.1973 - coeff_determination: 0.4706 - mean_ape: 6.3237 - mean_absolute_error: 0.3121\n",
      "Epoch 90/100\n",
      "22344/22344 [==============================] - 0s 20us/step - loss: 0.1953 - coeff_determination: 0.4863 - mean_ape: 6.2951 - mean_absolute_error: 0.3108\n",
      "Epoch 91/100\n",
      "22344/22344 [==============================] - 0s 20us/step - loss: 0.1953 - coeff_determination: 0.4822 - mean_ape: 6.3106 - mean_absolute_error: 0.3115\n",
      "Epoch 92/100\n",
      "22344/22344 [==============================] - 0s 20us/step - loss: 0.1931 - coeff_determination: 0.4886 - mean_ape: 6.2473 - mean_absolute_error: 0.3085\n",
      "Epoch 93/100\n"
     ]
    },
    {
     "name": "stdout",
     "output_type": "stream",
     "text": [
      "22344/22344 [==============================] - 0s 19us/step - loss: 0.1947 - coeff_determination: 0.4798 - mean_ape: 6.2786 - mean_absolute_error: 0.3101\n",
      "Epoch 94/100\n",
      "22344/22344 [==============================] - 0s 20us/step - loss: 0.1978 - coeff_determination: 0.4772 - mean_ape: 6.3488 - mean_absolute_error: 0.3137\n",
      "Epoch 95/100\n",
      "22344/22344 [==============================] - 0s 22us/step - loss: 0.1940 - coeff_determination: 0.4818 - mean_ape: 6.2952 - mean_absolute_error: 0.3106\n",
      "Epoch 96/100\n",
      "22344/22344 [==============================] - 0s 19us/step - loss: 0.1948 - coeff_determination: 0.4830 - mean_ape: 6.2796 - mean_absolute_error: 0.3102\n",
      "Epoch 97/100\n",
      "22344/22344 [==============================] - 0s 20us/step - loss: 0.1931 - coeff_determination: 0.4810 - mean_ape: 6.2728 - mean_absolute_error: 0.3095\n",
      "Epoch 98/100\n",
      "22344/22344 [==============================] - 0s 20us/step - loss: 0.1929 - coeff_determination: 0.4910 - mean_ape: 6.2452 - mean_absolute_error: 0.3083\n",
      "Epoch 99/100\n",
      "22344/22344 [==============================] - 0s 21us/step - loss: 0.1945 - coeff_determination: 0.4810 - mean_ape: 6.2938 - mean_absolute_error: 0.3106\n",
      "Epoch 100/100\n",
      "22344/22344 [==============================] - 0s 19us/step - loss: 0.1928 - coeff_determination: 0.4855 - mean_ape: 6.2455 - mean_absolute_error: 0.3083\n"
     ]
    }
   ],
   "source": [
    "#Keras model\n",
    "for epochs in [100]:\n",
    "    for batch in [50]:\n",
    "        K.clear_session()\n",
    "        model = keras.models.Sequential();\n",
    "        model.add(keras.layers.core.Dense(units = 40, activation='relu', input_dim = 49));\n",
    "        model.add(keras.layers.core.Dense(units=20, activation = 'relu'))\n",
    "        model.add(keras.layers.core.Dense(1, activation = 'relu'));\n",
    "        adam = Adam(lr=0.01, beta_1=0.9, beta_2=0.999, epsilon=None, decay=0.0, amsgrad=False);\n",
    "        model.compile(loss=\"mean_squared_error\", optimizer=adam, metrics = [coeff_determination, mean_ape,'mae']);\n",
    "        print(model.summary(), 'Epochs = ', epochs, 'Batch =', batch);\n",
    "        history = model.fit(X_train, Y_train, epochs = epochs, batch_size= batch, verbose = 1);\n",
    "        #print(model.evaluate(X_val, Y_val,verbose=False)[1], )"
   ]
  },
  {
   "cell_type": "code",
   "execution_count": 75,
   "metadata": {},
   "outputs": [
    {
     "name": "stdout",
     "output_type": "stream",
     "text": [
      "dict_keys(['loss', 'coeff_determination', 'mean_ape', 'mean_absolute_error'])\n"
     ]
    }
   ],
   "source": [
    "print(history.history.keys())"
   ]
  },
  {
   "cell_type": "code",
   "execution_count": 76,
   "metadata": {},
   "outputs": [
    {
     "name": "stdout",
     "output_type": "stream",
     "text": [
      "[0.22420206837252055, 0.3944784748567034, 6.461971824330495, 0.3220760900083085]\n",
      "[0.22637623757151953, 0.3902329601590498, 6.501329606100127, 0.3230479818644148]\n"
     ]
    }
   ],
   "source": [
    "print(model.evaluate(X_test, Y_test,verbose=False))"
   ]
  },
  {
   "cell_type": "code",
   "execution_count": 85,
   "metadata": {
    "scrolled": true
   },
   "outputs": [
    {
     "data": {
      "text/plain": [
       "7449"
      ]
     },
     "execution_count": 85,
     "metadata": {},
     "output_type": "execute_result"
    }
   ],
   "source": [
    "Y_predict = model.predict(X_test)"
   ]
  },
  {
   "cell_type": "code",
   "execution_count": 80,
   "metadata": {
    "scrolled": true
   },
   "outputs": [
    {
     "data": {
      "text/plain": [
       "<matplotlib.legend.Legend at 0x1c980821cf8>"
      ]
     },
     "execution_count": 80,
     "metadata": {},
     "output_type": "execute_result"
    },
    {
     "data": {
      "image/png": "[encoded data removed]",
      "text/plain": [
       "<Figure size 432x288 with 1 Axes>"
      ]
     },
     "metadata": {
      "needs_background": "light"
     },
     "output_type": "display_data"
    }
   ],
   "source": [
    "plt.plot(history.history['loss'])\n",
    "#plt.plot(history.history['mean_ape'])\n",
    "plt.title('Model Loss History')\n",
    "plt.ylabel('MSE')\n",
    "plt.xlabel('Epochs')\n",
    "plt.legend(['MSE'])\n"
   ]
  },
  {
   "cell_type": "code",
   "execution_count": 81,
   "metadata": {},
   "outputs": [
    {
     "data": {
      "text/plain": [
       "<matplotlib.legend.Legend at 0x1c980524ac8>"
      ]
     },
     "execution_count": 81,
     "metadata": {},
     "output_type": "execute_result"
    },
    {
     "data": {
      "image/png": "[encoded data removed]",
      "text/plain": [
       "<Figure size 432x288 with 1 Axes>"
      ]
     },
     "metadata": {
      "needs_background": "light"
     },
     "output_type": "display_data"
    }
   ],
   "source": [
    "plt.plot(history.history['mean_ape'])\n",
    "#plt.plot(history.history['mean_ape'])\n",
    "plt.title('MAPE vs Epochs')\n",
    "plt.ylabel('MAPE (%)')\n",
    "plt.xlabel('Epochs')\n",
    "plt.legend(['MAPE'])\n"
   ]
  },
  {
   "cell_type": "code",
   "execution_count": 89,
   "metadata": {},
   "outputs": [
    {
     "name": "stdout",
     "output_type": "stream",
     "text": [
      "6.219061201407364\n"
     ]
    },
    {
     "data": {
      "image/png": "[encoded data removed]",
      "text/plain": [
       "<Figure size 432x288 with 1 Axes>"
      ]
     },
     "metadata": {
      "needs_background": "light"
     },
     "output_type": "display_data"
    }
   ],
   "source": [
    "comparison = np.ravel(np.abs((Y_predict-Y_test)/Y_test*100))\n",
    "abs_comparison = np.abs(comparison)\n",
    "mask = np.where(abs_comparison>0)\n",
    "plt.scatter(range(np.shape(mask)[1]), comparison[mask])\n",
    "#plt.axhline(y=mean_apes(Y_predict,Y_test), color='r', linestyle='-')\n",
    "#plt.axhline(y=-mean_apes(Y_predict,Y_test), color='r', linestyle='-')\n",
    "plt.title('Actual vs Predicted')\n",
    "plt.ylabel('Dissociation Constant')\n",
    "plt.xlabel('Index')\n",
    "plt.legend(['% Error', 'MAPE'])\n",
    "plt.text(0.05, 60, 'STD of 8.98%')\n",
    "plt.axhline(y=mean_apes(Y_predict,Y_test), color='r', linestyle='-')\n",
    "print(comparison.std())"
   ]
  },
  {
   "cell_type": "code",
   "execution_count": 93,
   "metadata": {},
   "outputs": [
    {
     "data": {
      "text/plain": [
       "Text(40, 1500, 'STD of 8.98%')"
      ]
     },
     "execution_count": 93,
     "metadata": {},
     "output_type": "execute_result"
    },
    {
     "data": {
      "image/png": "[encoded data removed]",
      "text/plain": [
       "<Figure size 432x288 with 1 Axes>"
      ]
     },
     "metadata": {
      "needs_background": "light"
     },
     "output_type": "display_data"
    }
   ],
   "source": [
    "fig, ax= plt.subplots(1, 1,tight_layout=True)\n",
    "ax.hist(comparison,np.linspace(0,50,21))\n",
    "ax.set_xlabel('APE %')\n",
    "ax.set_ylabel('Frequency')\n",
    "ax.set_title('APE Histogram 50 Features')\n",
    "ax.text(40, 1500, 'STD of 8.98%')"
   ]
  },
  {
   "cell_type": "code",
   "execution_count": 84,
   "metadata": {},
   "outputs": [],
   "source": [
    "# exportdata = pd.DataFrame()\n",
    "# exportdata['loss_anova'] = history.history['loss']\n",
    "# exportdata['mean_ape'] = history.history['mean_ape']\n",
    "# exportdata['mean_absolute_error'] = history.history['mean_absolute_error']\n",
    "# exportdata['coeff_determination'] = history.history['coeff_determination']\n",
    "# exportdata.to_csv('50_data_plots.csv')\n",
    "\n",
    "\n",
    "\n"
   ]
  },
  {
   "cell_type": "code",
   "execution_count": null,
   "metadata": {},
   "outputs": [],
   "source": []
  },
  {
   "cell_type": "code",
   "execution_count": null,
   "metadata": {},
   "outputs": [],
   "source": []
  }
 ],
 "metadata": {
  "kernelspec": {
   "display_name": "Python 3",
   "language": "python",
   "name": "python3"
  },
  "language_info": {
   "codemirror_mode": {
    "name": "ipython",
    "version": 3
   },
   "file_extension": ".py",
   "mimetype": "text/x-python",
   "name": "python",
   "nbconvert_exporter": "python",
   "pygments_lexer": "ipython3",
   "version": "3.6.7"
  }
 },
 "nbformat": 4,
 "nbformat_minor": 2
}
