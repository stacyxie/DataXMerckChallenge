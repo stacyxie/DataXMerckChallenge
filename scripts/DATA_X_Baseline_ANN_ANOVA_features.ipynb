{
 "cells": [
  {
   "cell_type": "code",
   "execution_count": 1,
   "metadata": {},
   "outputs": [],
   "source": [
    "import pandas as pd\n",
    "import matplotlib.pyplot as plt\n",
    "%matplotlib inline"
   ]
  },
  {
   "cell_type": "code",
   "execution_count": 2,
   "metadata": {},
   "outputs": [],
   "source": [
    "train_1 = pd.read_csv('ACT1_Anova_50.csv')"
   ]
  },
  {
   "cell_type": "code",
   "execution_count": 3,
   "metadata": {},
   "outputs": [
    {
     "data": {
      "text/html": [
       "<div>\n",
       "<style scoped>\n",
       "    .dataframe tbody tr th:only-of-type {\n",
       "        vertical-align: middle;\n",
       "    }\n",
       "\n",
       "    .dataframe tbody tr th {\n",
       "        vertical-align: top;\n",
       "    }\n",
       "\n",
       "    .dataframe thead th {\n",
       "        text-align: right;\n",
       "    }\n",
       "</style>\n",
       "<table border=\"1\" class=\"dataframe\">\n",
       "  <thead>\n",
       "    <tr style=\"text-align: right;\">\n",
       "      <th></th>\n",
       "      <th>Unnamed: 0</th>\n",
       "      <th>D_297</th>\n",
       "      <th>D_298</th>\n",
       "      <th>D_299</th>\n",
       "      <th>D_385</th>\n",
       "      <th>D_395</th>\n",
       "      <th>D_466</th>\n",
       "      <th>D_467</th>\n",
       "      <th>D_468</th>\n",
       "      <th>D_476</th>\n",
       "      <th>...</th>\n",
       "      <th>D_4860</th>\n",
       "      <th>D_4941</th>\n",
       "      <th>D_5522</th>\n",
       "      <th>D_5523</th>\n",
       "      <th>D_5525</th>\n",
       "      <th>D_5526</th>\n",
       "      <th>D_5607</th>\n",
       "      <th>D_7234</th>\n",
       "      <th>D_7235</th>\n",
       "      <th>Act</th>\n",
       "    </tr>\n",
       "  </thead>\n",
       "  <tbody>\n",
       "    <tr>\n",
       "      <th>0</th>\n",
       "      <td>0</td>\n",
       "      <td>0</td>\n",
       "      <td>0</td>\n",
       "      <td>0</td>\n",
       "      <td>0</td>\n",
       "      <td>0</td>\n",
       "      <td>0</td>\n",
       "      <td>0</td>\n",
       "      <td>0</td>\n",
       "      <td>0</td>\n",
       "      <td>...</td>\n",
       "      <td>0</td>\n",
       "      <td>0</td>\n",
       "      <td>0</td>\n",
       "      <td>0</td>\n",
       "      <td>0</td>\n",
       "      <td>0</td>\n",
       "      <td>0</td>\n",
       "      <td>3</td>\n",
       "      <td>2</td>\n",
       "      <td>6.0179</td>\n",
       "    </tr>\n",
       "    <tr>\n",
       "      <th>1</th>\n",
       "      <td>1</td>\n",
       "      <td>0</td>\n",
       "      <td>0</td>\n",
       "      <td>0</td>\n",
       "      <td>0</td>\n",
       "      <td>0</td>\n",
       "      <td>3</td>\n",
       "      <td>1</td>\n",
       "      <td>2</td>\n",
       "      <td>0</td>\n",
       "      <td>...</td>\n",
       "      <td>0</td>\n",
       "      <td>0</td>\n",
       "      <td>1</td>\n",
       "      <td>1</td>\n",
       "      <td>0</td>\n",
       "      <td>0</td>\n",
       "      <td>0</td>\n",
       "      <td>0</td>\n",
       "      <td>0</td>\n",
       "      <td>4.3003</td>\n",
       "    </tr>\n",
       "    <tr>\n",
       "      <th>2</th>\n",
       "      <td>2</td>\n",
       "      <td>0</td>\n",
       "      <td>0</td>\n",
       "      <td>0</td>\n",
       "      <td>0</td>\n",
       "      <td>0</td>\n",
       "      <td>0</td>\n",
       "      <td>0</td>\n",
       "      <td>0</td>\n",
       "      <td>0</td>\n",
       "      <td>...</td>\n",
       "      <td>0</td>\n",
       "      <td>0</td>\n",
       "      <td>0</td>\n",
       "      <td>0</td>\n",
       "      <td>0</td>\n",
       "      <td>0</td>\n",
       "      <td>0</td>\n",
       "      <td>3</td>\n",
       "      <td>5</td>\n",
       "      <td>5.2697</td>\n",
       "    </tr>\n",
       "    <tr>\n",
       "      <th>3</th>\n",
       "      <td>3</td>\n",
       "      <td>1</td>\n",
       "      <td>0</td>\n",
       "      <td>1</td>\n",
       "      <td>0</td>\n",
       "      <td>0</td>\n",
       "      <td>10</td>\n",
       "      <td>6</td>\n",
       "      <td>7</td>\n",
       "      <td>0</td>\n",
       "      <td>...</td>\n",
       "      <td>0</td>\n",
       "      <td>1</td>\n",
       "      <td>2</td>\n",
       "      <td>4</td>\n",
       "      <td>1</td>\n",
       "      <td>2</td>\n",
       "      <td>1</td>\n",
       "      <td>1</td>\n",
       "      <td>2</td>\n",
       "      <td>6.1797</td>\n",
       "    </tr>\n",
       "    <tr>\n",
       "      <th>4</th>\n",
       "      <td>4</td>\n",
       "      <td>0</td>\n",
       "      <td>0</td>\n",
       "      <td>0</td>\n",
       "      <td>7</td>\n",
       "      <td>0</td>\n",
       "      <td>0</td>\n",
       "      <td>0</td>\n",
       "      <td>0</td>\n",
       "      <td>0</td>\n",
       "      <td>...</td>\n",
       "      <td>0</td>\n",
       "      <td>0</td>\n",
       "      <td>2</td>\n",
       "      <td>3</td>\n",
       "      <td>0</td>\n",
       "      <td>0</td>\n",
       "      <td>1</td>\n",
       "      <td>4</td>\n",
       "      <td>3</td>\n",
       "      <td>4.3003</td>\n",
       "    </tr>\n",
       "  </tbody>\n",
       "</table>\n",
       "<p>5 rows × 52 columns</p>\n",
       "</div>"
      ],
      "text/plain": [
       "   Unnamed: 0  D_297  D_298  D_299  D_385  D_395  D_466  D_467  D_468  D_476  \\\n",
       "0           0      0      0      0      0      0      0      0      0      0   \n",
       "1           1      0      0      0      0      0      3      1      2      0   \n",
       "2           2      0      0      0      0      0      0      0      0      0   \n",
       "3           3      1      0      1      0      0     10      6      7      0   \n",
       "4           4      0      0      0      7      0      0      0      0      0   \n",
       "\n",
       "    ...    D_4860  D_4941  D_5522  D_5523  D_5525  D_5526  D_5607  D_7234  \\\n",
       "0   ...         0       0       0       0       0       0       0       3   \n",
       "1   ...         0       0       1       1       0       0       0       0   \n",
       "2   ...         0       0       0       0       0       0       0       3   \n",
       "3   ...         0       1       2       4       1       2       1       1   \n",
       "4   ...         0       0       2       3       0       0       1       4   \n",
       "\n",
       "   D_7235     Act  \n",
       "0       2  6.0179  \n",
       "1       0  4.3003  \n",
       "2       5  5.2697  \n",
       "3       2  6.1797  \n",
       "4       3  4.3003  \n",
       "\n",
       "[5 rows x 52 columns]"
      ]
     },
     "execution_count": 3,
     "metadata": {},
     "output_type": "execute_result"
    }
   ],
   "source": [
    "train_1.head(5)"
   ]
  },
  {
   "cell_type": "code",
   "execution_count": 4,
   "metadata": {},
   "outputs": [],
   "source": [
    "from sklearn.model_selection import train_test_split\n",
    "import numpy as np\n",
    "y = train_1['Act'].values\n",
    "train_1 = train_1.drop(['Act', 'Unnamed: 0'], axis = 1)\n",
    "x = train_1.values\n",
    "X_train, X_test, Y_train, Y_test = train_test_split(x, y, test_size = 0.20, random_state = 0)\n",
    "X_train, X_val, Y_train, Y_val = train_test_split(X_train, Y_train, test_size=0.25, random_state=0)\n"
   ]
  },
  {
   "cell_type": "code",
   "execution_count": 5,
   "metadata": {},
   "outputs": [
    {
     "name": "stdout",
     "output_type": "stream",
     "text": [
      "(22344,) (22344, 50) (7449,) (7449, 50)\n"
     ]
    }
   ],
   "source": [
    "print(np.shape(Y_train), np.shape(X_train), np.shape(Y_test), np.shape(X_test))\n",
    "Y_train = np.reshape(Y_train,(len(Y_train),1))\n",
    "Y_test = np.reshape(Y_test,(len(Y_test),1))\n"
   ]
  },
  {
   "cell_type": "code",
   "execution_count": 6,
   "metadata": {},
   "outputs": [],
   "source": [
    "def r_square(X, Y):\n",
    "    \"\"\" r^2 value defined by the competition host, r^2 = 1 indicates 100% prediction accuracy\n",
    "    \"\"\"\n",
    "    avx = np.mean(X)\n",
    "    avy = np.mean(Y)\n",
    "    sum1, sumx, sumy = 0, 0, 0\n",
    "    for i in range(len(X)):\n",
    "        sum1 += (X[i] - avx)*(Y[i] - avy)\n",
    "        sumx += (X[i] - avx)*(X[i] - avx)\n",
    "        sumy += (Y[i] - avy)*(Y[i] - avy)\n",
    "    print(len(X), sum1, sumx, sumy)\n",
    "    return sum1*sum1/(sumx*sumy)"
   ]
  },
  {
   "cell_type": "code",
   "execution_count": 7,
   "metadata": {},
   "outputs": [
    {
     "name": "stderr",
     "output_type": "stream",
     "text": [
      "Using TensorFlow backend.\n"
     ]
    }
   ],
   "source": [
    "from keras import backend as K\n",
    "#Keras R_2 function\n",
    "R_2 = []\n",
    "def coeff_determination(y_true, y_pred):\n",
    "    SS_res =  K.sum(K.square( y_true-y_pred )) \n",
    "    SS_tot = K.sum(K.square( y_true - K.mean(y_true) ) ) \n",
    "    return ( 1 - SS_res/(SS_tot + K.epsilon()) )"
   ]
  },
  {
   "cell_type": "code",
   "execution_count": 8,
   "metadata": {},
   "outputs": [],
   "source": [
    "from sklearn.metrics import make_scorer\n",
    "#Keras MAPE function\n",
    "MAPE = []\n",
    "def mean_ape(y_true, y_pred):\n",
    "    return K.mean(K.abs((y_true-y_pred)/y_true))*100\n",
    "#Scikit learn mape function\n",
    "def mean_apes(y_true, y_pred):\n",
    "    return np.mean(np.abs((y_true-y_pred)/y_true))*100\n",
    "mape_func = make_scorer(mean_apes)"
   ]
  },
  {
   "cell_type": "code",
   "execution_count": 9,
   "metadata": {},
   "outputs": [],
   "source": [
    "from tensorflow.keras.models import Sequential\n",
    "import keras\n",
    "from tensorflow.keras.layers import Dense\n",
    "from keras.optimizers import Adam \n",
    "from tensorflow.keras.wrappers.scikit_learn import KerasRegressor"
   ]
  },
  {
   "cell_type": "code",
   "execution_count": 17,
   "metadata": {},
   "outputs": [
    {
     "name": "stdout",
     "output_type": "stream",
     "text": [
      "_________________________________________________________________\n",
      "Layer (type)                 Output Shape              Param #   \n",
      "=================================================================\n",
      "dense_1 (Dense)              (None, 40)                2040      \n",
      "_________________________________________________________________\n",
      "dense_2 (Dense)              (None, 20)                820       \n",
      "_________________________________________________________________\n",
      "dense_3 (Dense)              (None, 1)                 21        \n",
      "=================================================================\n",
      "Total params: 2,881\n",
      "Trainable params: 2,881\n",
      "Non-trainable params: 0\n",
      "_________________________________________________________________\n",
      "None Epochs =  150 Batch = 60\n",
      "Epoch 1/150\n",
      "22344/22344 [==============================] - 1s 36us/step - loss: 0.7613 - coeff_determination: -1.0283 - mean_ape: 12.5500 - mean_absolute_error: 0.6070\n",
      "Epoch 2/150\n",
      "22344/22344 [==============================] - 0s 22us/step - loss: 0.3021 - coeff_determination: 0.2224 - mean_ape: 8.0095 - mean_absolute_error: 0.3962\n",
      "Epoch 3/150\n",
      "22344/22344 [==============================] - 1s 23us/step - loss: 0.2838 - coeff_determination: 0.2658 - mean_ape: 7.8166 - mean_absolute_error: 0.3861\n",
      "Epoch 4/150\n",
      "22344/22344 [==============================] - 0s 21us/step - loss: 0.2689 - coeff_determination: 0.3077 - mean_ape: 7.5514 - mean_absolute_error: 0.3732\n",
      "Epoch 5/150\n",
      "22344/22344 [==============================] - 0s 20us/step - loss: 0.2617 - coeff_determination: 0.3229 - mean_ape: 7.4484 - mean_absolute_error: 0.3681\n",
      "Epoch 6/150\n",
      "22344/22344 [==============================] - 0s 19us/step - loss: 0.2615 - coeff_determination: 0.3252 - mean_ape: 7.4182 - mean_absolute_error: 0.3668\n",
      "Epoch 7/150\n",
      "22344/22344 [==============================] - 1s 23us/step - loss: 0.2583 - coeff_determination: 0.3371 - mean_ape: 7.4235 - mean_absolute_error: 0.3668\n",
      "Epoch 8/150\n",
      "22344/22344 [==============================] - 0s 19us/step - loss: 0.2537 - coeff_determination: 0.3505 - mean_ape: 7.2908 - mean_absolute_error: 0.3604\n",
      "Epoch 9/150\n",
      "22344/22344 [==============================] - 0s 20us/step - loss: 0.2536 - coeff_determination: 0.3452 - mean_ape: 7.3335 - mean_absolute_error: 0.3623\n",
      "Epoch 10/150\n",
      "22344/22344 [==============================] - 0s 20us/step - loss: 0.2555 - coeff_determination: 0.3480 - mean_ape: 7.3341 - mean_absolute_error: 0.3625\n",
      "Epoch 11/150\n",
      "22344/22344 [==============================] - 1s 23us/step - loss: 0.2502 - coeff_determination: 0.3546 - mean_ape: 7.3111 - mean_absolute_error: 0.3610\n",
      "Epoch 12/150\n",
      "22344/22344 [==============================] - 0s 20us/step - loss: 0.2502 - coeff_determination: 0.3498 - mean_ape: 7.2571 - mean_absolute_error: 0.3586\n",
      "Epoch 13/150\n",
      "22344/22344 [==============================] - 0s 21us/step - loss: 0.2407 - coeff_determination: 0.3725 - mean_ape: 7.1227 - mean_absolute_error: 0.3517\n",
      "Epoch 14/150\n",
      "22344/22344 [==============================] - 0s 21us/step - loss: 0.2402 - coeff_determination: 0.3810 - mean_ape: 7.1189 - mean_absolute_error: 0.3513\n",
      "Epoch 15/150\n",
      "22344/22344 [==============================] - 0s 20us/step - loss: 0.2410 - coeff_determination: 0.3777 - mean_ape: 7.1243 - mean_absolute_error: 0.3517\n",
      "Epoch 16/150\n",
      "22344/22344 [==============================] - 0s 20us/step - loss: 0.2405 - coeff_determination: 0.3720 - mean_ape: 7.0765 - mean_absolute_error: 0.3495\n",
      "Epoch 17/150\n",
      "22344/22344 [==============================] - 0s 20us/step - loss: 0.2412 - coeff_determination: 0.3740 - mean_ape: 7.0345 - mean_absolute_error: 0.3478\n",
      "Epoch 18/150\n",
      "22344/22344 [==============================] - 0s 19us/step - loss: 0.2348 - coeff_determination: 0.3947 - mean_ape: 7.0134 - mean_absolute_error: 0.3462\n",
      "Epoch 19/150\n",
      "22344/22344 [==============================] - 0s 19us/step - loss: 0.2324 - coeff_determination: 0.3879 - mean_ape: 7.0018 - mean_absolute_error: 0.3453\n",
      "Epoch 20/150\n",
      "22344/22344 [==============================] - 0s 19us/step - loss: 0.2355 - coeff_determination: 0.3951 - mean_ape: 7.0204 - mean_absolute_error: 0.3466\n",
      "Epoch 21/150\n",
      "22344/22344 [==============================] - 0s 20us/step - loss: 0.2350 - coeff_determination: 0.3945 - mean_ape: 7.0136 - mean_absolute_error: 0.3463\n",
      "Epoch 22/150\n",
      "22344/22344 [==============================] - 0s 20us/step - loss: 0.2333 - coeff_determination: 0.3900 - mean_ape: 6.9614 - mean_absolute_error: 0.3434\n",
      "Epoch 23/150\n",
      "22344/22344 [==============================] - 0s 19us/step - loss: 0.2309 - coeff_determination: 0.4021 - mean_ape: 6.9577 - mean_absolute_error: 0.3432\n",
      "Epoch 24/150\n",
      "22344/22344 [==============================] - 0s 20us/step - loss: 0.2232 - coeff_determination: 0.4082 - mean_ape: 6.8070 - mean_absolute_error: 0.3358\n",
      "Epoch 25/150\n",
      "22344/22344 [==============================] - 0s 22us/step - loss: 0.2225 - coeff_determination: 0.4211 - mean_ape: 6.7959 - mean_absolute_error: 0.3352\n",
      "Epoch 26/150\n",
      "22344/22344 [==============================] - 0s 22us/step - loss: 0.2249 - coeff_determination: 0.4140 - mean_ape: 6.8708 - mean_absolute_error: 0.3389\n",
      "Epoch 27/150\n",
      "22344/22344 [==============================] - 0s 21us/step - loss: 0.2209 - coeff_determination: 0.4249 - mean_ape: 6.7918 - mean_absolute_error: 0.3347\n",
      "Epoch 28/150\n",
      "22344/22344 [==============================] - 0s 20us/step - loss: 0.2182 - coeff_determination: 0.4300 - mean_ape: 6.7431 - mean_absolute_error: 0.3324\n",
      "Epoch 29/150\n",
      "22344/22344 [==============================] - 0s 20us/step - loss: 0.2149 - coeff_determination: 0.4400 - mean_ape: 6.6452 - mean_absolute_error: 0.3279\n",
      "Epoch 30/150\n",
      "22344/22344 [==============================] - 0s 21us/step - loss: 0.2162 - coeff_determination: 0.4368 - mean_ape: 6.7072 - mean_absolute_error: 0.3305\n",
      "Epoch 31/150\n",
      "22344/22344 [==============================] - 0s 20us/step - loss: 0.2177 - coeff_determination: 0.4334 - mean_ape: 6.7057 - mean_absolute_error: 0.3308\n",
      "Epoch 32/150\n",
      "22344/22344 [==============================] - 0s 20us/step - loss: 0.2129 - coeff_determination: 0.4492 - mean_ape: 6.6108 - mean_absolute_error: 0.3260\n",
      "Epoch 33/150\n",
      "22344/22344 [==============================] - 0s 21us/step - loss: 0.2117 - coeff_determination: 0.4490 - mean_ape: 6.5795 - mean_absolute_error: 0.3246\n",
      "Epoch 34/150\n",
      "22344/22344 [==============================] - 0s 20us/step - loss: 0.2129 - coeff_determination: 0.4450 - mean_ape: 6.5950 - mean_absolute_error: 0.3255\n",
      "Epoch 35/150\n",
      "22344/22344 [==============================] - 0s 20us/step - loss: 0.2088 - coeff_determination: 0.4529 - mean_ape: 6.5072 - mean_absolute_error: 0.3214\n",
      "Epoch 36/150\n",
      "22344/22344 [==============================] - 0s 22us/step - loss: 0.2066 - coeff_determination: 0.4595 - mean_ape: 6.5264 - mean_absolute_error: 0.3221\n",
      "Epoch 37/150\n",
      "22344/22344 [==============================] - 0s 21us/step - loss: 0.2095 - coeff_determination: 0.4507 - mean_ape: 6.5050 - mean_absolute_error: 0.3213\n",
      "Epoch 38/150\n",
      "22344/22344 [==============================] - 0s 21us/step - loss: 0.2058 - coeff_determination: 0.4681 - mean_ape: 6.4598 - mean_absolute_error: 0.3191\n",
      "Epoch 39/150\n",
      "22344/22344 [==============================] - 0s 20us/step - loss: 0.2049 - coeff_determination: 0.4704 - mean_ape: 6.4704 - mean_absolute_error: 0.3194\n",
      "Epoch 40/150\n",
      "22344/22344 [==============================] - 1s 23us/step - loss: 0.2036 - coeff_determination: 0.4664 - mean_ape: 6.4532 - mean_absolute_error: 0.3182\n",
      "Epoch 41/150\n",
      "22344/22344 [==============================] - 1s 23us/step - loss: 0.2038 - coeff_determination: 0.4651 - mean_ape: 6.4142 - mean_absolute_error: 0.3169\n",
      "Epoch 42/150\n",
      "22344/22344 [==============================] - 1s 24us/step - loss: 0.2009 - coeff_determination: 0.4775 - mean_ape: 6.3585 - mean_absolute_error: 0.3143\n",
      "Epoch 43/150\n",
      "22344/22344 [==============================] - 0s 20us/step - loss: 0.2002 - coeff_determination: 0.4782 - mean_ape: 6.3709 - mean_absolute_error: 0.3149\n",
      "Epoch 44/150\n",
      "22344/22344 [==============================] - 0s 20us/step - loss: 0.1984 - coeff_determination: 0.4778 - mean_ape: 6.3212 - mean_absolute_error: 0.3120\n",
      "Epoch 45/150\n",
      "22344/22344 [==============================] - 0s 20us/step - loss: 0.1981 - coeff_determination: 0.4807 - mean_ape: 6.3498 - mean_absolute_error: 0.3135\n",
      "Epoch 46/150\n",
      "22344/22344 [==============================] - 0s 20us/step - loss: 0.1978 - coeff_determination: 0.4843 - mean_ape: 6.3096 - mean_absolute_error: 0.3117\n",
      "Epoch 47/150\n",
      "22344/22344 [==============================] - 0s 20us/step - loss: 0.1970 - coeff_determination: 0.4866 - mean_ape: 6.3423 - mean_absolute_error: 0.3130\n",
      "Epoch 48/150\n",
      "22344/22344 [==============================] - 0s 19us/step - loss: 0.1979 - coeff_determination: 0.4777 - mean_ape: 6.3298 - mean_absolute_error: 0.3128\n",
      "Epoch 49/150\n",
      "22344/22344 [==============================] - 0s 21us/step - loss: 0.1950 - coeff_determination: 0.4943 - mean_ape: 6.2912 - mean_absolute_error: 0.3106\n",
      "Epoch 50/150\n",
      "22344/22344 [==============================] - 0s 19us/step - loss: 0.1935 - coeff_determination: 0.4921 - mean_ape: 6.2697 - mean_absolute_error: 0.3094\n",
      "Epoch 51/150\n",
      "22344/22344 [==============================] - 0s 19us/step - loss: 0.1938 - coeff_determination: 0.4962 - mean_ape: 6.2859 - mean_absolute_error: 0.3105\n",
      "Epoch 52/150\n",
      "22344/22344 [==============================] - 0s 19us/step - loss: 0.1934 - coeff_determination: 0.4920 - mean_ape: 6.2918 - mean_absolute_error: 0.3104\n",
      "Epoch 53/150\n",
      "22344/22344 [==============================] - 0s 19us/step - loss: 0.1930 - coeff_determination: 0.4952 - mean_ape: 6.2746 - mean_absolute_error: 0.3095\n",
      "Epoch 54/150\n",
      "22344/22344 [==============================] - 0s 20us/step - loss: 0.1938 - coeff_determination: 0.4952 - mean_ape: 6.2380 - mean_absolute_error: 0.3083\n",
      "Epoch 55/150\n",
      "22344/22344 [==============================] - 0s 19us/step - loss: 0.1914 - coeff_determination: 0.4991 - mean_ape: 6.2454 - mean_absolute_error: 0.3083\n",
      "Epoch 56/150\n",
      "22344/22344 [==============================] - 0s 19us/step - loss: 0.1935 - coeff_determination: 0.5013 - mean_ape: 6.2502 - mean_absolute_error: 0.3085\n",
      "Epoch 57/150\n",
      "22344/22344 [==============================] - 0s 21us/step - loss: 0.1921 - coeff_determination: 0.4940 - mean_ape: 6.2414 - mean_absolute_error: 0.3079\n",
      "Epoch 58/150\n",
      "22344/22344 [==============================] - 0s 21us/step - loss: 0.1884 - coeff_determination: 0.5095 - mean_ape: 6.1883 - mean_absolute_error: 0.3054\n",
      "Epoch 59/150\n",
      "22344/22344 [==============================] - 0s 20us/step - loss: 0.1888 - coeff_determination: 0.5070 - mean_ape: 6.1715 - mean_absolute_error: 0.3048\n",
      "Epoch 60/150\n",
      "22344/22344 [==============================] - 0s 21us/step - loss: 0.1898 - coeff_determination: 0.4975 - mean_ape: 6.2024 - mean_absolute_error: 0.3061\n",
      "Epoch 61/150\n",
      "22344/22344 [==============================] - 1s 24us/step - loss: 0.1905 - coeff_determination: 0.5036 - mean_ape: 6.1846 - mean_absolute_error: 0.3054\n",
      "Epoch 62/150\n",
      "22344/22344 [==============================] - 1s 26us/step - loss: 0.1910 - coeff_determination: 0.4980 - mean_ape: 6.2163 - mean_absolute_error: 0.3071\n",
      "Epoch 63/150\n",
      "22344/22344 [==============================] - 1s 29us/step - loss: 0.1868 - coeff_determination: 0.5162 - mean_ape: 6.1512 - mean_absolute_error: 0.3035\n",
      "Epoch 64/150\n",
      "22344/22344 [==============================] - 1s 31us/step - loss: 0.1905 - coeff_determination: 0.5054 - mean_ape: 6.2065 - mean_absolute_error: 0.3065\n",
      "Epoch 65/150\n",
      "22344/22344 [==============================] - ETA: 0s - loss: 0.1868 - coeff_determination: 0.5136 - mean_ape: 6.1383 - mean_absolute_error: 0.30 - 1s 27us/step - loss: 0.1870 - coeff_determination: 0.5110 - mean_ape: 6.1421 - mean_absolute_error: 0.3032\n",
      "Epoch 66/150\n",
      "22344/22344 [==============================] - 1s 30us/step - loss: 0.1854 - coeff_determination: 0.5160 - mean_ape: 6.1190 - mean_absolute_error: 0.3018\n",
      "Epoch 67/150\n",
      "22344/22344 [==============================] - 1s 31us/step - loss: 0.1883 - coeff_determination: 0.5000 - mean_ape: 6.1762 - mean_absolute_error: 0.3048\n",
      "Epoch 68/150\n",
      "22344/22344 [==============================] - 1s 29us/step - loss: 0.1864 - coeff_determination: 0.5122 - mean_ape: 6.1210 - mean_absolute_error: 0.3022\n",
      "Epoch 69/150\n",
      "22344/22344 [==============================] - 1s 28us/step - loss: 0.1864 - coeff_determination: 0.5167 - mean_ape: 6.1471 - mean_absolute_error: 0.3033\n",
      "Epoch 70/150\n",
      "22344/22344 [==============================] - 1s 27us/step - loss: 0.1849 - coeff_determination: 0.5239 - mean_ape: 6.1120 - mean_absolute_error: 0.3015\n",
      "Epoch 71/150\n",
      "22344/22344 [==============================] - 1s 30us/step - loss: 0.1865 - coeff_determination: 0.5102 - mean_ape: 6.1202 - mean_absolute_error: 0.3023\n",
      "Epoch 72/150\n",
      "22344/22344 [==============================] - 1s 29us/step - loss: 0.1839 - coeff_determination: 0.5203 - mean_ape: 6.0550 - mean_absolute_error: 0.2990\n",
      "Epoch 73/150\n",
      "22344/22344 [==============================] - 1s 27us/step - loss: 0.1856 - coeff_determination: 0.5164 - mean_ape: 6.1072 - mean_absolute_error: 0.3012\n",
      "Epoch 74/150\n",
      "22344/22344 [==============================] - 1s 27us/step - loss: 0.1853 - coeff_determination: 0.5135 - mean_ape: 6.0862 - mean_absolute_error: 0.3006\n",
      "Epoch 75/150\n",
      "22344/22344 [==============================] - 1s 27us/step - loss: 0.1835 - coeff_determination: 0.5133 - mean_ape: 6.0683 - mean_absolute_error: 0.2994\n",
      "Epoch 76/150\n",
      "22344/22344 [==============================] - 1s 29us/step - loss: 0.1850 - coeff_determination: 0.5121 - mean_ape: 6.0881 - mean_absolute_error: 0.3006\n",
      "Epoch 77/150\n",
      "22344/22344 [==============================] - 1s 30us/step - loss: 0.1880 - coeff_determination: 0.5058 - mean_ape: 6.1316 - mean_absolute_error: 0.3028\n",
      "Epoch 78/150\n",
      "22344/22344 [==============================] - 1s 27us/step - loss: 0.1837 - coeff_determination: 0.5215 - mean_ape: 6.0763 - mean_absolute_error: 0.2998\n",
      "Epoch 79/150\n",
      "22344/22344 [==============================] - 1s 27us/step - loss: 0.1828 - coeff_determination: 0.5211 - mean_ape: 6.0590 - mean_absolute_error: 0.2990\n",
      "Epoch 80/150\n",
      "22344/22344 [==============================] - 1s 29us/step - loss: 0.1829 - coeff_determination: 0.5110 - mean_ape: 6.0617 - mean_absolute_error: 0.2993\n",
      "Epoch 81/150\n",
      "22344/22344 [==============================] - 1s 27us/step - loss: 0.1833 - coeff_determination: 0.5198 - mean_ape: 6.0956 - mean_absolute_error: 0.3007\n",
      "Epoch 82/150\n",
      "22344/22344 [==============================] - 1s 28us/step - loss: 0.1846 - coeff_determination: 0.5152 - mean_ape: 6.0708 - mean_absolute_error: 0.2998\n",
      "Epoch 83/150\n",
      "22344/22344 [==============================] - 1s 29us/step - loss: 0.1809 - coeff_determination: 0.5251 - mean_ape: 6.0291 - mean_absolute_error: 0.2973\n",
      "Epoch 84/150\n",
      "22344/22344 [==============================] - 1s 30us/step - loss: 0.1791 - coeff_determination: 0.5326 - mean_ape: 5.9961 - mean_absolute_error: 0.2958\n",
      "Epoch 85/150\n",
      "22344/22344 [==============================] - 1s 30us/step - loss: 0.1828 - coeff_determination: 0.5231 - mean_ape: 6.0814 - mean_absolute_error: 0.3002\n",
      "Epoch 86/150\n",
      "22344/22344 [==============================] - 1s 27us/step - loss: 0.1867 - coeff_determination: 0.5136 - mean_ape: 6.1106 - mean_absolute_error: 0.3018\n",
      "Epoch 87/150\n",
      "22344/22344 [==============================] - 1s 28us/step - loss: 0.1822 - coeff_determination: 0.5219 - mean_ape: 6.0623 - mean_absolute_error: 0.2991\n",
      "Epoch 88/150\n",
      "22344/22344 [==============================] - 1s 29us/step - loss: 0.1810 - coeff_determination: 0.5284 - mean_ape: 6.0449 - mean_absolute_error: 0.2983\n",
      "Epoch 89/150\n",
      "22344/22344 [==============================] - 1s 27us/step - loss: 0.1841 - coeff_determination: 0.5195 - mean_ape: 6.0635 - mean_absolute_error: 0.2996\n",
      "Epoch 90/150\n",
      "22344/22344 [==============================] - 1s 28us/step - loss: 0.1812 - coeff_determination: 0.5184 - mean_ape: 6.0264 - mean_absolute_error: 0.2974\n",
      "Epoch 91/150\n",
      "22344/22344 [==============================] - 1s 27us/step - loss: 0.1792 - coeff_determination: 0.5317 - mean_ape: 6.0246 - mean_absolute_error: 0.2969\n",
      "Epoch 92/150\n",
      "22344/22344 [==============================] - 1s 29us/step - loss: 0.1796 - coeff_determination: 0.5256 - mean_ape: 5.9965 - mean_absolute_error: 0.2958\n",
      "Epoch 93/150\n"
     ]
    },
    {
     "name": "stdout",
     "output_type": "stream",
     "text": [
      "22344/22344 [==============================] - 1s 32us/step - loss: 0.1810 - coeff_determination: 0.5270 - mean_ape: 6.0503 - mean_absolute_error: 0.2983\n",
      "Epoch 94/150\n",
      "22344/22344 [==============================] - 1s 29us/step - loss: 0.1805 - coeff_determination: 0.5345 - mean_ape: 5.9953 - mean_absolute_error: 0.2961\n",
      "Epoch 95/150\n",
      "22344/22344 [==============================] - 1s 27us/step - loss: 0.1788 - coeff_determination: 0.5376 - mean_ape: 5.9974 - mean_absolute_error: 0.2958\n",
      "Epoch 96/150\n",
      "22344/22344 [==============================] - 1s 27us/step - loss: 0.1815 - coeff_determination: 0.5315 - mean_ape: 6.0571 - mean_absolute_error: 0.2986\n",
      "Epoch 97/150\n",
      "22344/22344 [==============================] - 1s 26us/step - loss: 0.1812 - coeff_determination: 0.5254 - mean_ape: 6.0453 - mean_absolute_error: 0.2983\n",
      "Epoch 98/150\n",
      "22344/22344 [==============================] - 1s 27us/step - loss: 0.1822 - coeff_determination: 0.5180 - mean_ape: 6.0564 - mean_absolute_error: 0.2988\n",
      "Epoch 99/150\n",
      "22344/22344 [==============================] - 1s 29us/step - loss: 0.1794 - coeff_determination: 0.5286 - mean_ape: 6.0211 - mean_absolute_error: 0.2971\n",
      "Epoch 100/150\n",
      "22344/22344 [==============================] - 1s 29us/step - loss: 0.1815 - coeff_determination: 0.5224 - mean_ape: 6.0365 - mean_absolute_error: 0.2981\n",
      "Epoch 101/150\n",
      "22344/22344 [==============================] - 1s 27us/step - loss: 0.1762 - coeff_determination: 0.5418 - mean_ape: 5.9595 - mean_absolute_error: 0.2936\n",
      "Epoch 102/150\n",
      "22344/22344 [==============================] - 1s 28us/step - loss: 0.1774 - coeff_determination: 0.5371 - mean_ape: 5.9798 - mean_absolute_error: 0.2950\n",
      "Epoch 103/150\n",
      "22344/22344 [==============================] - 1s 27us/step - loss: 0.1783 - coeff_determination: 0.5404 - mean_ape: 6.0041 - mean_absolute_error: 0.2962\n",
      "Epoch 104/150\n",
      "22344/22344 [==============================] - 1s 28us/step - loss: 0.1792 - coeff_determination: 0.5333 - mean_ape: 5.9863 - mean_absolute_error: 0.2954\n",
      "Epoch 105/150\n",
      "22344/22344 [==============================] - 1s 28us/step - loss: 0.1808 - coeff_determination: 0.5256 - mean_ape: 6.0470 - mean_absolute_error: 0.2983\n",
      "Epoch 106/150\n",
      "22344/22344 [==============================] - 1s 28us/step - loss: 0.1785 - coeff_determination: 0.5352 - mean_ape: 5.9802 - mean_absolute_error: 0.2950\n",
      "Epoch 107/150\n",
      "22344/22344 [==============================] - 1s 29us/step - loss: 0.1812 - coeff_determination: 0.5306 - mean_ape: 6.0383 - mean_absolute_error: 0.2982\n",
      "Epoch 108/150\n",
      "22344/22344 [==============================] - 1s 28us/step - loss: 0.1776 - coeff_determination: 0.5377 - mean_ape: 5.9823 - mean_absolute_error: 0.2950\n",
      "Epoch 109/150\n",
      "22344/22344 [==============================] - 1s 30us/step - loss: 0.1785 - coeff_determination: 0.5325 - mean_ape: 5.9941 - mean_absolute_error: 0.2956\n",
      "Epoch 110/150\n",
      "22344/22344 [==============================] - ETA: 0s - loss: 0.1789 - coeff_determination: 0.5353 - mean_ape: 5.9724 - mean_absolute_error: 0.29 - 1s 29us/step - loss: 0.1794 - coeff_determination: 0.5328 - mean_ape: 5.9803 - mean_absolute_error: 0.2952\n",
      "Epoch 111/150\n",
      "22344/22344 [==============================] - 1s 32us/step - loss: 0.1785 - coeff_determination: 0.5360 - mean_ape: 5.9970 - mean_absolute_error: 0.2957\n",
      "Epoch 112/150\n",
      "22344/22344 [==============================] - 1s 32us/step - loss: 0.1767 - coeff_determination: 0.5403 - mean_ape: 5.9784 - mean_absolute_error: 0.2950\n",
      "Epoch 113/150\n",
      "22344/22344 [==============================] - 1s 31us/step - loss: 0.1771 - coeff_determination: 0.5374 - mean_ape: 5.9616 - mean_absolute_error: 0.2942\n",
      "Epoch 114/150\n",
      "22344/22344 [==============================] - 1s 28us/step - loss: 0.1768 - coeff_determination: 0.5446 - mean_ape: 5.9663 - mean_absolute_error: 0.2944\n",
      "Epoch 115/150\n",
      "22344/22344 [==============================] - 1s 27us/step - loss: 0.1773 - coeff_determination: 0.5400 - mean_ape: 5.9568 - mean_absolute_error: 0.2940\n",
      "Epoch 116/150\n",
      "22344/22344 [==============================] - 1s 30us/step - loss: 0.1752 - coeff_determination: 0.5396 - mean_ape: 5.9518 - mean_absolute_error: 0.2934\n",
      "Epoch 117/150\n",
      "22344/22344 [==============================] - 1s 28us/step - loss: 0.1767 - coeff_determination: 0.5348 - mean_ape: 5.9521 - mean_absolute_error: 0.2937\n",
      "Epoch 118/150\n",
      "22344/22344 [==============================] - 1s 27us/step - loss: 0.1767 - coeff_determination: 0.5393 - mean_ape: 5.9572 - mean_absolute_error: 0.2938\n",
      "Epoch 119/150\n",
      "22344/22344 [==============================] - 1s 27us/step - loss: 0.1749 - coeff_determination: 0.5388 - mean_ape: 5.9289 - mean_absolute_error: 0.2923\n",
      "Epoch 120/150\n",
      "22344/22344 [==============================] - ETA: 0s - loss: 0.1760 - coeff_determination: 0.5441 - mean_ape: 5.9634 - mean_absolute_error: 0.29 - 1s 27us/step - loss: 0.1759 - coeff_determination: 0.5458 - mean_ape: 5.9627 - mean_absolute_error: 0.2938\n",
      "Epoch 121/150\n",
      "22344/22344 [==============================] - 1s 30us/step - loss: 0.1745 - coeff_determination: 0.5390 - mean_ape: 5.9147 - mean_absolute_error: 0.2919\n",
      "Epoch 122/150\n",
      "22344/22344 [==============================] - 1s 27us/step - loss: 0.1765 - coeff_determination: 0.5377 - mean_ape: 5.9585 - mean_absolute_error: 0.2940\n",
      "Epoch 123/150\n",
      "22344/22344 [==============================] - 1s 27us/step - loss: 0.1771 - coeff_determination: 0.5380 - mean_ape: 5.9648 - mean_absolute_error: 0.2944\n",
      "Epoch 124/150\n",
      "22344/22344 [==============================] - 1s 26us/step - loss: 0.1786 - coeff_determination: 0.5367 - mean_ape: 5.9794 - mean_absolute_error: 0.2952\n",
      "Epoch 125/150\n",
      "22344/22344 [==============================] - 1s 29us/step - loss: 0.1750 - coeff_determination: 0.5438 - mean_ape: 5.9316 - mean_absolute_error: 0.2925\n",
      "Epoch 126/150\n",
      "22344/22344 [==============================] - 1s 31us/step - loss: 0.1733 - coeff_determination: 0.5434 - mean_ape: 5.9073 - mean_absolute_error: 0.2914\n",
      "Epoch 127/150\n",
      "22344/22344 [==============================] - 1s 27us/step - loss: 0.1740 - coeff_determination: 0.5488 - mean_ape: 5.9110 - mean_absolute_error: 0.2916\n",
      "Epoch 128/150\n",
      "22344/22344 [==============================] - 1s 27us/step - loss: 0.1745 - coeff_determination: 0.5436 - mean_ape: 5.8988 - mean_absolute_error: 0.2912\n",
      "Epoch 129/150\n",
      "22344/22344 [==============================] - 1s 28us/step - loss: 0.1744 - coeff_determination: 0.5463 - mean_ape: 5.9352 - mean_absolute_error: 0.2925\n",
      "Epoch 130/150\n",
      "22344/22344 [==============================] - 1s 27us/step - loss: 0.1754 - coeff_determination: 0.5420 - mean_ape: 5.9322 - mean_absolute_error: 0.2926\n",
      "Epoch 131/150\n",
      "22344/22344 [==============================] - 1s 29us/step - loss: 0.1764 - coeff_determination: 0.5421 - mean_ape: 5.9407 - mean_absolute_error: 0.2933\n",
      "Epoch 132/150\n",
      "22344/22344 [==============================] - 1s 28us/step - loss: 0.1768 - coeff_determination: 0.5372 - mean_ape: 5.9389 - mean_absolute_error: 0.2931\n",
      "Epoch 133/150\n",
      "22344/22344 [==============================] - 1s 27us/step - loss: 0.1763 - coeff_determination: 0.5415 - mean_ape: 5.9529 - mean_absolute_error: 0.2938\n",
      "Epoch 134/150\n",
      "22344/22344 [==============================] - 1s 30us/step - loss: 0.1753 - coeff_determination: 0.5358 - mean_ape: 5.9220 - mean_absolute_error: 0.2924\n",
      "Epoch 135/150\n",
      "22344/22344 [==============================] - 1s 28us/step - loss: 0.1742 - coeff_determination: 0.5447 - mean_ape: 5.9127 - mean_absolute_error: 0.2917\n",
      "Epoch 136/150\n",
      "22344/22344 [==============================] - 1s 27us/step - loss: 0.1744 - coeff_determination: 0.5487 - mean_ape: 5.9072 - mean_absolute_error: 0.2916\n",
      "Epoch 137/150\n",
      "22344/22344 [==============================] - 1s 27us/step - loss: 0.1733 - coeff_determination: 0.5437 - mean_ape: 5.9002 - mean_absolute_error: 0.2911\n",
      "Epoch 138/150\n",
      "22344/22344 [==============================] - 1s 29us/step - loss: 0.1756 - coeff_determination: 0.5373 - mean_ape: 5.9358 - mean_absolute_error: 0.2929\n",
      "Epoch 139/150\n",
      "22344/22344 [==============================] - 1s 28us/step - loss: 0.1717 - coeff_determination: 0.5491 - mean_ape: 5.8688 - mean_absolute_error: 0.2891\n",
      "Epoch 140/150\n",
      "22344/22344 [==============================] - 1s 30us/step - loss: 0.1734 - coeff_determination: 0.5444 - mean_ape: 5.8932 - mean_absolute_error: 0.2906\n",
      "Epoch 141/150\n",
      "22344/22344 [==============================] - 1s 27us/step - loss: 0.1785 - coeff_determination: 0.5348 - mean_ape: 5.9704 - mean_absolute_error: 0.2946\n",
      "Epoch 142/150\n",
      "22344/22344 [==============================] - 1s 31us/step - loss: 0.1729 - coeff_determination: 0.5430 - mean_ape: 5.8763 - mean_absolute_error: 0.2899\n",
      "Epoch 143/150\n",
      "22344/22344 [==============================] - 1s 30us/step - loss: 0.1736 - coeff_determination: 0.5386 - mean_ape: 5.9029 - mean_absolute_error: 0.2912\n",
      "Epoch 144/150\n",
      "22344/22344 [==============================] - 1s 32us/step - loss: 0.1715 - coeff_determination: 0.5523 - mean_ape: 5.8596 - mean_absolute_error: 0.2890\n",
      "Epoch 145/150\n",
      "22344/22344 [==============================] - 1s 33us/step - loss: 0.1745 - coeff_determination: 0.5460 - mean_ape: 5.9207 - mean_absolute_error: 0.2919\n",
      "Epoch 146/150\n",
      "22344/22344 [==============================] - 1s 34us/step - loss: 0.1740 - coeff_determination: 0.5400 - mean_ape: 5.9156 - mean_absolute_error: 0.2918\n",
      "Epoch 147/150\n",
      "22344/22344 [==============================] - 1s 29us/step - loss: 0.1732 - coeff_determination: 0.5509 - mean_ape: 5.8941 - mean_absolute_error: 0.2908\n",
      "Epoch 148/150\n",
      "22344/22344 [==============================] - 1s 31us/step - loss: 0.1754 - coeff_determination: 0.5405 - mean_ape: 5.9214 - mean_absolute_error: 0.2923\n",
      "Epoch 149/150\n",
      "22344/22344 [==============================] - 1s 29us/step - loss: 0.1737 - coeff_determination: 0.5443 - mean_ape: 5.8993 - mean_absolute_error: 0.2910\n",
      "Epoch 150/150\n",
      "22344/22344 [==============================] - 1s 31us/step - loss: 0.1768 - coeff_determination: 0.5383 - mean_ape: 5.9423 - mean_absolute_error: 0.2933\n"
     ]
    }
   ],
   "source": [
    "#Keras model\n",
    "for epochs in [150]:\n",
    "    for batch in [60]:\n",
    "        K.clear_session()\n",
    "        model = keras.models.Sequential();\n",
    "        model.add(keras.layers.core.Dense(units = 40, activation='relu', input_dim = 50));\n",
    "        model.add(keras.layers.core.Dense(units=20, activation = 'relu'))\n",
    "        model.add(keras.layers.core.Dense(1, activation = 'relu'));\n",
    "        adam = Adam(lr=0.01, beta_1=0.9, beta_2=0.999, epsilon=None, decay=0.0, amsgrad=False);\n",
    "        model.compile(loss=\"mean_squared_error\", optimizer=adam, metrics = [coeff_determination, mean_ape,'mae']);\n",
    "        print(model.summary(), 'Epochs = ', epochs, 'Batch =', batch);\n",
    "        history = model.fit(X_train, Y_train, epochs = epochs, batch_size= batch, verbose = 1);\n",
    "        #print(model.evaluate(X_val, Y_val,verbose=False)[1], )"
   ]
  },
  {
   "cell_type": "code",
   "execution_count": 19,
   "metadata": {},
   "outputs": [
    {
     "name": "stdout",
     "output_type": "stream",
     "text": [
      "dict_keys(['loss', 'coeff_determination', 'mean_ape', 'mean_absolute_error'])\n"
     ]
    }
   ],
   "source": [
    "print(history.history.keys())"
   ]
  },
  {
   "cell_type": "code",
   "execution_count": 20,
   "metadata": {},
   "outputs": [
    {
     "name": "stdout",
     "output_type": "stream",
     "text": [
      "[0.23436701563452036, 0.3458592239307154, 6.7505157155201845, 0.33286779241838466]\n",
      "[0.24324763702984575, 0.33169179834732515, 6.818700839631717, 0.33632399818131964]\n"
     ]
    }
   ],
   "source": [
    "print(model.evaluate(X_test, Y_test,verbose=False))"
   ]
  },
  {
   "cell_type": "code",
   "execution_count": 21,
   "metadata": {
    "scrolled": true
   },
   "outputs": [
    {
     "data": {
      "text/plain": [
       "6.8187024818554836"
      ]
     },
     "execution_count": 21,
     "metadata": {},
     "output_type": "execute_result"
    }
   ],
   "source": [
    "Y_predict = model.predict(X_test)"
   ]
  },
  {
   "cell_type": "code",
   "execution_count": 24,
   "metadata": {
    "scrolled": true
   },
   "outputs": [
    {
     "data": {
      "text/plain": [
       "<matplotlib.legend.Legend at 0x1bd54110cf8>"
      ]
     },
     "execution_count": 24,
     "metadata": {},
     "output_type": "execute_result"
    },
    {
     "data": {
      "image/png": "[encoded data removed]",
      "text/plain": [
       "<Figure size 432x288 with 1 Axes>"
      ]
     },
     "metadata": {
      "needs_background": "light"
     },
     "output_type": "display_data"
    }
   ],
   "source": [
    "plt.plot(history.history['loss'])\n",
    "#plt.plot(history.history['mean_ape'])\n",
    "plt.title('Model Loss History')\n",
    "plt.ylabel('MSE')\n",
    "plt.xlabel('Epochs')\n",
    "plt.legend(['MSE'])\n"
   ]
  },
  {
   "cell_type": "code",
   "execution_count": 25,
   "metadata": {},
   "outputs": [
    {
     "data": {
      "text/plain": [
       "<matplotlib.legend.Legend at 0x1bd541b7da0>"
      ]
     },
     "execution_count": 25,
     "metadata": {},
     "output_type": "execute_result"
    },
    {
     "data": {
      "image/png": "[encoded data removed]",
      "text/plain": [
       "<Figure size 432x288 with 1 Axes>"
      ]
     },
     "metadata": {
      "needs_background": "light"
     },
     "output_type": "display_data"
    }
   ],
   "source": [
    "plt.plot(history.history['mean_ape'])\n",
    "#plt.plot(history.history['mean_ape'])\n",
    "plt.title('MAPE vs Epochs')\n",
    "plt.ylabel('MAPE (%)')\n",
    "plt.xlabel('Epochs')\n",
    "plt.legend(['MAPE'])\n"
   ]
  },
  {
   "cell_type": "code",
   "execution_count": 60,
   "metadata": {},
   "outputs": [
    {
     "name": "stdout",
     "output_type": "stream",
     "text": [
      "6.552984964228475\n"
     ]
    },
    {
     "data": {
      "image/png": "[encoded data removed]",
      "text/plain": [
       "<Figure size 432x288 with 1 Axes>"
      ]
     },
     "metadata": {
      "needs_background": "light"
     },
     "output_type": "display_data"
    }
   ],
   "source": [
    "comparison = np.ravel(np.abs((Y_predict-Y_test)/Y_test*100))\n",
    "abs_comparison = np.abs(comparison)\n",
    "mask = np.where(abs_comparison>0)\n",
    "plt.scatter(range(np.shape(mask)[1]), comparison[mask])\n",
    "plt.axhline(y=mean_apes(Y_predict,Y_test), color='r', linestyle='-')\n",
    "plt.title('Actual vs Predicted')\n",
    "plt.ylabel('Molecular Activity % Error')\n",
    "plt.xlabel('Index')\n",
    "plt.legend(['% Error', 'MAPE'])\n",
    "plt.text(0.05, 60, 'STD of 9.40%')\n",
    "print(comparison.std())"
   ]
  },
  {
   "cell_type": "code",
   "execution_count": 64,
   "metadata": {},
   "outputs": [
    {
     "data": {
      "text/plain": [
       "Text(30, 3000, 'STD of 9.40%')"
      ]
     },
     "execution_count": 64,
     "metadata": {},
     "output_type": "execute_result"
    },
    {
     "data": {
      "image/png": "[encoded data removed]",
      "text/plain": [
       "<Figure size 432x288 with 1 Axes>"
      ]
     },
     "metadata": {
      "needs_background": "light"
     },
     "output_type": "display_data"
    }
   ],
   "source": [
    "comparison = np.ravel(np.abs((Y_predict-Y_test)/Y_test*100))\n",
    "abs_comparison = np.abs(comparison)\n",
    "mask = np.where(abs_comparison>0)\n",
    "fig, ax= plt.subplots(1, 1,tight_layout=True)\n",
    "ax.hist(comparison,np.linspace(0,40,21))\n",
    "ax.set_xlabel('APE %')\n",
    "ax.set_ylabel('Frequency')\n",
    "ax.set_title('APE Histogram ANOVA 50 Features')\n",
    "ax.text(30, 3000)"
   ]
  },
  {
   "cell_type": "code",
   "execution_count": 57,
   "metadata": {},
   "outputs": [],
   "source": [
    "# exportdata = pd.DataFrame()\n",
    "# exportdata['loss_anova'] = history.history['loss']\n",
    "# exportdata['mean_ape'] = history.history['mean_ape']\n",
    "# exportdata['mean_absolute_error'] = history.history['mean_absolute_error']\n",
    "# exportdata['coeff_determination'] = history.history['coeff_determination']\n",
    "# exportdata.to_csv('Anova_data_plots.csv')\n",
    "\n",
    "\n",
    "\n"
   ]
  },
  {
   "cell_type": "code",
   "execution_count": null,
   "metadata": {},
   "outputs": [],
   "source": []
  }
 ],
 "metadata": {
  "kernelspec": {
   "display_name": "Python 3",
   "language": "python",
   "name": "python3"
  },
  "language_info": {
   "codemirror_mode": {
    "name": "ipython",
    "version": 3
   },
   "file_extension": ".py",
   "mimetype": "text/x-python",
   "name": "python",
   "nbconvert_exporter": "python",
   "pygments_lexer": "ipython3",
   "version": "3.6.7"
  }
 },
 "nbformat": 4,
 "nbformat_minor": 2
}
