{
 "cells": [
  {
   "cell_type": "code",
   "execution_count": 4,
   "metadata": {},
   "outputs": [],
   "source": [
    "import pandas as pd\n",
    "import matplotlib.pyplot as plt\n",
    "%matplotlib inline"
   ]
  },
  {
   "cell_type": "code",
   "execution_count": 6,
   "metadata": {},
   "outputs": [],
   "source": [
    "train_1 = pd.read_csv('ACT1_Anova_50.csv')"
   ]
  },
  {
   "cell_type": "code",
   "execution_count": 7,
   "metadata": {},
   "outputs": [
    {
     "data": {
      "text/html": [
       "<div>\n",
       "<style scoped>\n",
       "    .dataframe tbody tr th:only-of-type {\n",
       "        vertical-align: middle;\n",
       "    }\n",
       "\n",
       "    .dataframe tbody tr th {\n",
       "        vertical-align: top;\n",
       "    }\n",
       "\n",
       "    .dataframe thead th {\n",
       "        text-align: right;\n",
       "    }\n",
       "</style>\n",
       "<table border=\"1\" class=\"dataframe\">\n",
       "  <thead>\n",
       "    <tr style=\"text-align: right;\">\n",
       "      <th></th>\n",
       "      <th>Unnamed: 0</th>\n",
       "      <th>D_297</th>\n",
       "      <th>D_298</th>\n",
       "      <th>D_299</th>\n",
       "      <th>D_385</th>\n",
       "      <th>D_395</th>\n",
       "      <th>D_466</th>\n",
       "      <th>D_467</th>\n",
       "      <th>D_468</th>\n",
       "      <th>D_476</th>\n",
       "      <th>...</th>\n",
       "      <th>D_4860</th>\n",
       "      <th>D_4941</th>\n",
       "      <th>D_5522</th>\n",
       "      <th>D_5523</th>\n",
       "      <th>D_5525</th>\n",
       "      <th>D_5526</th>\n",
       "      <th>D_5607</th>\n",
       "      <th>D_7234</th>\n",
       "      <th>D_7235</th>\n",
       "      <th>Act</th>\n",
       "    </tr>\n",
       "  </thead>\n",
       "  <tbody>\n",
       "    <tr>\n",
       "      <th>0</th>\n",
       "      <td>0</td>\n",
       "      <td>0</td>\n",
       "      <td>0</td>\n",
       "      <td>0</td>\n",
       "      <td>0</td>\n",
       "      <td>0</td>\n",
       "      <td>0</td>\n",
       "      <td>0</td>\n",
       "      <td>0</td>\n",
       "      <td>0</td>\n",
       "      <td>...</td>\n",
       "      <td>0</td>\n",
       "      <td>0</td>\n",
       "      <td>0</td>\n",
       "      <td>0</td>\n",
       "      <td>0</td>\n",
       "      <td>0</td>\n",
       "      <td>0</td>\n",
       "      <td>3</td>\n",
       "      <td>2</td>\n",
       "      <td>6.0179</td>\n",
       "    </tr>\n",
       "    <tr>\n",
       "      <th>1</th>\n",
       "      <td>1</td>\n",
       "      <td>0</td>\n",
       "      <td>0</td>\n",
       "      <td>0</td>\n",
       "      <td>0</td>\n",
       "      <td>0</td>\n",
       "      <td>3</td>\n",
       "      <td>1</td>\n",
       "      <td>2</td>\n",
       "      <td>0</td>\n",
       "      <td>...</td>\n",
       "      <td>0</td>\n",
       "      <td>0</td>\n",
       "      <td>1</td>\n",
       "      <td>1</td>\n",
       "      <td>0</td>\n",
       "      <td>0</td>\n",
       "      <td>0</td>\n",
       "      <td>0</td>\n",
       "      <td>0</td>\n",
       "      <td>4.3003</td>\n",
       "    </tr>\n",
       "    <tr>\n",
       "      <th>2</th>\n",
       "      <td>2</td>\n",
       "      <td>0</td>\n",
       "      <td>0</td>\n",
       "      <td>0</td>\n",
       "      <td>0</td>\n",
       "      <td>0</td>\n",
       "      <td>0</td>\n",
       "      <td>0</td>\n",
       "      <td>0</td>\n",
       "      <td>0</td>\n",
       "      <td>...</td>\n",
       "      <td>0</td>\n",
       "      <td>0</td>\n",
       "      <td>0</td>\n",
       "      <td>0</td>\n",
       "      <td>0</td>\n",
       "      <td>0</td>\n",
       "      <td>0</td>\n",
       "      <td>3</td>\n",
       "      <td>5</td>\n",
       "      <td>5.2697</td>\n",
       "    </tr>\n",
       "    <tr>\n",
       "      <th>3</th>\n",
       "      <td>3</td>\n",
       "      <td>1</td>\n",
       "      <td>0</td>\n",
       "      <td>1</td>\n",
       "      <td>0</td>\n",
       "      <td>0</td>\n",
       "      <td>10</td>\n",
       "      <td>6</td>\n",
       "      <td>7</td>\n",
       "      <td>0</td>\n",
       "      <td>...</td>\n",
       "      <td>0</td>\n",
       "      <td>1</td>\n",
       "      <td>2</td>\n",
       "      <td>4</td>\n",
       "      <td>1</td>\n",
       "      <td>2</td>\n",
       "      <td>1</td>\n",
       "      <td>1</td>\n",
       "      <td>2</td>\n",
       "      <td>6.1797</td>\n",
       "    </tr>\n",
       "    <tr>\n",
       "      <th>4</th>\n",
       "      <td>4</td>\n",
       "      <td>0</td>\n",
       "      <td>0</td>\n",
       "      <td>0</td>\n",
       "      <td>7</td>\n",
       "      <td>0</td>\n",
       "      <td>0</td>\n",
       "      <td>0</td>\n",
       "      <td>0</td>\n",
       "      <td>0</td>\n",
       "      <td>...</td>\n",
       "      <td>0</td>\n",
       "      <td>0</td>\n",
       "      <td>2</td>\n",
       "      <td>3</td>\n",
       "      <td>0</td>\n",
       "      <td>0</td>\n",
       "      <td>1</td>\n",
       "      <td>4</td>\n",
       "      <td>3</td>\n",
       "      <td>4.3003</td>\n",
       "    </tr>\n",
       "  </tbody>\n",
       "</table>\n",
       "<p>5 rows × 52 columns</p>\n",
       "</div>"
      ],
      "text/plain": [
       "   Unnamed: 0  D_297  D_298  D_299  D_385  D_395  D_466  D_467  D_468  D_476  \\\n",
       "0           0      0      0      0      0      0      0      0      0      0   \n",
       "1           1      0      0      0      0      0      3      1      2      0   \n",
       "2           2      0      0      0      0      0      0      0      0      0   \n",
       "3           3      1      0      1      0      0     10      6      7      0   \n",
       "4           4      0      0      0      7      0      0      0      0      0   \n",
       "\n",
       "    ...    D_4860  D_4941  D_5522  D_5523  D_5525  D_5526  D_5607  D_7234  \\\n",
       "0   ...         0       0       0       0       0       0       0       3   \n",
       "1   ...         0       0       1       1       0       0       0       0   \n",
       "2   ...         0       0       0       0       0       0       0       3   \n",
       "3   ...         0       1       2       4       1       2       1       1   \n",
       "4   ...         0       0       2       3       0       0       1       4   \n",
       "\n",
       "   D_7235     Act  \n",
       "0       2  6.0179  \n",
       "1       0  4.3003  \n",
       "2       5  5.2697  \n",
       "3       2  6.1797  \n",
       "4       3  4.3003  \n",
       "\n",
       "[5 rows x 52 columns]"
      ]
     },
     "execution_count": 7,
     "metadata": {},
     "output_type": "execute_result"
    }
   ],
   "source": [
    "train_1.head(5)"
   ]
  },
  {
   "cell_type": "code",
   "execution_count": 8,
   "metadata": {},
   "outputs": [],
   "source": [
    "from sklearn.model_selection import train_test_split\n",
    "import numpy as np\n",
    "y = train_1['Act'].values\n",
    "train_1 = train_1.drop(['Act', 'Unnamed: 0'], axis = 1)\n",
    "x = train_1.values\n",
    "X_train, X_test, Y_train, Y_test = train_test_split(x, y, test_size = 0.20, random_state = 0)\n",
    "X_train, X_val, Y_train, Y_val = train_test_split(X_train, Y_train, test_size=0.25, random_state=0)\n"
   ]
  },
  {
   "cell_type": "code",
   "execution_count": 9,
   "metadata": {},
   "outputs": [
    {
     "name": "stdout",
     "output_type": "stream",
     "text": [
      "(22344,) (22344, 50) (7449,) (7449, 50)\n"
     ]
    }
   ],
   "source": [
    "print(np.shape(Y_train), np.shape(X_train), np.shape(Y_test), np.shape(X_test))\n",
    "Y_train = np.reshape(Y_train,(len(Y_train),1))\n",
    "Y_test = np.reshape(Y_test,(len(Y_test),1))\n"
   ]
  },
  {
   "cell_type": "code",
   "execution_count": 10,
   "metadata": {},
   "outputs": [],
   "source": [
    "def r_square(X, Y):\n",
    "    \"\"\" r^2 value defined by the competition host, r^2 = 1 indicates 100% prediction accuracy\n",
    "    \"\"\"\n",
    "    avx = np.mean(X)\n",
    "    avy = np.mean(Y)\n",
    "    sum1, sumx, sumy = 0, 0, 0\n",
    "    for i in range(len(X)):\n",
    "        sum1 += (X[i] - avx)*(Y[i] - avy)\n",
    "        sumx += (X[i] - avx)*(X[i] - avx)\n",
    "        sumy += (Y[i] - avy)*(Y[i] - avy)\n",
    "    print(len(X), sum1, sumx, sumy)\n",
    "    return sum1*sum1/(sumx*sumy)"
   ]
  },
  {
   "cell_type": "code",
   "execution_count": 11,
   "metadata": {},
   "outputs": [
    {
     "name": "stderr",
     "output_type": "stream",
     "text": [
      "Using TensorFlow backend.\n"
     ]
    }
   ],
   "source": [
    "from keras import backend as K\n",
    "#Keras R_2 function\n",
    "R_2 = []\n",
    "def coeff_determination(y_true, y_pred):\n",
    "    SS_res =  K.sum(K.square( y_true-y_pred )) \n",
    "    SS_tot = K.sum(K.square( y_true - K.mean(y_true) ) ) \n",
    "    return ( 1 - SS_res/(SS_tot + K.epsilon()) )"
   ]
  },
  {
   "cell_type": "code",
   "execution_count": 12,
   "metadata": {},
   "outputs": [],
   "source": [
    "from sklearn.metrics import make_scorer\n",
    "#Keras MAPE function\n",
    "MAPE = []\n",
    "def mean_ape(y_true, y_pred):\n",
    "    return K.mean(K.abs((y_true-y_pred)/y_true))*100\n",
    "#Scikit learn mape function\n",
    "def mean_apes(y_true, y_pred):\n",
    "    return np.mean(np.abs((y_true-y_pred)/y_true))*100\n",
    "mape_func = make_scorer(mean_apes)"
   ]
  },
  {
   "cell_type": "code",
   "execution_count": 13,
   "metadata": {},
   "outputs": [],
   "source": [
    "from tensorflow.keras.models import Sequential\n",
    "import keras\n",
    "from tensorflow.keras.layers import Dense\n",
    "from keras.optimizers import Adam \n",
    "from tensorflow.keras.wrappers.scikit_learn import KerasRegressor"
   ]
  },
  {
   "cell_type": "code",
   "execution_count": 18,
   "metadata": {},
   "outputs": [],
   "source": [
    "def build_model(learn_rate):\n",
    "    model = keras.models.Sequential();\n",
    "    model.add(keras.layers.core.Dense(units = 40, activation='relu', input_dim = 50));\n",
    "    model.add(keras.layers.core.Dense(units=20, activation = 'relu'))\n",
    "    model.add(keras.layers.core.Dense(1, activation = 'relu'));\n",
    "    adam = Adam(lr=learn_rate, beta_1=0.9, beta_2=0.999, epsilon=None, decay=0.0, amsgrad=False);\n",
    "    model.compile(optimizer=adam,loss='mean_squared_error')\n",
    "    return model"
   ]
  },
  {
   "cell_type": "code",
   "execution_count": 19,
   "metadata": {},
   "outputs": [],
   "source": [
    "regressor = KerasRegressor(build_fn=build_model)"
   ]
  },
  {
   "cell_type": "code",
   "execution_count": 55,
   "metadata": {},
   "outputs": [],
   "source": [
    "from sklearn.model_selection import RandomizedSearchCV\n",
    "parameters ={'batch_size':[50,100,200],\n",
    "            'nb_epoch':[50,150,250],\n",
    "            'learn_rate':[0.01,0.1]}\n",
    "#parameters ={'batch_size':np.random.uniform(50,200,5).astype(int),\n",
    "#            'nb_epoch': np.random.uniform(50,250,5).astype(int),\n",
    "#            'learn_rate':[0.001,0.01,0.1]}\n",
    "random_search= RandomizedSearchCV(estimator=regressor, param_distributions=parameters,n_jobs=-1,cv=5, scoring = mape_func, n_iter=18)"
   ]
  },
  {
   "cell_type": "code",
   "execution_count": 56,
   "metadata": {
    "scrolled": true
   },
   "outputs": [
    {
     "name": "stdout",
     "output_type": "stream",
     "text": [
      "Epoch 1/1\n",
      "37241/37241 [==============================] - 0s 12us/step - loss: 4.8746\n"
     ]
    },
    {
     "data": {
      "text/plain": [
       "RandomizedSearchCV(cv=5, error_score='raise-deprecating',\n",
       "          estimator=<tensorflow.python.keras.wrappers.scikit_learn.KerasRegressor object at 0x00000226F8470470>,\n",
       "          fit_params=None, iid='warn', n_iter=18, n_jobs=-1,\n",
       "          param_distributions={'batch_size': [50, 100, 200], 'nb_epoch': [50, 150, 250], 'learn_rate': [0.01, 0.1]},\n",
       "          pre_dispatch='2*n_jobs', random_state=None, refit=True,\n",
       "          return_train_score='warn', scoring=make_scorer(mean_apes),\n",
       "          verbose=0)"
      ]
     },
     "execution_count": 56,
     "metadata": {},
     "output_type": "execute_result"
    }
   ],
   "source": [
    "random_search.fit(x, y)"
   ]
  },
  {
   "cell_type": "code",
   "execution_count": 57,
   "metadata": {},
   "outputs": [
    {
     "data": {
      "text/plain": [
       "array([ 8.51230466,  8.53717977,  8.51726583, 45.82930307, 63.42535902,\n",
       "       63.31537832,  8.90295796,  8.75682514,  9.3155478 ,  8.976728  ,\n",
       "       45.86254611, 45.73663726, 11.44046489, 11.20761844, 10.89734185,\n",
       "       63.50193854, 63.67252982, 47.66311163])"
      ]
     },
     "execution_count": 57,
     "metadata": {},
     "output_type": "execute_result"
    }
   ],
   "source": [
    "random_search.cv_results_['mean_test_score']"
   ]
  },
  {
   "cell_type": "code",
   "execution_count": 58,
   "metadata": {},
   "outputs": [
    {
     "data": {
      "text/html": [
       "<div>\n",
       "<style scoped>\n",
       "    .dataframe tbody tr th:only-of-type {\n",
       "        vertical-align: middle;\n",
       "    }\n",
       "\n",
       "    .dataframe tbody tr th {\n",
       "        vertical-align: top;\n",
       "    }\n",
       "\n",
       "    .dataframe thead th {\n",
       "        text-align: right;\n",
       "    }\n",
       "</style>\n",
       "<table border=\"1\" class=\"dataframe\">\n",
       "  <thead>\n",
       "    <tr style=\"text-align: right;\">\n",
       "      <th></th>\n",
       "      <th>mean_test_score</th>\n",
       "      <th>param_nb_epoch</th>\n",
       "      <th>param_learn_rate</th>\n",
       "      <th>param_batch_size</th>\n",
       "    </tr>\n",
       "  </thead>\n",
       "  <tbody>\n",
       "    <tr>\n",
       "      <th>0</th>\n",
       "      <td>8.512305</td>\n",
       "      <td>50</td>\n",
       "      <td>0.01</td>\n",
       "      <td>50</td>\n",
       "    </tr>\n",
       "    <tr>\n",
       "      <th>2</th>\n",
       "      <td>8.517266</td>\n",
       "      <td>250</td>\n",
       "      <td>0.01</td>\n",
       "      <td>50</td>\n",
       "    </tr>\n",
       "    <tr>\n",
       "      <th>1</th>\n",
       "      <td>8.537180</td>\n",
       "      <td>150</td>\n",
       "      <td>0.01</td>\n",
       "      <td>50</td>\n",
       "    </tr>\n",
       "    <tr>\n",
       "      <th>7</th>\n",
       "      <td>8.756825</td>\n",
       "      <td>150</td>\n",
       "      <td>0.01</td>\n",
       "      <td>100</td>\n",
       "    </tr>\n",
       "    <tr>\n",
       "      <th>6</th>\n",
       "      <td>8.902958</td>\n",
       "      <td>50</td>\n",
       "      <td>0.01</td>\n",
       "      <td>100</td>\n",
       "    </tr>\n",
       "    <tr>\n",
       "      <th>9</th>\n",
       "      <td>8.976728</td>\n",
       "      <td>50</td>\n",
       "      <td>0.1</td>\n",
       "      <td>100</td>\n",
       "    </tr>\n",
       "    <tr>\n",
       "      <th>8</th>\n",
       "      <td>9.315548</td>\n",
       "      <td>250</td>\n",
       "      <td>0.01</td>\n",
       "      <td>100</td>\n",
       "    </tr>\n",
       "    <tr>\n",
       "      <th>14</th>\n",
       "      <td>10.897342</td>\n",
       "      <td>250</td>\n",
       "      <td>0.01</td>\n",
       "      <td>200</td>\n",
       "    </tr>\n",
       "    <tr>\n",
       "      <th>13</th>\n",
       "      <td>11.207618</td>\n",
       "      <td>150</td>\n",
       "      <td>0.01</td>\n",
       "      <td>200</td>\n",
       "    </tr>\n",
       "    <tr>\n",
       "      <th>12</th>\n",
       "      <td>11.440465</td>\n",
       "      <td>50</td>\n",
       "      <td>0.01</td>\n",
       "      <td>200</td>\n",
       "    </tr>\n",
       "    <tr>\n",
       "      <th>11</th>\n",
       "      <td>45.736637</td>\n",
       "      <td>250</td>\n",
       "      <td>0.1</td>\n",
       "      <td>100</td>\n",
       "    </tr>\n",
       "    <tr>\n",
       "      <th>3</th>\n",
       "      <td>45.829303</td>\n",
       "      <td>50</td>\n",
       "      <td>0.1</td>\n",
       "      <td>50</td>\n",
       "    </tr>\n",
       "    <tr>\n",
       "      <th>10</th>\n",
       "      <td>45.862546</td>\n",
       "      <td>150</td>\n",
       "      <td>0.1</td>\n",
       "      <td>100</td>\n",
       "    </tr>\n",
       "    <tr>\n",
       "      <th>17</th>\n",
       "      <td>47.663112</td>\n",
       "      <td>250</td>\n",
       "      <td>0.1</td>\n",
       "      <td>200</td>\n",
       "    </tr>\n",
       "    <tr>\n",
       "      <th>5</th>\n",
       "      <td>63.315378</td>\n",
       "      <td>250</td>\n",
       "      <td>0.1</td>\n",
       "      <td>50</td>\n",
       "    </tr>\n",
       "    <tr>\n",
       "      <th>4</th>\n",
       "      <td>63.425359</td>\n",
       "      <td>150</td>\n",
       "      <td>0.1</td>\n",
       "      <td>50</td>\n",
       "    </tr>\n",
       "    <tr>\n",
       "      <th>15</th>\n",
       "      <td>63.501939</td>\n",
       "      <td>50</td>\n",
       "      <td>0.1</td>\n",
       "      <td>200</td>\n",
       "    </tr>\n",
       "    <tr>\n",
       "      <th>16</th>\n",
       "      <td>63.672530</td>\n",
       "      <td>150</td>\n",
       "      <td>0.1</td>\n",
       "      <td>200</td>\n",
       "    </tr>\n",
       "  </tbody>\n",
       "</table>\n",
       "</div>"
      ],
      "text/plain": [
       "    mean_test_score param_nb_epoch param_learn_rate param_batch_size\n",
       "0          8.512305             50             0.01               50\n",
       "2          8.517266            250             0.01               50\n",
       "1          8.537180            150             0.01               50\n",
       "7          8.756825            150             0.01              100\n",
       "6          8.902958             50             0.01              100\n",
       "9          8.976728             50              0.1              100\n",
       "8          9.315548            250             0.01              100\n",
       "14        10.897342            250             0.01              200\n",
       "13        11.207618            150             0.01              200\n",
       "12        11.440465             50             0.01              200\n",
       "11        45.736637            250              0.1              100\n",
       "3         45.829303             50              0.1               50\n",
       "10        45.862546            150              0.1              100\n",
       "17        47.663112            250              0.1              200\n",
       "5         63.315378            250              0.1               50\n",
       "4         63.425359            150              0.1               50\n",
       "15        63.501939             50              0.1              200\n",
       "16        63.672530            150              0.1              200"
      ]
     },
     "execution_count": 58,
     "metadata": {},
     "output_type": "execute_result"
    }
   ],
   "source": [
    "gridsearchdf = pd.DataFrame(random_search.cv_results_)\n",
    "results = gridsearchdf[['mean_test_score','param_nb_epoch','param_learn_rate','param_batch_size']].sort_values('mean_test_score')\n",
    "results"
   ]
  },
  {
   "cell_type": "code",
   "execution_count": null,
   "metadata": {},
   "outputs": [],
   "source": [
    "#Manual Tuning Below"
   ]
  },
  {
   "cell_type": "code",
   "execution_count": 30,
   "metadata": {},
   "outputs": [
    {
     "name": "stdout",
     "output_type": "stream",
     "text": [
      "_________________________________________________________________\n",
      "Layer (type)                 Output Shape              Param #   \n",
      "=================================================================\n",
      "dense_1 (Dense)              (None, 40)                2040      \n",
      "_________________________________________________________________\n",
      "dense_2 (Dense)              (None, 20)                820       \n",
      "_________________________________________________________________\n",
      "dense_3 (Dense)              (None, 1)                 21        \n",
      "=================================================================\n",
      "Total params: 2,881\n",
      "Trainable params: 2,881\n",
      "Non-trainable params: 0\n",
      "_________________________________________________________________\n",
      "None Epochs =  50 Batch = 50\n",
      "Epoch 1/50\n",
      "22344/22344 [==============================] - 1s 23us/step - loss: 0.9125 - coeff_determination: -1.5402 - mean_ape: 12.9277 - mean_absolute_error: 0.6252\n",
      "Epoch 2/50\n",
      "22344/22344 [==============================] - 0s 16us/step - loss: 0.3023 - coeff_determination: 0.2106 - mean_ape: 8.0452 - mean_absolute_error: 0.3979\n",
      "Epoch 3/50\n",
      "22344/22344 [==============================] - 0s 17us/step - loss: 0.2835 - coeff_determination: 0.2578 - mean_ape: 7.7624 - mean_absolute_error: 0.3839\n",
      "Epoch 4/50\n",
      "22344/22344 [==============================] - 0s 16us/step - loss: 0.2693 - coeff_determination: 0.3005 - mean_ape: 7.5869 - mean_absolute_error: 0.3752\n",
      "Epoch 5/50\n",
      "22344/22344 [==============================] - 0s 17us/step - loss: 0.2675 - coeff_determination: 0.2945 - mean_ape: 7.5796 - mean_absolute_error: 0.3747\n",
      "Epoch 6/50\n",
      "22344/22344 [==============================] - 0s 17us/step - loss: 0.2657 - coeff_determination: 0.3054 - mean_ape: 7.5556 - mean_absolute_error: 0.3733\n",
      "Epoch 7/50\n",
      "22344/22344 [==============================] - 0s 16us/step - loss: 0.2602 - coeff_determination: 0.3199 - mean_ape: 7.4765 - mean_absolute_error: 0.3692\n",
      "Epoch 8/50\n",
      "22344/22344 [==============================] - 0s 15us/step - loss: 0.2619 - coeff_determination: 0.3147 - mean_ape: 7.4890 - mean_absolute_error: 0.3701\n",
      "Epoch 9/50\n",
      "22344/22344 [==============================] - 0s 15us/step - loss: 0.2593 - coeff_determination: 0.3109 - mean_ape: 7.4438 - mean_absolute_error: 0.3678\n",
      "Epoch 10/50\n",
      "22344/22344 [==============================] - 0s 18us/step - loss: 0.2655 - coeff_determination: 0.3050 - mean_ape: 7.5044 - mean_absolute_error: 0.3710\n",
      "Epoch 11/50\n",
      "22344/22344 [==============================] - 0s 16us/step - loss: 0.2608 - coeff_determination: 0.3191 - mean_ape: 7.4688 - mean_absolute_error: 0.3691\n",
      "Epoch 12/50\n",
      "22344/22344 [==============================] - 0s 16us/step - loss: 0.2529 - coeff_determination: 0.3435 - mean_ape: 7.3150 - mean_absolute_error: 0.3615\n",
      "Epoch 13/50\n",
      "22344/22344 [==============================] - 0s 17us/step - loss: 0.2613 - coeff_determination: 0.3205 - mean_ape: 7.4414 - mean_absolute_error: 0.3680\n",
      "Epoch 14/50\n",
      "22344/22344 [==============================] - 0s 17us/step - loss: 0.2525 - coeff_determination: 0.3269 - mean_ape: 7.3291 - mean_absolute_error: 0.3622 0s - loss: 0.2565 - coeff_determination: 0.3503 - mean_ape: 7.3793 - mean_absolute_err\n",
      "Epoch 15/50\n",
      "22344/22344 [==============================] - 0s 22us/step - loss: 0.2408 - coeff_determination: 0.3634 - mean_ape: 7.1665 - mean_absolute_error: 0.3538\n",
      "Epoch 16/50\n",
      "22344/22344 [==============================] - 1s 26us/step - loss: 0.2454 - coeff_determination: 0.3548 - mean_ape: 7.2385 - mean_absolute_error: 0.3573\n",
      "Epoch 17/50\n",
      "22344/22344 [==============================] - 0s 17us/step - loss: 0.2439 - coeff_determination: 0.3632 - mean_ape: 7.1734 - mean_absolute_error: 0.3544\n",
      "Epoch 18/50\n",
      "22344/22344 [==============================] - 0s 16us/step - loss: 0.2398 - coeff_determination: 0.3680 - mean_ape: 7.0984 - mean_absolute_error: 0.3507\n",
      "Epoch 19/50\n",
      "22344/22344 [==============================] - 0s 16us/step - loss: 0.2381 - coeff_determination: 0.3687 - mean_ape: 7.0654 - mean_absolute_error: 0.3489\n",
      "Epoch 20/50\n",
      "22344/22344 [==============================] - 0s 15us/step - loss: 0.2402 - coeff_determination: 0.3603 - mean_ape: 7.0999 - mean_absolute_error: 0.3505\n",
      "Epoch 21/50\n",
      "22344/22344 [==============================] - 0s 16us/step - loss: 0.2378 - coeff_determination: 0.3717 - mean_ape: 7.1157 - mean_absolute_error: 0.3509\n",
      "Epoch 22/50\n",
      "22344/22344 [==============================] - 0s 16us/step - loss: 0.2316 - coeff_determination: 0.3992 - mean_ape: 6.9328 - mean_absolute_error: 0.3425\n",
      "Epoch 23/50\n",
      "22344/22344 [==============================] - 0s 15us/step - loss: 0.2292 - coeff_determination: 0.3968 - mean_ape: 6.9201 - mean_absolute_error: 0.3418\n",
      "Epoch 24/50\n",
      "22344/22344 [==============================] - 0s 17us/step - loss: 0.2306 - coeff_determination: 0.3887 - mean_ape: 6.9345 - mean_absolute_error: 0.3422\n",
      "Epoch 25/50\n",
      "22344/22344 [==============================] - 0s 17us/step - loss: 0.2274 - coeff_determination: 0.3935 - mean_ape: 6.9103 - mean_absolute_error: 0.3410\n",
      "Epoch 26/50\n",
      "22344/22344 [==============================] - 0s 16us/step - loss: 0.2271 - coeff_determination: 0.4060 - mean_ape: 6.8377 - mean_absolute_error: 0.3380\n",
      "Epoch 27/50\n",
      "22344/22344 [==============================] - 0s 15us/step - loss: 0.2257 - coeff_determination: 0.4052 - mean_ape: 6.8477 - mean_absolute_error: 0.3380\n",
      "Epoch 28/50\n",
      "22344/22344 [==============================] - 0s 16us/step - loss: 0.2228 - coeff_determination: 0.4065 - mean_ape: 6.7847 - mean_absolute_error: 0.3350\n",
      "Epoch 29/50\n",
      "22344/22344 [==============================] - 0s 17us/step - loss: 0.2231 - coeff_determination: 0.4129 - mean_ape: 6.7880 - mean_absolute_error: 0.3350\n",
      "Epoch 30/50\n",
      "22344/22344 [==============================] - 0s 17us/step - loss: 0.2187 - coeff_determination: 0.4205 - mean_ape: 6.7542 - mean_absolute_error: 0.3334\n",
      "Epoch 31/50\n",
      "22344/22344 [==============================] - 0s 15us/step - loss: 0.2206 - coeff_determination: 0.4150 - mean_ape: 6.7356 - mean_absolute_error: 0.3329\n",
      "Epoch 32/50\n",
      "22344/22344 [==============================] - 0s 16us/step - loss: 0.2200 - coeff_determination: 0.4169 - mean_ape: 6.7323 - mean_absolute_error: 0.3324\n",
      "Epoch 33/50\n",
      "22344/22344 [==============================] - 0s 15us/step - loss: 0.2172 - coeff_determination: 0.4244 - mean_ape: 6.6853 - mean_absolute_error: 0.3303\n",
      "Epoch 34/50\n",
      "22344/22344 [==============================] - 0s 15us/step - loss: 0.2151 - coeff_determination: 0.4230 - mean_ape: 6.6272 - mean_absolute_error: 0.3275\n",
      "Epoch 35/50\n",
      "22344/22344 [==============================] - 0s 16us/step - loss: 0.2145 - coeff_determination: 0.4417 - mean_ape: 6.6280 - mean_absolute_error: 0.3272\n",
      "Epoch 36/50\n",
      "22344/22344 [==============================] - 0s 16us/step - loss: 0.2154 - coeff_determination: 0.4326 - mean_ape: 6.6569 - mean_absolute_error: 0.3288\n",
      "Epoch 37/50\n",
      "22344/22344 [==============================] - 0s 15us/step - loss: 0.2106 - coeff_determination: 0.4441 - mean_ape: 6.5925 - mean_absolute_error: 0.3252\n",
      "Epoch 38/50\n",
      "22344/22344 [==============================] - 0s 17us/step - loss: 0.2116 - coeff_determination: 0.4419 - mean_ape: 6.5675 - mean_absolute_error: 0.3247\n",
      "Epoch 39/50\n",
      "22344/22344 [==============================] - 0s 17us/step - loss: 0.2123 - coeff_determination: 0.4356 - mean_ape: 6.6036 - mean_absolute_error: 0.3263\n",
      "Epoch 40/50\n",
      "22344/22344 [==============================] - 0s 16us/step - loss: 0.2101 - coeff_determination: 0.4425 - mean_ape: 6.5635 - mean_absolute_error: 0.3242\n",
      "Epoch 41/50\n",
      "22344/22344 [==============================] - 0s 16us/step - loss: 0.2125 - coeff_determination: 0.4341 - mean_ape: 6.5732 - mean_absolute_error: 0.3249\n",
      "Epoch 42/50\n",
      "22344/22344 [==============================] - 0s 15us/step - loss: 0.2091 - coeff_determination: 0.4398 - mean_ape: 6.4872 - mean_absolute_error: 0.3208\n",
      "Epoch 43/50\n",
      "22344/22344 [==============================] - 0s 15us/step - loss: 0.2086 - coeff_determination: 0.4527 - mean_ape: 6.5075 - mean_absolute_error: 0.3214\n",
      "Epoch 44/50\n",
      "22344/22344 [==============================] - 0s 16us/step - loss: 0.2055 - coeff_determination: 0.4539 - mean_ape: 6.4380 - mean_absolute_error: 0.3182\n",
      "Epoch 45/50\n"
     ]
    },
    {
     "name": "stdout",
     "output_type": "stream",
     "text": [
      "22344/22344 [==============================] - 0s 15us/step - loss: 0.2049 - coeff_determination: 0.4594 - mean_ape: 6.4301 - mean_absolute_error: 0.3179\n",
      "Epoch 46/50\n",
      "22344/22344 [==============================] - 0s 15us/step - loss: 0.2029 - coeff_determination: 0.4615 - mean_ape: 6.4334 - mean_absolute_error: 0.3176\n",
      "Epoch 47/50\n",
      "22344/22344 [==============================] - 0s 15us/step - loss: 0.2039 - coeff_determination: 0.4584 - mean_ape: 6.4665 - mean_absolute_error: 0.3195\n",
      "Epoch 48/50\n",
      "22344/22344 [==============================] - 0s 15us/step - loss: 0.2045 - coeff_determination: 0.4631 - mean_ape: 6.4427 - mean_absolute_error: 0.3184\n",
      "Epoch 49/50\n",
      "22344/22344 [==============================] - 0s 15us/step - loss: 0.2047 - coeff_determination: 0.4541 - mean_ape: 6.4616 - mean_absolute_error: 0.3191\n",
      "Epoch 50/50\n",
      "22344/22344 [==============================] - 0s 15us/step - loss: 0.2015 - coeff_determination: 0.4669 - mean_ape: 6.3962 - mean_absolute_error: 0.3160\n"
     ]
    }
   ],
   "source": [
    "#Keras model\n",
    "for epochs in [50]:\n",
    "    for batch in [50]:\n",
    "        K.clear_session()\n",
    "        model = keras.models.Sequential();\n",
    "        model.add(keras.layers.core.Dense(units = 40, activation='relu', input_dim = 50));\n",
    "        model.add(keras.layers.core.Dense(units=20, activation = 'relu'))\n",
    "        model.add(keras.layers.core.Dense(1, activation = 'relu'));\n",
    "        adam = Adam(lr=0.01, beta_1=0.9, beta_2=0.999, epsilon=None, decay=0.0, amsgrad=False);\n",
    "        model.compile(loss=\"mean_squared_error\", optimizer=adam, metrics = [coeff_determination, mean_ape,'mae']);\n",
    "        print(model.summary(), 'Epochs = ', epochs, 'Batch =', batch);\n",
    "        history = model.fit(X_train, Y_train, epochs = epochs, batch_size= batch, verbose = 1);\n",
    "        #print(model.evaluate(X_val, Y_val,verbose=False)[1], )"
   ]
  },
  {
   "cell_type": "code",
   "execution_count": 31,
   "metadata": {},
   "outputs": [
    {
     "name": "stdout",
     "output_type": "stream",
     "text": [
      "dict_keys(['loss', 'coeff_determination', 'mean_ape', 'mean_absolute_error'])\n"
     ]
    }
   ],
   "source": [
    "print(history.history.keys())"
   ]
  },
  {
   "cell_type": "code",
   "execution_count": 32,
   "metadata": {},
   "outputs": [
    {
     "name": "stdout",
     "output_type": "stream",
     "text": [
      "[0.23844234038756562, 0.35713604326278897, 6.7097947605186326, 0.3350901546718995]\n",
      "[0.23560376826397186, 0.3644515289318035, 6.725973992559602, 0.3351122270551908]\n"
     ]
    }
   ],
   "source": [
    "print(model.evaluate(X_val, Y_val,verbose=False))\n",
    "print(model.evaluate(X_test, Y_test,verbose=False))"
   ]
  },
  {
   "cell_type": "code",
   "execution_count": 33,
   "metadata": {
    "scrolled": true
   },
   "outputs": [
    {
     "data": {
      "text/plain": [
       "6.725975557721033"
      ]
     },
     "execution_count": 33,
     "metadata": {},
     "output_type": "execute_result"
    }
   ],
   "source": [
    "Y_predict = model.predict(X_test)\n",
    "np.mean(np.abs((Y_predict-Y_test)/Y_test))*100"
   ]
  },
  {
   "cell_type": "code",
   "execution_count": 34,
   "metadata": {},
   "outputs": [
    {
     "data": {
      "text/plain": [
       "0.3351122953274855"
      ]
     },
     "execution_count": 34,
     "metadata": {},
     "output_type": "execute_result"
    }
   ],
   "source": [
    "np.mean(np.abs((Y_predict-Y_test)))"
   ]
  },
  {
   "cell_type": "code",
   "execution_count": 35,
   "metadata": {},
   "outputs": [
    {
     "data": {
      "text/plain": [
       "7.044980004237758"
      ]
     },
     "execution_count": 35,
     "metadata": {},
     "output_type": "execute_result"
    }
   ],
   "source": [
    "mean_apes(Y_predict,Y_test)"
   ]
  },
  {
   "cell_type": "code",
   "execution_count": 36,
   "metadata": {
    "scrolled": true
   },
   "outputs": [
    {
     "data": {
      "text/plain": [
       "<matplotlib.legend.Legend at 0x226fb6a6518>"
      ]
     },
     "execution_count": 36,
     "metadata": {},
     "output_type": "execute_result"
    },
    {
     "data": {
      "image/png": "[encoded data removed]",
      "text/plain": [
       "<Figure size 432x288 with 1 Axes>"
      ]
     },
     "metadata": {
      "needs_background": "light"
     },
     "output_type": "display_data"
    }
   ],
   "source": [
    "plt.plot(history.history['loss'])\n",
    "#plt.plot(history.history['mean_ape'])\n",
    "plt.title('Model Loss History')\n",
    "plt.ylabel('MSE')\n",
    "plt.xlabel('Epochs')\n",
    "plt.legend(['MSE'])\n"
   ]
  },
  {
   "cell_type": "code",
   "execution_count": 37,
   "metadata": {},
   "outputs": [
    {
     "data": {
      "text/plain": [
       "<matplotlib.legend.Legend at 0x226fb73afd0>"
      ]
     },
     "execution_count": 37,
     "metadata": {},
     "output_type": "execute_result"
    },
    {
     "data": {
      "image/png": "[encoded data removed]",
      "text/plain": [
       "<Figure size 432x288 with 1 Axes>"
      ]
     },
     "metadata": {
      "needs_background": "light"
     },
     "output_type": "display_data"
    }
   ],
   "source": [
    "plt.plot(history.history['mean_ape'])\n",
    "#plt.plot(history.history['mean_ape'])\n",
    "plt.title('MAPE vs Epochs')\n",
    "plt.ylabel('MAPE (%)')\n",
    "plt.xlabel('Epochs')\n",
    "plt.legend(['MAPE'])\n"
   ]
  },
  {
   "cell_type": "code",
   "execution_count": 106,
   "metadata": {},
   "outputs": [
    {
     "name": "stdout",
     "output_type": "stream",
     "text": [
      "9.063482749596432\n"
     ]
    },
    {
     "data": {
      "image/png": "[encoded data removed]",
      "text/plain": [
       "<Figure size 432x288 with 1 Axes>"
      ]
     },
     "metadata": {
      "needs_background": "light"
     },
     "output_type": "display_data"
    }
   ],
   "source": [
    "comparison = np.ravel((Y_predict-Y_test)/Y_test*100)\n",
    "abs_comparison = np.abs(comparison)\n",
    "mask = np.where(abs_comparison>10)\n",
    "plt.plot(range(np.shape(mask)[1]), comparison[mask])\n",
    "plt.axhline(y=mean_apes(Y_predict,Y_test), color='r', linestyle='-')\n",
    "plt.title('Actual vs Predicted')\n",
    "plt.ylabel('Dissociation Constant')\n",
    "plt.xlabel('Index')\n",
    "plt.legend(['% Error', 'MAPE'])\n",
    "print(comparison.std())"
   ]
  },
  {
   "cell_type": "code",
   "execution_count": 78,
   "metadata": {},
   "outputs": [],
   "source": [
    "import seaborn as sns\n",
    "hyp = pd.DataFrame()"
   ]
  },
  {
   "cell_type": "code",
   "execution_count": 86,
   "metadata": {},
   "outputs": [
    {
     "data": {
      "text/html": [
       "<div>\n",
       "<style scoped>\n",
       "    .dataframe tbody tr th:only-of-type {\n",
       "        vertical-align: middle;\n",
       "    }\n",
       "\n",
       "    .dataframe tbody tr th {\n",
       "        vertical-align: top;\n",
       "    }\n",
       "\n",
       "    .dataframe thead th {\n",
       "        text-align: right;\n",
       "    }\n",
       "</style>\n",
       "<table border=\"1\" class=\"dataframe\">\n",
       "  <thead>\n",
       "    <tr style=\"text-align: right;\">\n",
       "      <th></th>\n",
       "      <th>MAPE</th>\n",
       "      <th>index</th>\n",
       "    </tr>\n",
       "  </thead>\n",
       "  <tbody>\n",
       "    <tr>\n",
       "      <th>0</th>\n",
       "      <td>8.512305</td>\n",
       "      <td>1</td>\n",
       "    </tr>\n",
       "    <tr>\n",
       "      <th>1</th>\n",
       "      <td>8.537180</td>\n",
       "      <td>2</td>\n",
       "    </tr>\n",
       "    <tr>\n",
       "      <th>2</th>\n",
       "      <td>8.517266</td>\n",
       "      <td>3</td>\n",
       "    </tr>\n",
       "    <tr>\n",
       "      <th>3</th>\n",
       "      <td>45.829303</td>\n",
       "      <td>4</td>\n",
       "    </tr>\n",
       "    <tr>\n",
       "      <th>4</th>\n",
       "      <td>63.425359</td>\n",
       "      <td>5</td>\n",
       "    </tr>\n",
       "    <tr>\n",
       "      <th>5</th>\n",
       "      <td>63.315378</td>\n",
       "      <td>6</td>\n",
       "    </tr>\n",
       "    <tr>\n",
       "      <th>6</th>\n",
       "      <td>8.902958</td>\n",
       "      <td>7</td>\n",
       "    </tr>\n",
       "    <tr>\n",
       "      <th>7</th>\n",
       "      <td>8.756825</td>\n",
       "      <td>8</td>\n",
       "    </tr>\n",
       "    <tr>\n",
       "      <th>8</th>\n",
       "      <td>9.315548</td>\n",
       "      <td>9</td>\n",
       "    </tr>\n",
       "    <tr>\n",
       "      <th>9</th>\n",
       "      <td>8.976728</td>\n",
       "      <td>10</td>\n",
       "    </tr>\n",
       "    <tr>\n",
       "      <th>10</th>\n",
       "      <td>45.862546</td>\n",
       "      <td>11</td>\n",
       "    </tr>\n",
       "    <tr>\n",
       "      <th>11</th>\n",
       "      <td>45.736637</td>\n",
       "      <td>12</td>\n",
       "    </tr>\n",
       "    <tr>\n",
       "      <th>12</th>\n",
       "      <td>11.440465</td>\n",
       "      <td>13</td>\n",
       "    </tr>\n",
       "    <tr>\n",
       "      <th>13</th>\n",
       "      <td>11.207618</td>\n",
       "      <td>14</td>\n",
       "    </tr>\n",
       "    <tr>\n",
       "      <th>14</th>\n",
       "      <td>10.897342</td>\n",
       "      <td>15</td>\n",
       "    </tr>\n",
       "    <tr>\n",
       "      <th>15</th>\n",
       "      <td>63.501939</td>\n",
       "      <td>16</td>\n",
       "    </tr>\n",
       "    <tr>\n",
       "      <th>16</th>\n",
       "      <td>63.672530</td>\n",
       "      <td>17</td>\n",
       "    </tr>\n",
       "    <tr>\n",
       "      <th>17</th>\n",
       "      <td>47.663112</td>\n",
       "      <td>18</td>\n",
       "    </tr>\n",
       "  </tbody>\n",
       "</table>\n",
       "</div>"
      ],
      "text/plain": [
       "         MAPE  index\n",
       "0    8.512305      1\n",
       "1    8.537180      2\n",
       "2    8.517266      3\n",
       "3   45.829303      4\n",
       "4   63.425359      5\n",
       "5   63.315378      6\n",
       "6    8.902958      7\n",
       "7    8.756825      8\n",
       "8    9.315548      9\n",
       "9    8.976728     10\n",
       "10  45.862546     11\n",
       "11  45.736637     12\n",
       "12  11.440465     13\n",
       "13  11.207618     14\n",
       "14  10.897342     15\n",
       "15  63.501939     16\n",
       "16  63.672530     17\n",
       "17  47.663112     18"
      ]
     },
     "execution_count": 86,
     "metadata": {},
     "output_type": "execute_result"
    }
   ],
   "source": [
    "hyp['MAPE'] = random_search.cv_results_['mean_test_score']\n",
    "hyp['index'] = hyp.index + 1\n",
    "hyp"
   ]
  },
  {
   "cell_type": "code",
   "execution_count": 105,
   "metadata": {},
   "outputs": [
    {
     "name": "stderr",
     "output_type": "stream",
     "text": [
      "C:\\Users\\willi\\Anaconda3\\envs\\data-x\\lib\\site-packages\\seaborn\\regression.py:546: UserWarning: The `size` paramter has been renamed to `height`; please update your code.\n",
      "  warnings.warn(msg, UserWarning)\n"
     ]
    },
    {
     "data": {
      "image/png": "[encoded data removed]",
      "text/plain": [
       "<Figure size 576x576 with 1 Axes>"
      ]
     },
     "metadata": {
      "needs_background": "light"
     },
     "output_type": "display_data"
    }
   ],
   "source": [
    "# MAPE Score\n",
    "#hyp.sort_values('mean_test_score', inplace = True)\n",
    "\n",
    "# Plot of scores over the course of searching\n",
    "#sns.lmplot(hyp.index.values, hyp['MAPE'], data = hyp, hue = 'data', size = 8);\n",
    "plot = sns.lmplot('index', 'MAPE',data=hyp, size = 8);\n",
    "#plt.scatter(hyp.index, hyp['MAPE'],  marker = '*', s = 400, c = 'blue')\n",
    "plt.xlabel('Iteration'); plt.ylabel('MAPE'); plt.title(\"Validation mape versus Iteration\");"
   ]
  },
  {
   "cell_type": "code",
   "execution_count": null,
   "metadata": {},
   "outputs": [],
   "source": []
  }
 ],
 "metadata": {
  "kernelspec": {
   "display_name": "Python 3",
   "language": "python",
   "name": "python3"
  },
  "language_info": {
   "codemirror_mode": {
    "name": "ipython",
    "version": 3
   },
   "file_extension": ".py",
   "mimetype": "text/x-python",
   "name": "python",
   "nbconvert_exporter": "python",
   "pygments_lexer": "ipython3",
   "version": "3.6.7"
  }
 },
 "nbformat": 4,
 "nbformat_minor": 2
}
