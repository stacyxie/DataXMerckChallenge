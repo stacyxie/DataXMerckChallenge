{
 "cells": [
  {
   "cell_type": "markdown",
   "metadata": {},
   "source": [
    "# Data Preprocessing\n",
    "\n",
    "- Import the data\n",
    "- Get the description of the data\n",
    "- Decrease the dimension of the data\n",
    "    - Near Zero Variance\n",
    "    - PCA\n",
    "    "
   ]
  },
  {
   "cell_type": "code",
   "execution_count": 1,
   "metadata": {},
   "outputs": [],
   "source": [
    "import pandas as pd\n",
    "import numpy as np\n",
    "from sklearn.feature_selection import VarianceThreshold\n",
    "import matplotlib.pyplot as plt\n",
    "import seaborn as sns"
   ]
  },
  {
   "cell_type": "code",
   "execution_count": 2,
   "metadata": {},
   "outputs": [
    {
     "data": {
      "text/html": [
       "<div>\n",
       "<style scoped>\n",
       "    .dataframe tbody tr th:only-of-type {\n",
       "        vertical-align: middle;\n",
       "    }\n",
       "\n",
       "    .dataframe tbody tr th {\n",
       "        vertical-align: top;\n",
       "    }\n",
       "\n",
       "    .dataframe thead th {\n",
       "        text-align: right;\n",
       "    }\n",
       "</style>\n",
       "<table border=\"1\" class=\"dataframe\">\n",
       "  <thead>\n",
       "    <tr style=\"text-align: right;\">\n",
       "      <th></th>\n",
       "      <th>MOLECULE</th>\n",
       "      <th>Act</th>\n",
       "      <th>D_3</th>\n",
       "      <th>D_4</th>\n",
       "      <th>D_5</th>\n",
       "      <th>D_6</th>\n",
       "      <th>D_7</th>\n",
       "      <th>D_8</th>\n",
       "      <th>D_9</th>\n",
       "      <th>D_11</th>\n",
       "      <th>...</th>\n",
       "      <th>D_11061</th>\n",
       "      <th>D_11064</th>\n",
       "      <th>D_11065</th>\n",
       "      <th>D_11066</th>\n",
       "      <th>D_11067</th>\n",
       "      <th>D_11068</th>\n",
       "      <th>D_11070</th>\n",
       "      <th>D_11074</th>\n",
       "      <th>D_11076</th>\n",
       "      <th>D_11078</th>\n",
       "    </tr>\n",
       "  </thead>\n",
       "  <tbody>\n",
       "    <tr>\n",
       "      <th>0</th>\n",
       "      <td>ACT1_M_80</td>\n",
       "      <td>6.0179</td>\n",
       "      <td>0</td>\n",
       "      <td>0</td>\n",
       "      <td>0</td>\n",
       "      <td>0</td>\n",
       "      <td>0</td>\n",
       "      <td>0</td>\n",
       "      <td>0</td>\n",
       "      <td>0</td>\n",
       "      <td>...</td>\n",
       "      <td>0</td>\n",
       "      <td>0</td>\n",
       "      <td>0</td>\n",
       "      <td>0</td>\n",
       "      <td>0</td>\n",
       "      <td>0</td>\n",
       "      <td>0</td>\n",
       "      <td>0</td>\n",
       "      <td>0</td>\n",
       "      <td>0</td>\n",
       "    </tr>\n",
       "    <tr>\n",
       "      <th>1</th>\n",
       "      <td>ACT1_M_189</td>\n",
       "      <td>4.3003</td>\n",
       "      <td>0</td>\n",
       "      <td>0</td>\n",
       "      <td>0</td>\n",
       "      <td>0</td>\n",
       "      <td>0</td>\n",
       "      <td>0</td>\n",
       "      <td>0</td>\n",
       "      <td>0</td>\n",
       "      <td>...</td>\n",
       "      <td>0</td>\n",
       "      <td>0</td>\n",
       "      <td>0</td>\n",
       "      <td>0</td>\n",
       "      <td>0</td>\n",
       "      <td>0</td>\n",
       "      <td>0</td>\n",
       "      <td>0</td>\n",
       "      <td>0</td>\n",
       "      <td>0</td>\n",
       "    </tr>\n",
       "    <tr>\n",
       "      <th>2</th>\n",
       "      <td>ACT1_M_190</td>\n",
       "      <td>5.2697</td>\n",
       "      <td>0</td>\n",
       "      <td>0</td>\n",
       "      <td>0</td>\n",
       "      <td>0</td>\n",
       "      <td>0</td>\n",
       "      <td>0</td>\n",
       "      <td>0</td>\n",
       "      <td>0</td>\n",
       "      <td>...</td>\n",
       "      <td>0</td>\n",
       "      <td>0</td>\n",
       "      <td>0</td>\n",
       "      <td>0</td>\n",
       "      <td>0</td>\n",
       "      <td>0</td>\n",
       "      <td>0</td>\n",
       "      <td>0</td>\n",
       "      <td>0</td>\n",
       "      <td>0</td>\n",
       "    </tr>\n",
       "    <tr>\n",
       "      <th>3</th>\n",
       "      <td>ACT1_M_402</td>\n",
       "      <td>6.1797</td>\n",
       "      <td>0</td>\n",
       "      <td>0</td>\n",
       "      <td>0</td>\n",
       "      <td>0</td>\n",
       "      <td>0</td>\n",
       "      <td>0</td>\n",
       "      <td>0</td>\n",
       "      <td>0</td>\n",
       "      <td>...</td>\n",
       "      <td>0</td>\n",
       "      <td>0</td>\n",
       "      <td>0</td>\n",
       "      <td>0</td>\n",
       "      <td>0</td>\n",
       "      <td>0</td>\n",
       "      <td>0</td>\n",
       "      <td>0</td>\n",
       "      <td>0</td>\n",
       "      <td>0</td>\n",
       "    </tr>\n",
       "    <tr>\n",
       "      <th>4</th>\n",
       "      <td>ACT1_M_659</td>\n",
       "      <td>4.3003</td>\n",
       "      <td>0</td>\n",
       "      <td>0</td>\n",
       "      <td>0</td>\n",
       "      <td>0</td>\n",
       "      <td>0</td>\n",
       "      <td>0</td>\n",
       "      <td>0</td>\n",
       "      <td>0</td>\n",
       "      <td>...</td>\n",
       "      <td>0</td>\n",
       "      <td>0</td>\n",
       "      <td>0</td>\n",
       "      <td>0</td>\n",
       "      <td>0</td>\n",
       "      <td>0</td>\n",
       "      <td>0</td>\n",
       "      <td>0</td>\n",
       "      <td>0</td>\n",
       "      <td>0</td>\n",
       "    </tr>\n",
       "  </tbody>\n",
       "</table>\n",
       "<p>5 rows × 9493 columns</p>\n",
       "</div>"
      ],
      "text/plain": [
       "     MOLECULE     Act  D_3  D_4  D_5  D_6  D_7  D_8  D_9  D_11   ...     \\\n",
       "0   ACT1_M_80  6.0179    0    0    0    0    0    0    0     0   ...      \n",
       "1  ACT1_M_189  4.3003    0    0    0    0    0    0    0     0   ...      \n",
       "2  ACT1_M_190  5.2697    0    0    0    0    0    0    0     0   ...      \n",
       "3  ACT1_M_402  6.1797    0    0    0    0    0    0    0     0   ...      \n",
       "4  ACT1_M_659  4.3003    0    0    0    0    0    0    0     0   ...      \n",
       "\n",
       "   D_11061  D_11064  D_11065  D_11066  D_11067  D_11068  D_11070  D_11074  \\\n",
       "0        0        0        0        0        0        0        0        0   \n",
       "1        0        0        0        0        0        0        0        0   \n",
       "2        0        0        0        0        0        0        0        0   \n",
       "3        0        0        0        0        0        0        0        0   \n",
       "4        0        0        0        0        0        0        0        0   \n",
       "\n",
       "   D_11076  D_11078  \n",
       "0        0        0  \n",
       "1        0        0  \n",
       "2        0        0  \n",
       "3        0        0  \n",
       "4        0        0  \n",
       "\n",
       "[5 rows x 9493 columns]"
      ]
     },
     "execution_count": 2,
     "metadata": {},
     "output_type": "execute_result"
    }
   ],
   "source": [
    "train_act_1=pd.read_csv('../data/TrainingSet/ACT1_competition_training.csv')\n",
    "train_act_1.head()"
   ]
  },
  {
   "cell_type": "markdown",
   "metadata": {},
   "source": [
    "## Data Summary"
   ]
  },
  {
   "cell_type": "code",
   "execution_count": 3,
   "metadata": {},
   "outputs": [
    {
     "data": {
      "text/html": [
       "<div>\n",
       "<style scoped>\n",
       "    .dataframe tbody tr th:only-of-type {\n",
       "        vertical-align: middle;\n",
       "    }\n",
       "\n",
       "    .dataframe tbody tr th {\n",
       "        vertical-align: top;\n",
       "    }\n",
       "\n",
       "    .dataframe thead th {\n",
       "        text-align: right;\n",
       "    }\n",
       "</style>\n",
       "<table border=\"1\" class=\"dataframe\">\n",
       "  <thead>\n",
       "    <tr style=\"text-align: right;\">\n",
       "      <th></th>\n",
       "      <th>Act</th>\n",
       "      <th>D_3</th>\n",
       "      <th>D_4</th>\n",
       "      <th>D_5</th>\n",
       "      <th>D_6</th>\n",
       "      <th>D_7</th>\n",
       "      <th>D_8</th>\n",
       "      <th>D_9</th>\n",
       "      <th>D_11</th>\n",
       "      <th>D_15</th>\n",
       "      <th>...</th>\n",
       "      <th>D_11061</th>\n",
       "      <th>D_11064</th>\n",
       "      <th>D_11065</th>\n",
       "      <th>D_11066</th>\n",
       "      <th>D_11067</th>\n",
       "      <th>D_11068</th>\n",
       "      <th>D_11070</th>\n",
       "      <th>D_11074</th>\n",
       "      <th>D_11076</th>\n",
       "      <th>D_11078</th>\n",
       "    </tr>\n",
       "  </thead>\n",
       "  <tbody>\n",
       "    <tr>\n",
       "      <th>count</th>\n",
       "      <td>37241.000000</td>\n",
       "      <td>37241.000000</td>\n",
       "      <td>37241.000000</td>\n",
       "      <td>37241.000000</td>\n",
       "      <td>37241.000000</td>\n",
       "      <td>37241.000000</td>\n",
       "      <td>37241.000000</td>\n",
       "      <td>37241.000000</td>\n",
       "      <td>37241.000000</td>\n",
       "      <td>37241.000000</td>\n",
       "      <td>...</td>\n",
       "      <td>37241.000000</td>\n",
       "      <td>37241.000000</td>\n",
       "      <td>37241.000000</td>\n",
       "      <td>37241.000000</td>\n",
       "      <td>37241.000000</td>\n",
       "      <td>37241.000000</td>\n",
       "      <td>37241.000000</td>\n",
       "      <td>37241.000000</td>\n",
       "      <td>37241.000000</td>\n",
       "      <td>37241.000000</td>\n",
       "    </tr>\n",
       "    <tr>\n",
       "      <th>mean</th>\n",
       "      <td>4.690458</td>\n",
       "      <td>0.000081</td>\n",
       "      <td>0.000054</td>\n",
       "      <td>0.000430</td>\n",
       "      <td>0.000107</td>\n",
       "      <td>0.000027</td>\n",
       "      <td>0.000081</td>\n",
       "      <td>0.000242</td>\n",
       "      <td>0.000054</td>\n",
       "      <td>0.000027</td>\n",
       "      <td>...</td>\n",
       "      <td>0.000027</td>\n",
       "      <td>0.000027</td>\n",
       "      <td>0.000081</td>\n",
       "      <td>0.000215</td>\n",
       "      <td>0.000027</td>\n",
       "      <td>0.000027</td>\n",
       "      <td>0.000027</td>\n",
       "      <td>0.000027</td>\n",
       "      <td>0.000027</td>\n",
       "      <td>0.000027</td>\n",
       "    </tr>\n",
       "    <tr>\n",
       "      <th>std</th>\n",
       "      <td>0.648661</td>\n",
       "      <td>0.015546</td>\n",
       "      <td>0.010364</td>\n",
       "      <td>0.020723</td>\n",
       "      <td>0.010363</td>\n",
       "      <td>0.005182</td>\n",
       "      <td>0.008975</td>\n",
       "      <td>0.015544</td>\n",
       "      <td>0.007328</td>\n",
       "      <td>0.005182</td>\n",
       "      <td>...</td>\n",
       "      <td>0.005182</td>\n",
       "      <td>0.005182</td>\n",
       "      <td>0.008975</td>\n",
       "      <td>0.014655</td>\n",
       "      <td>0.005182</td>\n",
       "      <td>0.005182</td>\n",
       "      <td>0.005182</td>\n",
       "      <td>0.005182</td>\n",
       "      <td>0.005182</td>\n",
       "      <td>0.005182</td>\n",
       "    </tr>\n",
       "    <tr>\n",
       "      <th>min</th>\n",
       "      <td>4.300300</td>\n",
       "      <td>0.000000</td>\n",
       "      <td>0.000000</td>\n",
       "      <td>0.000000</td>\n",
       "      <td>0.000000</td>\n",
       "      <td>0.000000</td>\n",
       "      <td>0.000000</td>\n",
       "      <td>0.000000</td>\n",
       "      <td>0.000000</td>\n",
       "      <td>0.000000</td>\n",
       "      <td>...</td>\n",
       "      <td>0.000000</td>\n",
       "      <td>0.000000</td>\n",
       "      <td>0.000000</td>\n",
       "      <td>0.000000</td>\n",
       "      <td>0.000000</td>\n",
       "      <td>0.000000</td>\n",
       "      <td>0.000000</td>\n",
       "      <td>0.000000</td>\n",
       "      <td>0.000000</td>\n",
       "      <td>0.000000</td>\n",
       "    </tr>\n",
       "    <tr>\n",
       "      <th>25%</th>\n",
       "      <td>4.300300</td>\n",
       "      <td>0.000000</td>\n",
       "      <td>0.000000</td>\n",
       "      <td>0.000000</td>\n",
       "      <td>0.000000</td>\n",
       "      <td>0.000000</td>\n",
       "      <td>0.000000</td>\n",
       "      <td>0.000000</td>\n",
       "      <td>0.000000</td>\n",
       "      <td>0.000000</td>\n",
       "      <td>...</td>\n",
       "      <td>0.000000</td>\n",
       "      <td>0.000000</td>\n",
       "      <td>0.000000</td>\n",
       "      <td>0.000000</td>\n",
       "      <td>0.000000</td>\n",
       "      <td>0.000000</td>\n",
       "      <td>0.000000</td>\n",
       "      <td>0.000000</td>\n",
       "      <td>0.000000</td>\n",
       "      <td>0.000000</td>\n",
       "    </tr>\n",
       "    <tr>\n",
       "      <th>50%</th>\n",
       "      <td>4.300300</td>\n",
       "      <td>0.000000</td>\n",
       "      <td>0.000000</td>\n",
       "      <td>0.000000</td>\n",
       "      <td>0.000000</td>\n",
       "      <td>0.000000</td>\n",
       "      <td>0.000000</td>\n",
       "      <td>0.000000</td>\n",
       "      <td>0.000000</td>\n",
       "      <td>0.000000</td>\n",
       "      <td>...</td>\n",
       "      <td>0.000000</td>\n",
       "      <td>0.000000</td>\n",
       "      <td>0.000000</td>\n",
       "      <td>0.000000</td>\n",
       "      <td>0.000000</td>\n",
       "      <td>0.000000</td>\n",
       "      <td>0.000000</td>\n",
       "      <td>0.000000</td>\n",
       "      <td>0.000000</td>\n",
       "      <td>0.000000</td>\n",
       "    </tr>\n",
       "    <tr>\n",
       "      <th>75%</th>\n",
       "      <td>4.903300</td>\n",
       "      <td>0.000000</td>\n",
       "      <td>0.000000</td>\n",
       "      <td>0.000000</td>\n",
       "      <td>0.000000</td>\n",
       "      <td>0.000000</td>\n",
       "      <td>0.000000</td>\n",
       "      <td>0.000000</td>\n",
       "      <td>0.000000</td>\n",
       "      <td>0.000000</td>\n",
       "      <td>...</td>\n",
       "      <td>0.000000</td>\n",
       "      <td>0.000000</td>\n",
       "      <td>0.000000</td>\n",
       "      <td>0.000000</td>\n",
       "      <td>0.000000</td>\n",
       "      <td>0.000000</td>\n",
       "      <td>0.000000</td>\n",
       "      <td>0.000000</td>\n",
       "      <td>0.000000</td>\n",
       "      <td>0.000000</td>\n",
       "    </tr>\n",
       "    <tr>\n",
       "      <th>max</th>\n",
       "      <td>8.134000</td>\n",
       "      <td>3.000000</td>\n",
       "      <td>2.000000</td>\n",
       "      <td>1.000000</td>\n",
       "      <td>1.000000</td>\n",
       "      <td>1.000000</td>\n",
       "      <td>1.000000</td>\n",
       "      <td>1.000000</td>\n",
       "      <td>1.000000</td>\n",
       "      <td>1.000000</td>\n",
       "      <td>...</td>\n",
       "      <td>1.000000</td>\n",
       "      <td>1.000000</td>\n",
       "      <td>1.000000</td>\n",
       "      <td>1.000000</td>\n",
       "      <td>1.000000</td>\n",
       "      <td>1.000000</td>\n",
       "      <td>1.000000</td>\n",
       "      <td>1.000000</td>\n",
       "      <td>1.000000</td>\n",
       "      <td>1.000000</td>\n",
       "    </tr>\n",
       "  </tbody>\n",
       "</table>\n",
       "<p>8 rows × 9492 columns</p>\n",
       "</div>"
      ],
      "text/plain": [
       "                Act           D_3           D_4           D_5           D_6  \\\n",
       "count  37241.000000  37241.000000  37241.000000  37241.000000  37241.000000   \n",
       "mean       4.690458      0.000081      0.000054      0.000430      0.000107   \n",
       "std        0.648661      0.015546      0.010364      0.020723      0.010363   \n",
       "min        4.300300      0.000000      0.000000      0.000000      0.000000   \n",
       "25%        4.300300      0.000000      0.000000      0.000000      0.000000   \n",
       "50%        4.300300      0.000000      0.000000      0.000000      0.000000   \n",
       "75%        4.903300      0.000000      0.000000      0.000000      0.000000   \n",
       "max        8.134000      3.000000      2.000000      1.000000      1.000000   \n",
       "\n",
       "                D_7           D_8           D_9          D_11          D_15  \\\n",
       "count  37241.000000  37241.000000  37241.000000  37241.000000  37241.000000   \n",
       "mean       0.000027      0.000081      0.000242      0.000054      0.000027   \n",
       "std        0.005182      0.008975      0.015544      0.007328      0.005182   \n",
       "min        0.000000      0.000000      0.000000      0.000000      0.000000   \n",
       "25%        0.000000      0.000000      0.000000      0.000000      0.000000   \n",
       "50%        0.000000      0.000000      0.000000      0.000000      0.000000   \n",
       "75%        0.000000      0.000000      0.000000      0.000000      0.000000   \n",
       "max        1.000000      1.000000      1.000000      1.000000      1.000000   \n",
       "\n",
       "           ...            D_11061       D_11064       D_11065       D_11066  \\\n",
       "count      ...       37241.000000  37241.000000  37241.000000  37241.000000   \n",
       "mean       ...           0.000027      0.000027      0.000081      0.000215   \n",
       "std        ...           0.005182      0.005182      0.008975      0.014655   \n",
       "min        ...           0.000000      0.000000      0.000000      0.000000   \n",
       "25%        ...           0.000000      0.000000      0.000000      0.000000   \n",
       "50%        ...           0.000000      0.000000      0.000000      0.000000   \n",
       "75%        ...           0.000000      0.000000      0.000000      0.000000   \n",
       "max        ...           1.000000      1.000000      1.000000      1.000000   \n",
       "\n",
       "            D_11067       D_11068       D_11070       D_11074       D_11076  \\\n",
       "count  37241.000000  37241.000000  37241.000000  37241.000000  37241.000000   \n",
       "mean       0.000027      0.000027      0.000027      0.000027      0.000027   \n",
       "std        0.005182      0.005182      0.005182      0.005182      0.005182   \n",
       "min        0.000000      0.000000      0.000000      0.000000      0.000000   \n",
       "25%        0.000000      0.000000      0.000000      0.000000      0.000000   \n",
       "50%        0.000000      0.000000      0.000000      0.000000      0.000000   \n",
       "75%        0.000000      0.000000      0.000000      0.000000      0.000000   \n",
       "max        1.000000      1.000000      1.000000      1.000000      1.000000   \n",
       "\n",
       "            D_11078  \n",
       "count  37241.000000  \n",
       "mean       0.000027  \n",
       "std        0.005182  \n",
       "min        0.000000  \n",
       "25%        0.000000  \n",
       "50%        0.000000  \n",
       "75%        0.000000  \n",
       "max        1.000000  \n",
       "\n",
       "[8 rows x 9492 columns]"
      ]
     },
     "execution_count": 3,
     "metadata": {},
     "output_type": "execute_result"
    }
   ],
   "source": [
    "train_act_1.describe()"
   ]
  },
  {
   "cell_type": "markdown",
   "metadata": {},
   "source": [
    "## Check Missing Values"
   ]
  },
  {
   "cell_type": "code",
   "execution_count": 5,
   "metadata": {},
   "outputs": [
    {
     "data": {
      "text/html": [
       "<div>\n",
       "<style scoped>\n",
       "    .dataframe tbody tr th:only-of-type {\n",
       "        vertical-align: middle;\n",
       "    }\n",
       "\n",
       "    .dataframe tbody tr th {\n",
       "        vertical-align: top;\n",
       "    }\n",
       "\n",
       "    .dataframe thead th {\n",
       "        text-align: right;\n",
       "    }\n",
       "</style>\n",
       "<table border=\"1\" class=\"dataframe\">\n",
       "  <thead>\n",
       "    <tr style=\"text-align: right;\">\n",
       "      <th></th>\n",
       "      <th>column_name</th>\n",
       "      <th>percent_missing</th>\n",
       "    </tr>\n",
       "  </thead>\n",
       "  <tbody>\n",
       "  </tbody>\n",
       "</table>\n",
       "</div>"
      ],
      "text/plain": [
       "Empty DataFrame\n",
       "Columns: [column_name, percent_missing]\n",
       "Index: []"
      ]
     },
     "execution_count": 5,
     "metadata": {},
     "output_type": "execute_result"
    }
   ],
   "source": [
    "#check missing values\n",
    "columns = train_act_1.columns\n",
    "percent_missing = train_act_1.isnull().sum() * 100 / len(train_act_1)\n",
    "missing_value_train_act_1 = pd.DataFrame({'column_name': columns, 'percent_missing': percent_missing})\n",
    "\n",
    "missing_value_train_act_1.loc[missing_value_train_act_1['percent_missing'] != 0.0]\n",
    "# no missing values"
   ]
  },
  {
   "cell_type": "markdown",
   "metadata": {},
   "source": [
    "## Examine the Distribution of the Target(Act) Column\n",
    "The target is what we are asked to predict: the activity value for each molecule/data set combination in the test set. Note that these are raw activity values and different data sets can have activity measured in different units.\n",
    "\n",
    "To keep predictions for molecules unique to each data set, a data set identifier has been prepended to each molecule ID (e.g., \"ACT1_\" or \"ACT8_\")."
   ]
  },
  {
   "cell_type": "code",
   "execution_count": 6,
   "metadata": {},
   "outputs": [
    {
     "data": {
      "text/plain": [
       "<matplotlib.axes._subplots.AxesSubplot at 0x249094cd978>"
      ]
     },
     "execution_count": 6,
     "metadata": {},
     "output_type": "execute_result"
    },
    {
     "data": {
      "image/png": "[encoded data removed]",
      "text/plain": [
       "<Figure size 432x288 with 1 Axes>"
      ]
     },
     "metadata": {},
     "output_type": "display_data"
    }
   ],
   "source": [
    "train_act_1['Act'].astype(float).plot.hist()"
   ]
  },
  {
   "cell_type": "markdown",
   "metadata": {},
   "source": [
    "## Split Training and Test Data"
   ]
  },
  {
   "cell_type": "code",
   "execution_count": 7,
   "metadata": {},
   "outputs": [],
   "source": [
    "#drop the second column \"Act\"\n",
    "X=train_act_1.iloc[:, 2: ]#All features except 'Molecule' and 'Act'\n",
    "Y=train_act_1['Act']#Y is what we want to predict "
   ]
  },
  {
   "cell_type": "code",
   "execution_count": 8,
   "metadata": {},
   "outputs": [
    {
     "name": "stdout",
     "output_type": "stream",
     "text": [
      "Number of samples in training data: 29792\n",
      "Number of samples in test data: 7449\n"
     ]
    }
   ],
   "source": [
    "from sklearn.model_selection import train_test_split \n",
    "x_train, x_test, y_train, y_test = train_test_split(X, Y, test_size=0.2, random_state=100)\n",
    "print ('Number of samples in training data:',len(x_train))\n",
    "print ('Number of samples in test data:',len(x_test))"
   ]
  },
  {
   "cell_type": "markdown",
   "metadata": {},
   "source": [
    "## Examine the Distribution of the Target after Spliting\n",
    "Since the distribution is the same, the training test is the unbiased representation of the original dataset."
   ]
  },
  {
   "cell_type": "code",
   "execution_count": 9,
   "metadata": {},
   "outputs": [
    {
     "data": {
      "text/plain": [
       "<matplotlib.axes._subplots.AxesSubplot at 0x248aa8b1b70>"
      ]
     },
     "execution_count": 9,
     "metadata": {},
     "output_type": "execute_result"
    },
    {
     "data": {
      "image/png": "[encoded data removed]",
      "text/plain": [
       "<Figure size 432x288 with 1 Axes>"
      ]
     },
     "metadata": {},
     "output_type": "display_data"
    }
   ],
   "source": [
    "y_train.astype(float).plot.hist()"
   ]
  },
  {
   "cell_type": "markdown",
   "metadata": {},
   "source": [
    "## Near Zero Variance"
   ]
  },
  {
   "cell_type": "code",
   "execution_count": 10,
   "metadata": {},
   "outputs": [],
   "source": [
    "# near zero variance function\n",
    "def remove_feat_constants(data_frame,threshold):\n",
    "    # Remove feature vectors containing one unique value,\n",
    "    # because such features do not have predictive value.\n",
    "    n_features_originally = data_frame.shape[1]\n",
    "    selector = VarianceThreshold(threshold)\n",
    "    selector.fit(data_frame)\n",
    "    # Get the indices of zero variance feats\n",
    "    feat_ix_keep = selector.get_support(indices=True)\n",
    "    orig_feat_ix = np.arange(data_frame.columns.size)\n",
    "    feat_ix_delete = np.delete(orig_feat_ix, feat_ix_keep)\n",
    "    # Delete zero variance feats from the original pandas data frame\n",
    "    data_frame = data_frame.drop(labels=data_frame.columns[feat_ix_delete],\n",
    "                                 axis=1)\n",
    "    var = sum(data_frame.var())\n",
    "    n_features_deleted = feat_ix_delete.size\n",
    "    n_features_leftover = n_features_originally - n_features_deleted\n",
    "    #print(\"  - Deleted %s / %s features (~= %.1f %%)\" % (\n",
    "        #n_features_deleted, n_features_originally,\n",
    "        #100.0 * (np.float(n_features_deleted) / n_features_originally)))\n",
    "    return data_frame,var,n_features_leftover"
   ]
  },
  {
   "cell_type": "code",
   "execution_count": 11,
   "metadata": {},
   "outputs": [
    {
     "data": {
      "image/png": "[encoded data removed]",
      "text/plain": [
       "<Figure size 432x288 with 1 Axes>"
      ]
     },
     "metadata": {},
     "output_type": "display_data"
    }
   ],
   "source": [
    "#Create Skree plot\n",
    "var_t=sum(train_act_1.var())\n",
    "var_percent_list=[]\n",
    "n_features_left_list = []\n",
    "for i in np.linspace(1,15,20):\n",
    "    _, var_df_1, n_features_left = remove_feat_constants(x_train,i)\n",
    "    var_percent_list.append(var_df_1/var_t)\n",
    "    n_features_left_list.append(n_features_left)\n",
    "\n",
    "plt.scatter(n_features_left_list,var_percent_list)\n",
    "plt.xlabel('Principal Component')\n",
    "plt.ylabel('Cumulative Variance')\n",
    "plt.title('Variance Explained')\n",
    "plt.show()"
   ]
  },
  {
   "cell_type": "markdown",
   "metadata": {},
   "source": [
    "If using 441 features, the cumulative variance reaches 90%. Thus, the 450 features can be a appropriate representation of the original dataset. "
   ]
  },
  {
   "cell_type": "code",
   "execution_count": 12,
   "metadata": {},
   "outputs": [],
   "source": [
    "train_act_1_450=remove_feat_constants(x_train,1)[0]\n",
    "train_act_1_450['Act']=y_train\n",
    "train_act_1_450.to_csv('ACT1_train_450.csv')"
   ]
  },
  {
   "cell_type": "markdown",
   "metadata": {},
   "source": [
    "## PCA"
   ]
  },
  {
   "cell_type": "code",
   "execution_count": 13,
   "metadata": {},
   "outputs": [],
   "source": [
    "from sklearn.preprocessing import StandardScaler\n",
    "from sklearn.decomposition import PCA"
   ]
  },
  {
   "cell_type": "code",
   "execution_count": 14,
   "metadata": {},
   "outputs": [],
   "source": [
    "# PCA without standardizing X\n",
    "num_features = 150\n",
    "pca_150 = PCA(n_components=num_features)\n",
    "principal_components_150 = pca_150.fit(X)\n",
    "variance_150 = np.cumsum(np.round(principal_components_150.explained_variance_ratio_, decimals=3)*100)"
   ]
  },
  {
   "cell_type": "code",
   "execution_count": 15,
   "metadata": {},
   "outputs": [
    {
     "data": {
      "image/png": "[encoded data removed]",
      "text/plain": [
       "<Figure size 432x288 with 1 Axes>"
      ]
     },
     "metadata": {},
     "output_type": "display_data"
    }
   ],
   "source": [
    "plt.plot(range(num_features), variance_150)\n",
    "plt.xlabel('Principal Component')\n",
    "plt.ylabel('Cumulative Variance')\n",
    "plt.title('Variance Explained')\n",
    "plt.show()"
   ]
  },
  {
   "cell_type": "markdown",
   "metadata": {},
   "source": [
    "## Correlation Heatmap"
   ]
  },
  {
   "cell_type": "code",
   "execution_count": 16,
   "metadata": {},
   "outputs": [
    {
     "ename": "NameError",
     "evalue": "name 'train_act_1_pre' is not defined",
     "output_type": "error",
     "traceback": [
      "\u001b[1;31m---------------------------------------------------------------------------\u001b[0m",
      "\u001b[1;31mNameError\u001b[0m                                 Traceback (most recent call last)",
      "\u001b[1;32m<ipython-input-16-fb0d2d08338d>\u001b[0m in \u001b[0;36m<module>\u001b[1;34m()\u001b[0m\n\u001b[0;32m      1\u001b[0m \u001b[1;31m# Remove features if the variance is below 1\u001b[0m\u001b[1;33m\u001b[0m\u001b[1;33m\u001b[0m\u001b[0m\n\u001b[1;32m----> 2\u001b[1;33m \u001b[0mtrain_act_1_corr\u001b[0m \u001b[1;33m=\u001b[0m \u001b[0mremove_feat_constants\u001b[0m\u001b[1;33m(\u001b[0m\u001b[0mtrain_act_1_pre\u001b[0m\u001b[1;33m,\u001b[0m\u001b[1;36m1\u001b[0m\u001b[1;33m)\u001b[0m\u001b[1;33m[\u001b[0m\u001b[1;36m0\u001b[0m\u001b[1;33m]\u001b[0m\u001b[1;33m\u001b[0m\u001b[0m\n\u001b[0m",
      "\u001b[1;31mNameError\u001b[0m: name 'train_act_1_pre' is not defined"
     ]
    }
   ],
   "source": [
    "# Remove features if the variance is below 1\n",
    "train_act_1_corr = remove_feat_constants(train_act_1_pre,1)[0]"
   ]
  },
  {
   "cell_type": "code",
   "execution_count": null,
   "metadata": {},
   "outputs": [],
   "source": [
    "train_act_1_corr['Act']=train_act_1['Act']"
   ]
  },
  {
   "cell_type": "code",
   "execution_count": null,
   "metadata": {},
   "outputs": [],
   "source": [
    "# Find correlations with the target and sort\n",
    "correlations = train_act_1_corr.corr()['Act'].sort_values()\n",
    "print('Most Positive Correlations:\\n', correlations.tail(15))\n",
    "print('\\nMost Negative Correlations:\\n', correlations.head(15))"
   ]
  },
  {
   "cell_type": "code",
   "execution_count": null,
   "metadata": {},
   "outputs": [],
   "source": [
    "# Extract the features with highest variance and absolute correlation\n",
    "ext_data = train_act_1_corr[['Act', 'D_4849', 'D_4861', 'D_517', 'D_518','D_2466','D_468']]\n",
    "ext_data_corrs = ext_data.corr()\n",
    "ext_data_corrs"
   ]
  },
  {
   "cell_type": "code",
   "execution_count": null,
   "metadata": {},
   "outputs": [],
   "source": [
    "plt.figure(figsize = (8, 6))\n",
    "\n",
    "# Heatmap of correlations\n",
    "sns.heatmap(ext_data_corrs, cmap = plt.cm.RdYlBu_r, vmin = -0.25, annot = True, vmax = 0.6)\n",
    "plt.title('Correlation Heatmap');"
   ]
  },
  {
   "cell_type": "code",
   "execution_count": null,
   "metadata": {},
   "outputs": [],
   "source": []
  }
 ],
 "metadata": {
  "kernelspec": {
   "display_name": "Python 3",
   "language": "python",
   "name": "python3"
  },
  "language_info": {
   "codemirror_mode": {
    "name": "ipython",
    "version": 3
   },
   "file_extension": ".py",
   "mimetype": "text/x-python",
   "name": "python",
   "nbconvert_exporter": "python",
   "pygments_lexer": "ipython3",
   "version": "3.6.5"
  }
 },
 "nbformat": 4,
 "nbformat_minor": 2
}
