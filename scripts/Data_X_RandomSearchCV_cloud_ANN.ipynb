{
 "cells": [
  {
   "cell_type": "code",
   "execution_count": null,
   "metadata": {},
   "outputs": [],
   "source": [
    "import pandas as pd\n",
    "import matplotlib.pyplot as plt\n",
    "from sklearn.model_selection import train_test_split\n",
    "import numpy as np\n",
    "from keras import backend as K\n",
    "from sklearn.metrics import make_scorer\n",
    "from tensorflow.keras.models import Sequential\n",
    "import keras\n",
    "from tensorflow.keras.layers import Dense\n",
    "from keras.optimizers import Adam \n",
    "from tensorflow.keras.wrappers.scikit_learn import KerasRegressor\n",
    "from sklearn.model_selection import RandomizedSearchCV\n",
    "import seaborn as sns\n",
    "from scipy.stats import randint"
   ]
  },
  {
   "cell_type": "code",
   "execution_count": null,
   "metadata": {},
   "outputs": [],
   "source": [
    "train_450 = pd.read_csv('ACT1_train_450.csv')\n",
    "train_anova = pd.read_csv('ACT1_Anova_50.csv')\n",
    "train_50 = pd.read_csv('ACT1_train_50_corr_red.csv') "
   ]
  },
  {
   "cell_type": "code",
   "execution_count": null,
   "metadata": {},
   "outputs": [],
   "source": [
    "#450\n",
    "y_450 = train_450['Act'].values\n",
    "train_450 = train_450.drop(['Act', 'Unnamed: 0'], axis = 1)\n",
    "x_450 = train_450.values\n",
    "X_train_450, X_test_450, Y_train_450, Y_test_450 = train_test_split(x_450, y_450, test_size = 0.20, random_state = 0)\n",
    "#X_train, X_val, Y_train, Y_val = train_test_split(X_train, Y_train, test_size=0.25, random_state=0)"
   ]
  },
  {
   "cell_type": "code",
   "execution_count": null,
   "metadata": {},
   "outputs": [],
   "source": [
    "#anova\n",
    "y_anova = train_anova['Act'].values\n",
    "train_anova = train_anova.drop(['Act', 'Unnamed: 0'], axis = 1)\n",
    "x_anova = train_anova.values\n",
    "X_train_anova, X_test_anova, Y_train_anova, Y_test_anova = train_test_split(x_anova, y_anova, test_size = 0.20, random_state = 0)\n"
   ]
  },
  {
   "cell_type": "code",
   "execution_count": null,
   "metadata": {},
   "outputs": [],
   "source": [
    "#50\n",
    "y_50 = train_50['Act'].values\n",
    "train_50 = train_50.drop(['Act', 'Unnamed: 0'], axis = 1)\n",
    "x_50 = train_50.values\n",
    "X_train_50, X_test_50, Y_train_50, Y_test_50 = train_test_split(x_50, y_50, test_size = 0.20, random_state = 0)\n"
   ]
  },
  {
   "cell_type": "code",
   "execution_count": null,
   "metadata": {},
   "outputs": [],
   "source": [
    "Y_train_450 = np.reshape(Y_train_450,(len(Y_train_450),1))\n",
    "Y_test_450 = np.reshape(Y_test_450,(len(Y_test_450),1))\n",
    "Y_train_anova = np.reshape(Y_train_anova,(len(Y_train_anova),1))\n",
    "Y_test_anova = np.reshape(Y_test_anova,(len(Y_test_anova),1))\n",
    "Y_train_50 = np.reshape(Y_train_50,(len(Y_train_50),1))\n",
    "Y_test_50 = np.reshape(Y_test_50,(len(Y_test_50),1))\n"
   ]
  },
  {
   "cell_type": "code",
   "execution_count": null,
   "metadata": {},
   "outputs": [],
   "source": [
    "def input_dimension(array):\n",
    "    return np.shape(array)[1]"
   ]
  },
  {
   "cell_type": "code",
   "execution_count": null,
   "metadata": {},
   "outputs": [],
   "source": [
    "def r_square(y_pred, y_true):\n",
    "    \"\"\" r^2 value defined by the competition host, r^2 = 1 indicates 100% prediction accuracy\n",
    "    \"\"\"\n",
    "    avx = np.mean(y_pred)\n",
    "    avy = np.mean(y_true)\n",
    "    sum1, sumx, sumy = 0, 0, 0\n",
    "    for i in range(len(y_pred)):\n",
    "        sum1 += (y_pred[i] - avx)*(y_true[i] - avy)\n",
    "        sumx += (y_pred[i] - avx)*(y_pred[i] - avx)\n",
    "        sumy += (y_true[i] - avy)*(y_true[i] - avy)\n",
    "    print(len(y_pred), sum1, sumx, sumy)\n",
    "    return sum1*sum1/(sumx*sumy)"
   ]
  },
  {
   "cell_type": "code",
   "execution_count": null,
   "metadata": {},
   "outputs": [],
   "source": [
    "#Keras R_2 function\n",
    "R_2 = []\n",
    "def coeff_determination(y_true, y_pred):\n",
    "    SS_res =  K.sum(K.square( y_true-y_pred )) \n",
    "    SS_tot = K.sum(K.square( y_true - K.mean(y_true) ) ) \n",
    "    return ( 1 - SS_res/(SS_tot + K.epsilon()) )"
   ]
  },
  {
   "cell_type": "code",
   "execution_count": null,
   "metadata": {},
   "outputs": [],
   "source": [
    "#Keras MAPE function\n",
    "MAPE = []\n",
    "def mean_ape(y_true, y_pred):\n",
    "    return K.mean(K.abs((y_true-y_pred)/y_true))*100\n",
    "#Scikit learn mape function\n",
    "def mean_apes(y_true, y_pred):\n",
    "    return np.mean(np.abs((y_true-y_pred)/y_true))*100\n",
    "def mean_ae(y_true,y_pred):\n",
    "    return np.mean(np.abs(y_true-y_pred))"
   ]
  },
  {
   "cell_type": "code",
   "execution_count": null,
   "metadata": {},
   "outputs": [],
   "source": [
    "mape_func = make_scorer(mean_apes)\n",
    "r2_func = make_scorer(r_square)\n",
    "mae_func = make_scorer(mean_ae)"
   ]
  },
  {
   "cell_type": "code",
   "execution_count": null,
   "metadata": {},
   "outputs": [],
   "source": [
    "def build_model_450(learn_rate):\n",
    "    model = keras.models.Sequential();\n",
    "    model.add(keras.layers.core.Dense(units = 50, activation='relu', input_dim = input_dimension(X_train_450)));\n",
    "    model.add(keras.layers.core.Dense(units= 25, activation = 'relu'))\n",
    "    model.add(keras.layers.core.Dense(1, activation = 'relu'));\n",
    "    adam = Adam(lr=learn_rate, beta_1=0.9, beta_2=0.999, epsilon=None, decay=0.0, amsgrad=False);\n",
    "    model.compile(optimizer=adam,loss='mean_squared_error')\n",
    "    return model"
   ]
  },
  {
   "cell_type": "code",
   "execution_count": null,
   "metadata": {},
   "outputs": [],
   "source": [
    "def build_model_50(learn_rate):\n",
    "    model = keras.models.Sequential();\n",
    "    model.add(keras.layers.core.Dense(units = 40, activation='relu', input_dim = input_dimension(X_train_50)));\n",
    "    model.add(keras.layers.core.Dense(units=20, activation = 'relu'))\n",
    "    model.add(keras.layers.core.Dense(1, activation = 'relu'));\n",
    "    adam = Adam(lr=learn_rate, beta_1=0.9, beta_2=0.999, epsilon=None, decay=0.0, amsgrad=False);\n",
    "    model.compile(optimizer=adam,loss='mean_squared_error')\n",
    "    return model"
   ]
  },
  {
   "cell_type": "code",
   "execution_count": null,
   "metadata": {},
   "outputs": [],
   "source": [
    "def build_model_anova(learn_rate):\n",
    "    model = keras.models.Sequential();\n",
    "    model.add(keras.layers.core.Dense(units = 40, activation='relu', input_dim = input_dimension(X_train_anova)));\n",
    "    model.add(keras.layers.core.Dense(units=20, activation = 'relu'))\n",
    "    model.add(keras.layers.core.Dense(1, activation = 'relu'));\n",
    "    adam = Adam(lr=learn_rate, beta_1=0.9, beta_2=0.999, epsilon=None, decay=0.0, amsgrad=False);\n",
    "    model.compile(optimizer=adam,loss='mean_squared_error')\n",
    "    return model"
   ]
  },
  {
   "cell_type": "code",
   "execution_count": null,
   "metadata": {},
   "outputs": [],
   "source": [
    "regressor_50 = KerasRegressor(build_fn=build_model_50)\n",
    "regressor_anova = KerasRegressor(build_fn=build_model_anova)\n",
    "regressor_450 = KerasRegressor(build_fn=build_model_450)"
   ]
  },
  {
   "cell_type": "code",
   "execution_count": null,
   "metadata": {},
   "outputs": [],
   "source": [
    "scoring = {'R2':r2_func, 'MAE': mae_func, 'MAPE': mape_func}"
   ]
  },
  {
   "cell_type": "code",
   "execution_count": null,
   "metadata": {},
   "outputs": [],
   "source": [
    "from sklearn.model_selection import RandomizedSearchCV\n",
    "parameters ={'batch_size':randint(50,200),\n",
    "            'nb_epoch': randint(50,500),\n",
    "            'learn_rate':[0.001,0.01,0.1]}\n",
    "random_search_50 = RandomizedSearchCV(estimator=regressor_50, param_distributions=parameters, cv=5, scoring = scoring, n_iter=10, refit = 'MAPE', return_train_score = True, pre_dispatch = 2)\n",
    "random_search_anova = RandomizedSearchCV(estimator=regressor_anova, param_distributions=parameters, cv=5, scoring = scoring, n_iter= 100, refit = 'MAPE', return_train_score = True, pre_dispatch = 2)\n",
    "random_search_450 = RandomizedSearchCV(estimator=regressor_450, param_distributions=parameters, cv=5, scoring = scoring, n_iter=100, refit = 'MAPE', return_train_score = True, pre_dispatch = 2)"
   ]
  },
  {
   "cell_type": "code",
   "execution_count": null,
   "metadata": {},
   "outputs": [],
   "source": [
    "random_search_50.fit(X_train_50, Y_train_50)"
   ]
  },
  {
   "cell_type": "code",
   "execution_count": null,
   "metadata": {},
   "outputs": [],
   "source": [
    "random_search_anova.fit(X_train_anova, Y_train_anova)"
   ]
  },
  {
   "cell_type": "code",
   "execution_count": null,
   "metadata": {},
   "outputs": [],
   "source": [
    "random_search_450.fit(X_train_450, Y_train_450)"
   ]
  },
  {
   "cell_type": "code",
   "execution_count": null,
   "metadata": {},
   "outputs": [],
   "source": [
    "result_50 = pd.DataFrame(random_search_50.cv_results_)\n",
    "result_anova = pd.DataFrame(random_search_anova.cv_results_)\n",
    "result_450 = pd.DataFrame(random_search_450.cv_results_)"
   ]
  },
  {
   "cell_type": "code",
   "execution_count": null,
   "metadata": {},
   "outputs": [],
   "source": [
    "result_50.to_csv('../Results/RandomSearch_Tuning_ANN_iter100_50.csv')"
   ]
  },
  {
   "cell_type": "code",
   "execution_count": null,
   "metadata": {},
   "outputs": [],
   "source": [
    "result_anova.to_csv('../Results/RandomSearch_Tuning_ANN_iter100_anova.csv')"
   ]
  },
  {
   "cell_type": "code",
   "execution_count": null,
   "metadata": {},
   "outputs": [],
   "source": [
    "result_450.to_csv('../Results/RandomSearch_Tuning_ANN_iter100_450.csv')"
   ]
  },
  {
   "cell_type": "code",
   "execution_count": null,
   "metadata": {},
   "outputs": [],
   "source": []
  }
 ],
 "metadata": {
  "kernelspec": {
   "display_name": "Python 3",
   "language": "python",
   "name": "python3"
  },
  "language_info": {
   "codemirror_mode": {
    "name": "ipython",
    "version": 3
   },
   "file_extension": ".py",
   "mimetype": "text/x-python",
   "name": "python",
   "nbconvert_exporter": "python",
   "pygments_lexer": "ipython3",
   "version": "3.6.7"
  }
 },
 "nbformat": 4,
 "nbformat_minor": 2
}
