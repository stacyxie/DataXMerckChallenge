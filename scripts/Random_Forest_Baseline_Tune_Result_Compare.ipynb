{
 "cells": [
  {
   "cell_type": "markdown",
   "metadata": {},
   "source": [
    "# Random Forest Best Model\n"
   ]
  },
  {
   "cell_type": "code",
   "execution_count": 1,
   "metadata": {},
   "outputs": [],
   "source": [
    "# basic libraries\n",
    "import pandas as pd\n",
    "import numpy as np\n",
    "\n",
    "from sklearn.model_selection import train_test_split\n",
    "from sklearn.model_selection import cross_val_score\n",
    "from sklearn.ensemble import RandomForestRegressor\n",
    "from sklearn.metrics import make_scorer\n",
    "\n",
    "# visualization\n",
    "import seaborn as sns\n",
    "import matplotlib.pyplot as plt\n",
    "%matplotlib inline\n",
    "\n",
    "# helper\n",
    "import warnings\n",
    "warnings.simplefilter(action='ignore', category=FutureWarning)"
   ]
  },
  {
   "cell_type": "markdown",
   "metadata": {},
   "source": [
    "## Define Scoring"
   ]
  },
  {
   "cell_type": "code",
   "execution_count": 2,
   "metadata": {},
   "outputs": [],
   "source": [
    "def r_square(y, y_pred):\n",
    "    \"\"\" r^2 value defined by the competition host, r^2 = 1 indicates 100% prediction accuracy\n",
    "    \"\"\"\n",
    "    avx = np.mean(y)\n",
    "    avy = np.mean(y_pred)\n",
    "    sum1, sumx, sumy = 0, 0, 0\n",
    "    for i in range(len(y)):\n",
    "        sum1 += (y[i] - avx)*(y_pred[i] - avy)\n",
    "        sumx += (y[i] - avx)*(y[i] - avx)\n",
    "        sumy += (y_pred[i] - avy)*(y_pred[i] - avy)\n",
    "    return sum1*sum1/(sumx*sumy)"
   ]
  },
  {
   "cell_type": "code",
   "execution_count": 9,
   "metadata": {},
   "outputs": [],
   "source": [
    "def mean_ape(y_true, y_pred):\n",
    "    return np.mean(np.abs((y_true-y_pred)/y_true))*100"
   ]
  },
  {
   "cell_type": "code",
   "execution_count": 4,
   "metadata": {},
   "outputs": [],
   "source": [
    "def mean_absolute_error(y_true,y_pred):\n",
    "    return np.mean(np.abs((y_true-y_pred)))"
   ]
  },
  {
   "cell_type": "code",
   "execution_count": 5,
   "metadata": {},
   "outputs": [],
   "source": [
    "# make scorer\n",
    "R_2 = make_scorer(r_square)\n",
    "mape = make_scorer(mean_ape)\n",
    "mae = make_scorer(mean_absolute_error)"
   ]
  },
  {
   "cell_type": "markdown",
   "metadata": {},
   "source": [
    "## Baseline model performance"
   ]
  },
  {
   "cell_type": "code",
   "execution_count": 38,
   "metadata": {},
   "outputs": [],
   "source": [
    "# 450-feature dataset\n",
    "train_1 = pd.read_csv('~/Merck/Data/ACT1_train_450.csv', dtype={\"MOLECULE\": object, \"Act\": float})\n",
    "test_1 = pd.read_csv('~/Merck/Data/ACT1_test_450.csv', dtype={\"MOLECULE\": object, \"Act\": float})"
   ]
  },
  {
   "cell_type": "code",
   "execution_count": 39,
   "metadata": {},
   "outputs": [],
   "source": [
    "Y_train = train_1['Act'].values\n",
    "train_1 = train_1.drop(['Act', 'Unnamed: 0'], axis = 1)\n",
    "X_train = train_1.values\n",
    "\n",
    "Y_test = test_1['Act'].values\n",
    "test_1 = test_1.drop(['Act', 'Unnamed: 0'], axis = 1)\n",
    "X_test = test_1.values"
   ]
  },
  {
   "cell_type": "code",
   "execution_count": 40,
   "metadata": {},
   "outputs": [
    {
     "name": "stdout",
     "output_type": "stream",
     "text": [
      "(29792,) (29792, 441) (7449,) (7449, 441)\n"
     ]
    }
   ],
   "source": [
    "Y_train = np.reshape(Y_train,(len(Y_train),1))\n",
    "Y_test = np.reshape(Y_test,(len(Y_test),1))\n",
    "#clean up y\n",
    "Y_train = np.ravel(Y_train)\n",
    "Y_test = np.ravel(Y_test)\n",
    "print(np.shape(Y_train), np.shape(X_train), np.shape(Y_test), np.shape(X_test))"
   ]
  },
  {
   "cell_type": "code",
   "execution_count": 41,
   "metadata": {},
   "outputs": [],
   "source": [
    "model = RandomForestRegressor(n_estimators=500, bootstrap = True, max_features = 'sqrt', n_jobs = -1)"
   ]
  },
  {
   "cell_type": "code",
   "execution_count": 42,
   "metadata": {},
   "outputs": [
    {
     "name": "stdout",
     "output_type": "stream",
     "text": [
      "<bound method BaseEstimator.get_params of RandomForestRegressor(bootstrap=True, criterion='mse', max_depth=None,\n",
      "           max_features='sqrt', max_leaf_nodes=None,\n",
      "           min_impurity_decrease=0.0, min_impurity_split=None,\n",
      "           min_samples_leaf=1, min_samples_split=2,\n",
      "           min_weight_fraction_leaf=0.0, n_estimators=500, n_jobs=-1,\n",
      "           oob_score=False, random_state=None, verbose=0, warm_start=False)>\n"
     ]
    }
   ],
   "source": [
    "print(model.get_params)"
   ]
  },
  {
   "cell_type": "code",
   "execution_count": 43,
   "metadata": {},
   "outputs": [
    {
     "name": "stdout",
     "output_type": "stream",
     "text": [
      "The average R2 score: 0.6625262011654869\n",
      "The average MAPE score: 5.381124530472821\n",
      "The average MAE score: 0.2654920223991083\n"
     ]
    }
   ],
   "source": [
    "# cross validation\n",
    "r2_scores = cross_val_score(model, X_train, Y_train, cv = 5, scoring = R_2)\n",
    "print('The average R2 score:', r2_scores.mean())\n",
    "mape_scores = cross_val_score(model, X_train, Y_train, cv = 5, scoring = mape)\n",
    "print('The average MAPE score:', mape_scores.mean())\n",
    "mae_scores = cross_val_score(model, X_train, Y_train, cv = 5, scoring = mae)\n",
    "print('The average MAE score:', mae_scores.mean())"
   ]
  },
  {
   "cell_type": "code",
   "execution_count": 44,
   "metadata": {},
   "outputs": [],
   "source": [
    "# test on the test set\n",
    "model.fit(X_train, Y_train)\n",
    "y_pred = model.predict(X_test)"
   ]
  },
  {
   "cell_type": "code",
   "execution_count": 45,
   "metadata": {},
   "outputs": [
    {
     "name": "stdout",
     "output_type": "stream",
     "text": [
      "(7449, 1)\n",
      "(7449, 1)\n",
      "The average R2 score: 0.10712757151642263\n",
      "The average MAPE score: 11.176256530535035\n",
      "The average MAE score: 0.5321350978765671\n"
     ]
    }
   ],
   "source": [
    "y_pred = np.reshape(y_pred, (len(y_pred), 1))\n",
    "Y_test = np.reshape(Y_test,(len(Y_test),1))\n",
    "print(y_pred.shape)\n",
    "print(Y_test.shape)\n",
    "r2_score_test = r_square(Y_test, y_pred)\n",
    "print('The average R2 score:', r2_score_test.mean())\n",
    "mape_score_test = mean_ape(Y_test, y_pred)\n",
    "print('The average MAPE score:', mape_score_test.mean())\n",
    "mae_score_test = mean_absolute_error(Y_test, y_pred)\n",
    "print('The average MAE score:', mae_score_test.mean())"
   ]
  },
  {
   "cell_type": "code",
   "execution_count": 46,
   "metadata": {},
   "outputs": [
    {
     "name": "stdout",
     "output_type": "stream",
     "text": [
      "(7449, 1)\n"
     ]
    },
    {
     "data": {
      "text/plain": [
       "Text(0.5, 1.0, 'APE Histogram 450 Features')"
      ]
     },
     "execution_count": 46,
     "metadata": {},
     "output_type": "execute_result"
    },
    {
     "name": "stderr",
     "output_type": "stream",
     "text": [
      "/home/xinxinmo/anaconda3/lib/python3.6/site-packages/matplotlib/figure.py:2369: UserWarning: This figure includes Axes that are not compatible with tight_layout, so results might be incorrect.\n",
      "  warnings.warn(\"This figure includes Axes that are not compatible \"\n"
     ]
    },
    {
     "data": {
      "image/png": "[encoded data removed]",
      "text/plain": [
       "<Figure size 432x288 with 1 Axes>"
      ]
     },
     "metadata": {
      "needs_background": "light"
     },
     "output_type": "display_data"
    }
   ],
   "source": [
    "comparison = np.abs((y_pred-Y_test)/Y_test*100)\n",
    "print(comparison.shape)\n",
    "abs_comparison = np.abs(comparison)\n",
    "mask = np.where(abs_comparison>0)\n",
    "fig, ax= plt.subplots(1, 1,tight_layout=True)\n",
    "ax.hist(comparison,np.linspace(0,40,21))\n",
    "ax.set_xlabel('APE %')\n",
    "ax.set_ylabel('Frequency')\n",
    "ax.set_title('APE Histogram 450 Features')\n",
    "#ax.text(30, 3000)"
   ]
  },
  {
   "cell_type": "markdown",
   "metadata": {},
   "source": [
    "However, it's clear that this model is overfitting."
   ]
  },
  {
   "cell_type": "markdown",
   "metadata": {},
   "source": [
    "## Tuned model scores"
   ]
  },
  {
   "cell_type": "code",
   "execution_count": null,
   "metadata": {},
   "outputs": [],
   "source": [
    "# import results\n",
    "# 450 features \n",
    "hy_450_100 = pd.read_csv('../Results/RandomSearch_Tuning_450_3scores.csv')\n",
    "# 50 features selected by correlation matrix\n",
    "hy_50_corr_100 = pd.read_csv('../Results/RandomSearch_Tuning_50_corr_red_RF_iter100_3scores.csv')\n",
    "# 50 features selected by Anova method\n",
    "hy_50_Anova_100 = pd.read_csv('../Results/RandomSearch_Tuning_50_Anova_RF_iter100_3scores.csv')"
   ]
  },
  {
   "cell_type": "code",
   "execution_count": null,
   "metadata": {},
   "outputs": [],
   "source": [
    "hy_450_100.head(5)"
   ]
  },
  {
   "cell_type": "code",
   "execution_count": null,
   "metadata": {},
   "outputs": [],
   "source": [
    "# find best scores for different measuring metric and different features\n",
    "best_r2_hyp_450 = hy_450_100.iloc[hy_450_100['r2_score'].idxmax()].copy()\n",
    "best_r2_hyp_50_corr = hy_50_corr_100.iloc[hy_50_corr_100['r2_score'].idxmax()].copy()\n",
    "best_r2_hyp_Anova = hy_50_Anova_100.iloc[hy_50_Anova_100['r2_score'].idxmax()].copy()\n",
    "\n",
    "print(\"Best R2 score for 450-feature dataset is: %10.5f\" % (best_r2_hyp_450['r2_score']))\n",
    "print(\"Corresponding parameters are:\", best_r2_hyp_450['hyperparameters'])\n",
    "print(\"Best R2 score for 50-feature (corr) dataset is: %10.5f\" % (best_r2_hyp_50_corr['r2_score']))\n",
    "print(\"Corresponding parameteres are:\", best_r2_hyp_50_corr['hyperparameters'])\n",
    "print(\"Best R2 score for 50-feature (Anova) dataset is: %10.5f\" % (best_r2_hyp_Anova['r2_score']))\n",
    "print(\"Corresponding parameteres are:\", best_r2_hyp_Anova['hyperparameters'])\n",
    "\n",
    "best_mape_hyp_450 = hy_450_100.iloc[hy_450_100['mape_score'].idxmin()].copy()\n",
    "best_mape_hyp_50_corr = hy_50_corr_100.iloc[hy_50_corr_100['mape_score'].idxmin()].copy()\n",
    "best_mape_hyp_Anova = hy_50_Anova_100.iloc[hy_50_Anova_100['mape_score'].idxmin()].copy()\n",
    "\n",
    "print()\n",
    "print(\"Best MAPE score for 450-feature dataset is: %10.5f\" % (best_r2_hyp_450['mape_score']))\n",
    "print(\"Corresponding parameteres are:\", best_mape_hyp_450['hyperparameters'])\n",
    "print(\"Best MAPE score for 50-feature (corr) dataset is: %10.5f\" % (best_r2_hyp_50_corr['mape_score']))\n",
    "print(\"Corresponding parameteres are:\", best_mape_hyp_50_corr['hyperparameters'])\n",
    "print(\"Best MAPE score for 50-feature (Anova) dataset is: %10.5f\" % (best_r2_hyp_Anova['mape_score']))\n",
    "print(\"Corresponding parameteres are:\", best_mape_hyp_Anova['hyperparameters'])\n",
    "\n",
    "best_mae_hyp_450 = hy_450_100.iloc[hy_450_100['mae_score'].idxmin()].copy()\n",
    "best_mae_hyp_50_corr = hy_50_corr_100.iloc[hy_50_corr_100['mae_score'].idxmin()].copy()\n",
    "best_mae_hyp_Anova = hy_50_Anova_100.iloc[hy_50_Anova_100['mae_score'].idxmin()].copy()\n",
    "\n",
    "print()\n",
    "print(\"Best MAE score for 450-feature dataset is: %10.5f\" % (best_r2_hyp_450['mae_score']))\n",
    "print(\"Corresponding parameteres are:\", best_mae_hyp_450['hyperparameters'])\n",
    "print(\"Best MAE score for 50-feature (corr) dataset is: %10.5f\" % (best_r2_hyp_50_corr['mae_score']))\n",
    "print(\"Corresponding parameteres are:\", best_mae_hyp_50_corr['hyperparameters'])\n",
    "print(\"Best MAE score for 50-feature (Anova) dataset is: %10.5f\" % (best_r2_hyp_Anova['mae_score']))\n",
    "print(\"Corresponding parameteres are:\", best_mae_hyp_Anova['hyperparameters'])"
   ]
  },
  {
   "cell_type": "markdown",
   "metadata": {},
   "source": [
    "## Result comparation\n",
    "\n",
    "From the results above, we can know that:\n",
    "\n",
    "```\n",
    "1) For the 450-feature dataset, the baseline model performed better.\n",
    "2) For the 50-feature-ARONA dataset, the baseline model performed better.\n",
    "3) For the 50-feature dataset, the tuned model performed better.\n",
    "```\n",
    "\n",
    "Thus, we can keep the baseline model for 450-feature and 50-feature-ARONA dataset as the best model. However, we need to use the tuned parameters to train a new model for 50-feature dataset."
   ]
  },
  {
   "cell_type": "code",
   "execution_count": 6,
   "metadata": {},
   "outputs": [],
   "source": [
    "train_2 = pd.read_csv('~/Merck/Data/ACT1_Anova_50.csv', dtype={\"MOLECULE\": object, \"Act\": float})\n",
    "y_2 = train_2['Act'].values\n",
    "train_2 = train_2.drop(['Act', 'Unnamed: 0'], axis = 1)\n",
    "x_2 = train_2.values\n",
    "X_train_2, X_test_2, Y_train_2, Y_test_2 = train_test_split(x_2, y_2, train_size = 0.80, random_state = 0)"
   ]
  },
  {
   "cell_type": "code",
   "execution_count": 7,
   "metadata": {},
   "outputs": [
    {
     "name": "stdout",
     "output_type": "stream",
     "text": [
      "(29792,) (29792, 50) (7449,) (7449, 50)\n"
     ]
    }
   ],
   "source": [
    "print(np.shape(Y_train_2), np.shape(X_train_2), np.shape(Y_test_2), np.shape(X_test_2))\n",
    "Y_train_2 = np.reshape(Y_train_2,(len(Y_train_2),1))\n",
    "Y_test_2 = np.reshape(Y_test_2,(len(Y_test_2),1))\n",
    "Y_test_2 = np.ravel(Y_test_2)\n",
    "Y_train_2 = np.ravel(Y_train_2)"
   ]
  },
  {
   "cell_type": "code",
   "execution_count": 10,
   "metadata": {},
   "outputs": [
    {
     "name": "stdout",
     "output_type": "stream",
     "text": [
      "The average R2 score: 0.5664568847488061\n",
      "The average MAPE score: 5.8785563744915725\n",
      "The average MAE score: 0.2890393889306732\n"
     ]
    }
   ],
   "source": [
    "\"\"\"\n",
    "Best MAPE score for 50-feature (corr) dataset is:    5.57787\n",
    "{'bootstrap': False, 'max_depth': 27, 'max_features': 'log2', 'min_samples_split': 5, 'min_samples_leaf': 2, 'n_estimators': 360}\n",
    "\"\"\"\n",
    "#cross validation\n",
    "#best_model = RandomForestRegressor(bootstrap = False, max_depth = 27, max_features = 'log2', min_samples_split = 5, min_samples_leaf = 2, n_estimators=360, n_jobs = -1)\n",
    "best_model = RandomForestRegressor(n_estimators=500, n_jobs = -1)\n",
    "tuned_r2_scores = cross_val_score(best_model, X_train_2, Y_train_2, cv = 5, scoring = R_2)\n",
    "print('The average R2 score:', tuned_r2_scores.mean())\n",
    "tuned_mape_scores = cross_val_score(best_model, X_train_2, Y_train_2, cv = 5, scoring = mape)\n",
    "print('The average MAPE score:', tuned_mape_scores.mean())\n",
    "tuned_mae_scores = cross_val_score(best_model, X_train_2, Y_train_2, cv = 5, scoring = mae)\n",
    "print('The average MAE score:', tuned_mae_scores.mean())"
   ]
  },
  {
   "cell_type": "code",
   "execution_count": 11,
   "metadata": {},
   "outputs": [],
   "source": [
    "# test on the test set\n",
    "best_model.fit(X_train_2, Y_train_2)\n",
    "y_pred_2 = best_model.predict(X_test_2)"
   ]
  },
  {
   "cell_type": "code",
   "execution_count": 12,
   "metadata": {},
   "outputs": [
    {
     "name": "stdout",
     "output_type": "stream",
     "text": [
      "<bound method BaseEstimator.get_params of RandomForestRegressor(bootstrap=True, criterion='mse', max_depth=None,\n",
      "           max_features='auto', max_leaf_nodes=None,\n",
      "           min_impurity_decrease=0.0, min_impurity_split=None,\n",
      "           min_samples_leaf=1, min_samples_split=2,\n",
      "           min_weight_fraction_leaf=0.0, n_estimators=500, n_jobs=-1,\n",
      "           oob_score=False, random_state=None, verbose=0, warm_start=False)>\n"
     ]
    }
   ],
   "source": [
    "print(best_model.get_params)"
   ]
  },
  {
   "cell_type": "code",
   "execution_count": 28,
   "metadata": {},
   "outputs": [
    {
     "name": "stdout",
     "output_type": "stream",
     "text": [
      "(7449, 1)\n",
      "(7449, 1)\n",
      "For the test set\n",
      "The average R2 score: 0.5950179087519669\n",
      "The average MAPE score: 5.6987174517445105\n",
      "The average MAE score: 0.27980563133308145\n"
     ]
    }
   ],
   "source": [
    "y_pred_2 = np.reshape(y_pred_2, (len(y_pred_2), 1))\n",
    "Y_test_2 = np.reshape(Y_test_2,(len(Y_test_2),1))\n",
    "print(y_pred_2.shape)\n",
    "print(Y_test_2.shape)\n",
    "print(\"For the test set\")\n",
    "r2_score_test_2 = r_square(Y_test_2, y_pred_2)\n",
    "print('The average R2 score:', r2_score_test_2.mean())\n",
    "mape_score_test_2 = mean_ape(Y_test_2, y_pred_2)\n",
    "print('The average MAPE score:', mape_score_test_2.mean())\n",
    "mae_score_test_2 = mean_absolute_error(Y_test_2, y_pred_2)\n",
    "print('The average MAE score:', mae_score_test_2.mean())"
   ]
  },
  {
   "cell_type": "code",
   "execution_count": 17,
   "metadata": {},
   "outputs": [
    {
     "data": {
      "text/plain": [
       "Text(0.5, 1.0, 'APE Histogram 50 Features')"
      ]
     },
     "execution_count": 17,
     "metadata": {},
     "output_type": "execute_result"
    },
    {
     "name": "stderr",
     "output_type": "stream",
     "text": [
      "/home/xinxinmo/anaconda3/lib/python3.6/site-packages/matplotlib/figure.py:2369: UserWarning: This figure includes Axes that are not compatible with tight_layout, so results might be incorrect.\n",
      "  warnings.warn(\"This figure includes Axes that are not compatible \"\n"
     ]
    },
    {
     "data": {
      "image/png": "[encoded data removed]",
      "text/plain": [
       "<Figure size 432x288 with 1 Axes>"
      ]
     },
     "metadata": {
      "needs_background": "light"
     },
     "output_type": "display_data"
    }
   ],
   "source": [
    "comparison = np.abs((y_pred_2-Y_test_2)/Y_test_2*100)\n",
    "abs_comparison = np.abs(comparison)\n",
    "mask = np.where(abs_comparison>0)\n",
    "fig, ax= plt.subplots(1, 1,tight_layout=True)\n",
    "ax.hist(comparison,np.linspace(0,40,21))\n",
    "ax.set_xlabel('APE %')\n",
    "ax.set_ylabel('Frequency')\n",
    "ax.set_title('APE Histogram 50 Features')\n",
    "#ax.text(30, 3000)"
   ]
  },
  {
   "cell_type": "code",
   "execution_count": 29,
   "metadata": {},
   "outputs": [],
   "source": [
    "# 50 features\n",
    "train_3 = pd.read_csv('~/Merck/Data/ACT1_train_50_corr_red.csv', dtype={\"MOLECULE\": object, \"Act\": float})\n",
    "y_3 = train_3['Act'].values\n",
    "train_3 = train_3.drop(['Act', 'Unnamed: 0'], axis = 1)\n",
    "x_3 = train_3.values\n",
    "X_train_3, X_test_3, Y_train_3, Y_test_3 = train_test_split(x_3, y_3, train_size = 0.80, random_state = 0)"
   ]
  },
  {
   "cell_type": "code",
   "execution_count": 30,
   "metadata": {},
   "outputs": [
    {
     "name": "stdout",
     "output_type": "stream",
     "text": [
      "(29792,) (29792, 49) (7449,) (7449, 49)\n"
     ]
    }
   ],
   "source": [
    "print(np.shape(Y_train_3), np.shape(X_train_3), np.shape(Y_test_3), np.shape(X_test_3))\n",
    "Y_train_3 = np.reshape(Y_train_3,(len(Y_train_3),1))\n",
    "Y_test_3 = np.reshape(Y_test_3,(len(Y_test_3),1))\n",
    "Y_test_3 = np.ravel(Y_test_3)\n",
    "Y_train_3 = np.ravel(Y_train_3)"
   ]
  },
  {
   "cell_type": "code",
   "execution_count": 31,
   "metadata": {},
   "outputs": [
    {
     "name": "stdout",
     "output_type": "stream",
     "text": [
      "The average R2 score: 0.6134209035741749\n",
      "The average MAPE score: 5.647620645586544\n",
      "The average MAE score: 0.27723574412703555\n"
     ]
    }
   ],
   "source": [
    "\"\"\"\n",
    "Best MAPE score for 50-feature (corr) dataset is:    5.57787\n",
    "{'bootstrap': False, 'max_depth': 27, 'max_features': 'log2', 'min_samples_split': 5, 'min_samples_leaf': 2, 'n_estimators': 360}\n",
    "\"\"\"\n",
    "#cross validation\n",
    "best_model_corr = RandomForestRegressor(bootstrap = False, max_depth = 27, max_features = 'log2', min_samples_split = 5, min_samples_leaf = 2, n_estimators=360, n_jobs = -1)\n",
    "#best_model_corr = RandomForestRegressor(n_estimators=500, n_jobs = -1)\n",
    "tuned_r2_scores = cross_val_score(best_model_corr, X_train_3, Y_train_3, cv = 5, scoring = R_2)\n",
    "print('The average R2 score:', tuned_r2_scores.mean())\n",
    "tuned_mape_scores = cross_val_score(best_model, X_train_3, Y_train_3, cv = 5, scoring = mape)\n",
    "print('The average MAPE score:', tuned_mape_scores.mean())\n",
    "tuned_mae_scores = cross_val_score(best_model, X_train_3, Y_train_3, cv = 5, scoring = mae)\n",
    "print('The average MAE score:', tuned_mae_scores.mean())"
   ]
  },
  {
   "cell_type": "code",
   "execution_count": 35,
   "metadata": {},
   "outputs": [
    {
     "name": "stdout",
     "output_type": "stream",
     "text": [
      "<bound method BaseEstimator.get_params of RandomForestRegressor(bootstrap=False, criterion='mse', max_depth=27,\n",
      "           max_features='log2', max_leaf_nodes=None,\n",
      "           min_impurity_decrease=0.0, min_impurity_split=None,\n",
      "           min_samples_leaf=2, min_samples_split=5,\n",
      "           min_weight_fraction_leaf=0.0, n_estimators=360, n_jobs=-1,\n",
      "           oob_score=False, random_state=None, verbose=0, warm_start=False)>\n"
     ]
    }
   ],
   "source": [
    "# test on the test set\n",
    "best_model_corr.fit(X_train_3, Y_train_3)\n",
    "y_pred_3 = best_model_corr.predict(X_test_3)\n",
    "print(best_model_corr.get_params)"
   ]
  },
  {
   "cell_type": "code",
   "execution_count": 36,
   "metadata": {},
   "outputs": [
    {
     "name": "stdout",
     "output_type": "stream",
     "text": [
      "(7449, 1)\n",
      "(7449, 1)\n",
      "For the test set\n",
      "The average R2 score: 0.6306572799403607\n",
      "The average MAPE score: 5.6987174517445105\n",
      "The average MAE score: 0.27023623613216613\n"
     ]
    }
   ],
   "source": [
    "y_pred_3 = np.reshape(y_pred_3, (len(y_pred_3), 1))\n",
    "Y_test_3 = np.reshape(Y_test_3,(len(Y_test_3),1))\n",
    "print(y_pred_3.shape)\n",
    "print(Y_test_3.shape)\n",
    "print(\"For the test set\")\n",
    "r2_score_test_3 = r_square(Y_test_3, y_pred_3)\n",
    "print('The average R2 score:', r2_score_test_3.mean())\n",
    "mape_score_test_3 = mean_ape(Y_test_3, y_pred_3)\n",
    "print('The average MAPE score:', mape_score_test_2.mean())\n",
    "mae_score_test_3 = mean_absolute_error(Y_test_3, y_pred_3)\n",
    "print('The average MAE score:', mae_score_test_3.mean())"
   ]
  },
  {
   "cell_type": "code",
   "execution_count": 37,
   "metadata": {},
   "outputs": [
    {
     "data": {
      "text/plain": [
       "Text(0.5, 1.0, 'APE Histogram 50 Features')"
      ]
     },
     "execution_count": 37,
     "metadata": {},
     "output_type": "execute_result"
    },
    {
     "name": "stderr",
     "output_type": "stream",
     "text": [
      "/home/xinxinmo/anaconda3/lib/python3.6/site-packages/matplotlib/figure.py:2369: UserWarning: This figure includes Axes that are not compatible with tight_layout, so results might be incorrect.\n",
      "  warnings.warn(\"This figure includes Axes that are not compatible \"\n"
     ]
    },
    {
     "data": {
      "image/png": "[encoded data removed]",
      "text/plain": [
       "<Figure size 432x288 with 1 Axes>"
      ]
     },
     "metadata": {
      "needs_background": "light"
     },
     "output_type": "display_data"
    }
   ],
   "source": [
    "comparison = np.abs((y_pred_2-Y_test_2)/Y_test_2*100)\n",
    "abs_comparison = np.abs(comparison)\n",
    "mask = np.where(abs_comparison>0)\n",
    "fig, ax= plt.subplots(1, 1,tight_layout=True)\n",
    "ax.hist(comparison,np.linspace(0,40,21))\n",
    "ax.set_xlabel('APE %')\n",
    "ax.set_ylabel('Frequency')\n",
    "ax.set_title('APE Histogram 50 Features')\n",
    "#ax.text(30, 3000)"
   ]
  },
  {
   "cell_type": "code",
   "execution_count": null,
   "metadata": {},
   "outputs": [],
   "source": []
  }
 ],
 "metadata": {
  "kernelspec": {
   "display_name": "Python 3",
   "language": "python",
   "name": "python3"
  },
  "language_info": {
   "codemirror_mode": {
    "name": "ipython",
    "version": 3
   },
   "file_extension": ".py",
   "mimetype": "text/x-python",
   "name": "python",
   "nbconvert_exporter": "python",
   "pygments_lexer": "ipython3",
   "version": "3.6.8"
  }
 },
 "nbformat": 4,
 "nbformat_minor": 2
}
