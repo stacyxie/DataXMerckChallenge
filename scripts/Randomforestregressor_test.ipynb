{
 "cells": [
  {
   "cell_type": "code",
   "execution_count": 1,
   "metadata": {},
   "outputs": [],
   "source": [
    "import pandas as pd\n",
    "import matplotlib.pyplot as plt\n",
    "%matplotlib inline"
   ]
  },
  {
   "cell_type": "code",
   "execution_count": 2,
   "metadata": {},
   "outputs": [],
   "source": [
    "train_450 = pd.read_csv('ACT1_train_450.csv', dtype={\"MOLECULE\": object, \"Act\": float})"
   ]
  },
  {
   "cell_type": "code",
   "execution_count": 23,
   "metadata": {},
   "outputs": [],
   "source": [
    "train_1 = pd.read_csv('ACT1_train_50_corr_red.csv', dtype={\"MOLECULE\": object, \"Act\": float})"
   ]
  },
  {
   "cell_type": "code",
   "execution_count": 24,
   "metadata": {},
   "outputs": [],
   "source": [
    "def r_square(y, y_pred):\n",
    "    \"\"\" r^2 value defined by the competition host, r^2 = 1 indicates 100% prediction accuracy\n",
    "    \"\"\"\n",
    "    avx = np.mean(y)\n",
    "    avy = np.mean(y_pred)\n",
    "    sum1, sumx, sumy = 0, 0, 0\n",
    "    for i in range(len(y)):\n",
    "        sum1 += (y[i] - avx)*(y_pred[i] - avy)\n",
    "        sumx += (y[i] - avx)*(y[i] - avx)\n",
    "        sumy += (y_pred[i] - avy)*(y_pred[i] - avy)\n",
    "#     print(len(y), sum1, sumx, sumy)\n",
    "    return sum1*sum1/(sumx*sumy)"
   ]
  },
  {
   "cell_type": "code",
   "execution_count": 5,
   "metadata": {},
   "outputs": [],
   "source": [
    "MAPE = []\n",
    "def mean_ape(y_true, y_pred):\n",
    "    return np.mean(np.abs((y_true-y_pred)/y_true))*100"
   ]
  },
  {
   "cell_type": "code",
   "execution_count": 25,
   "metadata": {},
   "outputs": [],
   "source": [
    "def mean_absolute_error(y_true,y_pred):\n",
    "    return np.mean(np.abs((y_true-y_pred)))"
   ]
  },
  {
   "cell_type": "markdown",
   "metadata": {},
   "source": [
    "## Data set with 50 features"
   ]
  },
  {
   "cell_type": "code",
   "execution_count": 26,
   "metadata": {},
   "outputs": [],
   "source": [
    "from sklearn.model_selection import train_test_split\n",
    "import numpy as np\n",
    "y = train_1['Act'].values\n",
    "train_1 = train_1.drop(['Act', 'Unnamed: 0'], axis = 1)\n",
    "x = train_1.values\n",
    "X_train, X_test, Y_train, Y_test = train_test_split(x, y, train_size = 0.80, random_state = 0)\n",
    "\n"
   ]
  },
  {
   "cell_type": "code",
   "execution_count": 28,
   "metadata": {},
   "outputs": [
    {
     "name": "stdout",
     "output_type": "stream",
     "text": [
      "(29792,) (29792, 49) (7449,) (7449, 49)\n"
     ]
    }
   ],
   "source": [
    "print(np.shape(Y_train), np.shape(X_train), np.shape(Y_test), np.shape(X_test))\n",
    "Y_train = np.reshape(Y_train,(len(Y_train),1))\n",
    "Y_test = np.reshape(Y_test,(len(Y_test),1))\n"
   ]
  },
  {
   "cell_type": "code",
   "execution_count": 27,
   "metadata": {},
   "outputs": [],
   "source": [
    "from sklearn.ensemble import RandomForestRegressor\n",
    "#clean up output\n",
    "import warnings\n",
    "warnings.simplefilter(action='ignore', category=FutureWarning)\n",
    "\n",
    "from sklearn.model_selection import cross_val_score\n",
    "model = RandomForestRegressor(n_estimators=500, bootstrap = True, max_features = 'sqrt')\n",
    "\n",
    "\n"
   ]
  },
  {
   "cell_type": "code",
   "execution_count": 9,
   "metadata": {},
   "outputs": [
    {
     "name": "stdout",
     "output_type": "stream",
     "text": [
      "[5.6186 4.3003 4.3003 ... 4.3003 5.0018 4.3003]\n"
     ]
    }
   ],
   "source": [
    "#custom R_2 score function\n",
    "from sklearn.metrics import make_scorer\n",
    "R_2 = make_scorer(r_square)\n",
    "#clean up y\n",
    "Y_train = np.ravel(Y_train)\n",
    "print(Y_train)"
   ]
  },
  {
   "cell_type": "code",
   "execution_count": 10,
   "metadata": {},
   "outputs": [
    {
     "name": "stdout",
     "output_type": "stream",
     "text": [
      "[5.6186 4.3003 4.3003 ... 4.3003 5.0018 4.3003]\n"
     ]
    }
   ],
   "source": [
    "from sklearn.metrics import make_scorer\n",
    "mean_ape = make_scorer(mean_ape)\n",
    "#clean up y\n",
    "Y_train = np.ravel(Y_train)\n",
    "print(Y_train)"
   ]
  },
  {
   "cell_type": "code",
   "execution_count": 29,
   "metadata": {},
   "outputs": [],
   "source": [
    "mae = make_scorer(mean_absolute_error)"
   ]
  },
  {
   "cell_type": "code",
   "execution_count": 11,
   "metadata": {},
   "outputs": [
    {
     "name": "stdout",
     "output_type": "stream",
     "text": [
      "[0.62776075 0.60084598 0.62498934 0.59648879 0.59515798 0.59786118\n",
      " 0.63639864]\n",
      "The average accuracy is: 0.6113575212366309\n"
     ]
    }
   ],
   "source": [
    "#R^2 score with CV\n",
    "scores = cross_val_score(model,X_train, Y_train, cv = 7, scoring = R_2)\n",
    "print(scores)\n",
    "print('The average accuracy is:', scores.mean())"
   ]
  },
  {
   "cell_type": "code",
   "execution_count": 17,
   "metadata": {},
   "outputs": [
    {
     "name": "stdout",
     "output_type": "stream",
     "text": [
      "[5.48462287 5.49954979 5.51523175 5.66788226 5.56143028 5.56866355\n",
      " 5.54590512]\n",
      "The average accuracy is: 5.549040803782197\n"
     ]
    }
   ],
   "source": [
    "#Mean absolute percentage error with 50 features selected with highest positive and negative correlation\n",
    "scores = cross_val_score(model,X_train, Y_train, cv = 7, scoring = mean_ape)\n",
    "print(scores)\n",
    "print('The average accuracy is:', scores.mean())"
   ]
  },
  {
   "cell_type": "code",
   "execution_count": 30,
   "metadata": {},
   "outputs": [
    {
     "name": "stderr",
     "output_type": "stream",
     "text": [
      "C:\\Users\\yanyi\\Anaconda3\\envs\\data-x\\lib\\site-packages\\sklearn\\model_selection\\_validation.py:528: DataConversionWarning: A column-vector y was passed when a 1d array was expected. Please change the shape of y to (n_samples,), for example using ravel().\n",
      "  estimator.fit(X_train, y_train, **fit_params)\n",
      "C:\\Users\\yanyi\\Anaconda3\\envs\\data-x\\lib\\site-packages\\sklearn\\model_selection\\_validation.py:528: DataConversionWarning: A column-vector y was passed when a 1d array was expected. Please change the shape of y to (n_samples,), for example using ravel().\n",
      "  estimator.fit(X_train, y_train, **fit_params)\n",
      "C:\\Users\\yanyi\\Anaconda3\\envs\\data-x\\lib\\site-packages\\sklearn\\model_selection\\_validation.py:528: DataConversionWarning: A column-vector y was passed when a 1d array was expected. Please change the shape of y to (n_samples,), for example using ravel().\n",
      "  estimator.fit(X_train, y_train, **fit_params)\n",
      "C:\\Users\\yanyi\\Anaconda3\\envs\\data-x\\lib\\site-packages\\sklearn\\model_selection\\_validation.py:528: DataConversionWarning: A column-vector y was passed when a 1d array was expected. Please change the shape of y to (n_samples,), for example using ravel().\n",
      "  estimator.fit(X_train, y_train, **fit_params)\n",
      "C:\\Users\\yanyi\\Anaconda3\\envs\\data-x\\lib\\site-packages\\sklearn\\model_selection\\_validation.py:528: DataConversionWarning: A column-vector y was passed when a 1d array was expected. Please change the shape of y to (n_samples,), for example using ravel().\n",
      "  estimator.fit(X_train, y_train, **fit_params)\n",
      "C:\\Users\\yanyi\\Anaconda3\\envs\\data-x\\lib\\site-packages\\sklearn\\model_selection\\_validation.py:528: DataConversionWarning: A column-vector y was passed when a 1d array was expected. Please change the shape of y to (n_samples,), for example using ravel().\n",
      "  estimator.fit(X_train, y_train, **fit_params)\n",
      "C:\\Users\\yanyi\\Anaconda3\\envs\\data-x\\lib\\site-packages\\sklearn\\model_selection\\_validation.py:528: DataConversionWarning: A column-vector y was passed when a 1d array was expected. Please change the shape of y to (n_samples,), for example using ravel().\n",
      "  estimator.fit(X_train, y_train, **fit_params)\n"
     ]
    },
    {
     "name": "stdout",
     "output_type": "stream",
     "text": [
      "[0.54346832 0.53024435 0.56185838 0.54334587 0.53402625 0.53243894\n",
      " 0.55561385]\n",
      "The average accuracy is: 0.5429994212757379\n"
     ]
    }
   ],
   "source": [
    "scores = cross_val_score(model,X_train, Y_train, cv = 7, scoring = mae)\n",
    "print(scores)\n",
    "print('The average accuracy is:', scores.mean())"
   ]
  },
  {
   "cell_type": "code",
   "execution_count": 2,
   "metadata": {},
   "outputs": [],
   "source": [
    "from xgboost import XGBRegressor"
   ]
  },
  {
   "cell_type": "code",
   "execution_count": 12,
   "metadata": {},
   "outputs": [
    {
     "data": {
      "text/plain": [
       "XGBRegressor(base_score=0.5, booster='gbtree', colsample_bylevel=1,\n",
       "       colsample_bytree=1, gamma=0, importance_type='gain',\n",
       "       learning_rate=0.1, max_delta_step=0, max_depth=3,\n",
       "       min_child_weight=1, missing=None, n_estimators=500, n_jobs=1,\n",
       "       nthread=None, objective='reg:linear', random_state=0, reg_alpha=0,\n",
       "       reg_lambda=1, scale_pos_weight=1, seed=None, silent=True,\n",
       "       subsample=1)"
      ]
     },
     "execution_count": 12,
     "metadata": {},
     "output_type": "execute_result"
    }
   ],
   "source": [
    "# fit model no training data\n",
    "model = XGBRegressor(n_estimators=500)\n",
    "model.fit(X_train, Y_train)"
   ]
  },
  {
   "cell_type": "code",
   "execution_count": 13,
   "metadata": {},
   "outputs": [
    {
     "name": "stdout",
     "output_type": "stream",
     "text": [
      "[6.54821207 6.59026131 6.67306159 6.69736206 6.6842866  6.69792027\n",
      " 6.60722223]\n",
      "The average accuracy is: 6.6426180192332875\n"
     ]
    }
   ],
   "source": [
    "#xgboosting, n of estimator =500, MPE\n",
    "from sklearn.model_selection import cross_val_score\n",
    "scores = cross_val_score(model,X_train, Y_train, cv = 7, scoring = mean_ape)\n",
    "print(scores)\n",
    "print('The average accuracy is:', scores.mean())"
   ]
  },
  {
   "cell_type": "code",
   "execution_count": null,
   "metadata": {},
   "outputs": [],
   "source": []
  },
  {
   "cell_type": "markdown",
   "metadata": {},
   "source": [
    "## Data with 450 features"
   ]
  },
  {
   "cell_type": "code",
   "execution_count": 17,
   "metadata": {},
   "outputs": [],
   "source": [
    "from sklearn.model_selection import train_test_split\n",
    "import numpy as np\n",
    "y = train_450['Act'].values\n",
    "train_450 = train_450.drop(['Act', 'Unnamed: 0'], axis = 1)\n",
    "x = train_450.values\n",
    "X_train, X_test, Y_train, Y_test = train_test_split(x, y, train_size = 0.80, random_state = 0)\n",
    "\n",
    "Y_train = np.reshape(Y_train,(len(Y_train),1))\n",
    "Y_test = np.reshape(Y_test,(len(Y_test),1))"
   ]
  },
  {
   "cell_type": "code",
   "execution_count": 18,
   "metadata": {},
   "outputs": [
    {
     "name": "stderr",
     "output_type": "stream",
     "text": [
      "C:\\Users\\yanyi\\Anaconda3\\envs\\data-x\\lib\\site-packages\\sklearn\\model_selection\\_validation.py:528: DataConversionWarning: A column-vector y was passed when a 1d array was expected. Please change the shape of y to (n_samples,), for example using ravel().\n",
      "  estimator.fit(X_train, y_train, **fit_params)\n",
      "C:\\Users\\yanyi\\Anaconda3\\envs\\data-x\\lib\\site-packages\\sklearn\\model_selection\\_validation.py:528: DataConversionWarning: A column-vector y was passed when a 1d array was expected. Please change the shape of y to (n_samples,), for example using ravel().\n",
      "  estimator.fit(X_train, y_train, **fit_params)\n",
      "C:\\Users\\yanyi\\Anaconda3\\envs\\data-x\\lib\\site-packages\\sklearn\\model_selection\\_validation.py:528: DataConversionWarning: A column-vector y was passed when a 1d array was expected. Please change the shape of y to (n_samples,), for example using ravel().\n",
      "  estimator.fit(X_train, y_train, **fit_params)\n",
      "C:\\Users\\yanyi\\Anaconda3\\envs\\data-x\\lib\\site-packages\\sklearn\\model_selection\\_validation.py:528: DataConversionWarning: A column-vector y was passed when a 1d array was expected. Please change the shape of y to (n_samples,), for example using ravel().\n",
      "  estimator.fit(X_train, y_train, **fit_params)\n",
      "C:\\Users\\yanyi\\Anaconda3\\envs\\data-x\\lib\\site-packages\\sklearn\\model_selection\\_validation.py:528: DataConversionWarning: A column-vector y was passed when a 1d array was expected. Please change the shape of y to (n_samples,), for example using ravel().\n",
      "  estimator.fit(X_train, y_train, **fit_params)\n",
      "C:\\Users\\yanyi\\Anaconda3\\envs\\data-x\\lib\\site-packages\\sklearn\\model_selection\\_validation.py:528: DataConversionWarning: A column-vector y was passed when a 1d array was expected. Please change the shape of y to (n_samples,), for example using ravel().\n",
      "  estimator.fit(X_train, y_train, **fit_params)\n",
      "C:\\Users\\yanyi\\Anaconda3\\envs\\data-x\\lib\\site-packages\\sklearn\\model_selection\\_validation.py:528: DataConversionWarning: A column-vector y was passed when a 1d array was expected. Please change the shape of y to (n_samples,), for example using ravel().\n",
      "  estimator.fit(X_train, y_train, **fit_params)\n"
     ]
    },
    {
     "name": "stdout",
     "output_type": "stream",
     "text": [
      "[10.86795915 10.65138472 11.13788837 10.76400107 10.69173433 10.69558481\n",
      " 11.00108944]\n",
      "The average accuracy is: 10.82994884167264\n"
     ]
    }
   ],
   "source": [
    "from sklearn.ensemble import RandomForestRegressor\n",
    "from sklearn.model_selection import cross_val_score\n",
    "model = RandomForestRegressor(n_estimators=500, bootstrap = True, max_features = 'sqrt')\n",
    "scores = cross_val_score(model,X_train, Y_train, cv = 7, scoring = mean_ape)\n",
    "print(scores)\n",
    "print('The average accuracy is:', scores.mean())"
   ]
  },
  {
   "cell_type": "code",
   "execution_count": 21,
   "metadata": {},
   "outputs": [
    {
     "name": "stderr",
     "output_type": "stream",
     "text": [
      "C:\\Users\\yanyi\\Anaconda3\\envs\\data-x\\lib\\site-packages\\sklearn\\model_selection\\_validation.py:528: DataConversionWarning: A column-vector y was passed when a 1d array was expected. Please change the shape of y to (n_samples,), for example using ravel().\n",
      "  estimator.fit(X_train, y_train, **fit_params)\n",
      "C:\\Users\\yanyi\\Anaconda3\\envs\\data-x\\lib\\site-packages\\sklearn\\model_selection\\_validation.py:528: DataConversionWarning: A column-vector y was passed when a 1d array was expected. Please change the shape of y to (n_samples,), for example using ravel().\n",
      "  estimator.fit(X_train, y_train, **fit_params)\n",
      "C:\\Users\\yanyi\\Anaconda3\\envs\\data-x\\lib\\site-packages\\sklearn\\model_selection\\_validation.py:528: DataConversionWarning: A column-vector y was passed when a 1d array was expected. Please change the shape of y to (n_samples,), for example using ravel().\n",
      "  estimator.fit(X_train, y_train, **fit_params)\n",
      "C:\\Users\\yanyi\\Anaconda3\\envs\\data-x\\lib\\site-packages\\sklearn\\model_selection\\_validation.py:528: DataConversionWarning: A column-vector y was passed when a 1d array was expected. Please change the shape of y to (n_samples,), for example using ravel().\n",
      "  estimator.fit(X_train, y_train, **fit_params)\n",
      "C:\\Users\\yanyi\\Anaconda3\\envs\\data-x\\lib\\site-packages\\sklearn\\model_selection\\_validation.py:528: DataConversionWarning: A column-vector y was passed when a 1d array was expected. Please change the shape of y to (n_samples,), for example using ravel().\n",
      "  estimator.fit(X_train, y_train, **fit_params)\n",
      "C:\\Users\\yanyi\\Anaconda3\\envs\\data-x\\lib\\site-packages\\sklearn\\model_selection\\_validation.py:528: DataConversionWarning: A column-vector y was passed when a 1d array was expected. Please change the shape of y to (n_samples,), for example using ravel().\n",
      "  estimator.fit(X_train, y_train, **fit_params)\n",
      "C:\\Users\\yanyi\\Anaconda3\\envs\\data-x\\lib\\site-packages\\sklearn\\model_selection\\_validation.py:528: DataConversionWarning: A column-vector y was passed when a 1d array was expected. Please change the shape of y to (n_samples,), for example using ravel().\n",
      "  estimator.fit(X_train, y_train, **fit_params)\n"
     ]
    },
    {
     "name": "stdout",
     "output_type": "stream",
     "text": [
      "[0.53951921 0.53002489 0.55569263 0.53846576 0.52969399 0.53034763\n",
      " 0.54976759]\n",
      "The average accuracy is: 0.5390730983131071\n"
     ]
    }
   ],
   "source": [
    "scores = cross_val_score(model,X_train, Y_train, cv = 7, scoring = mae)\n",
    "print(scores)\n",
    "print('The average accuracy is:', scores.mean())"
   ]
  },
  {
   "cell_type": "code",
   "execution_count": 22,
   "metadata": {},
   "outputs": [
    {
     "name": "stderr",
     "output_type": "stream",
     "text": [
      "C:\\Users\\yanyi\\Anaconda3\\envs\\data-x\\lib\\site-packages\\sklearn\\model_selection\\_validation.py:528: DataConversionWarning: A column-vector y was passed when a 1d array was expected. Please change the shape of y to (n_samples,), for example using ravel().\n",
      "  estimator.fit(X_train, y_train, **fit_params)\n",
      "C:\\Users\\yanyi\\Anaconda3\\envs\\data-x\\lib\\site-packages\\sklearn\\model_selection\\_validation.py:528: DataConversionWarning: A column-vector y was passed when a 1d array was expected. Please change the shape of y to (n_samples,), for example using ravel().\n",
      "  estimator.fit(X_train, y_train, **fit_params)\n",
      "C:\\Users\\yanyi\\Anaconda3\\envs\\data-x\\lib\\site-packages\\sklearn\\model_selection\\_validation.py:528: DataConversionWarning: A column-vector y was passed when a 1d array was expected. Please change the shape of y to (n_samples,), for example using ravel().\n",
      "  estimator.fit(X_train, y_train, **fit_params)\n",
      "C:\\Users\\yanyi\\Anaconda3\\envs\\data-x\\lib\\site-packages\\sklearn\\model_selection\\_validation.py:528: DataConversionWarning: A column-vector y was passed when a 1d array was expected. Please change the shape of y to (n_samples,), for example using ravel().\n",
      "  estimator.fit(X_train, y_train, **fit_params)\n",
      "C:\\Users\\yanyi\\Anaconda3\\envs\\data-x\\lib\\site-packages\\sklearn\\model_selection\\_validation.py:528: DataConversionWarning: A column-vector y was passed when a 1d array was expected. Please change the shape of y to (n_samples,), for example using ravel().\n",
      "  estimator.fit(X_train, y_train, **fit_params)\n",
      "C:\\Users\\yanyi\\Anaconda3\\envs\\data-x\\lib\\site-packages\\sklearn\\model_selection\\_validation.py:528: DataConversionWarning: A column-vector y was passed when a 1d array was expected. Please change the shape of y to (n_samples,), for example using ravel().\n",
      "  estimator.fit(X_train, y_train, **fit_params)\n",
      "C:\\Users\\yanyi\\Anaconda3\\envs\\data-x\\lib\\site-packages\\sklearn\\model_selection\\_validation.py:528: DataConversionWarning: A column-vector y was passed when a 1d array was expected. Please change the shape of y to (n_samples,), for example using ravel().\n",
      "  estimator.fit(X_train, y_train, **fit_params)\n"
     ]
    },
    {
     "name": "stdout",
     "output_type": "stream",
     "text": [
      "[0.67877234 0.64613523 0.66950718 0.64222986 0.64621683 0.65399973\n",
      " 0.67868783]\n",
      "The average accuracy is: 0.6593641416219309\n"
     ]
    }
   ],
   "source": [
    "scores = cross_val_score(model,X_train, Y_train, cv = 7, scoring = R_2)\n",
    "print(scores)\n",
    "print('The average accuracy is:', scores.mean())"
   ]
  },
  {
   "cell_type": "code",
   "execution_count": 21,
   "metadata": {},
   "outputs": [],
   "source": [
    "# #R_2 value\n",
    "# # Fit on training data\n",
    "# model.fit(X_train, Y_train)\n",
    "# acc = model.score(X_test, Y_test)\n",
    "# predictions = model.predict(X_test)\n",
    "# print(r_square(predictions,Y_test))"
   ]
  },
  {
   "cell_type": "code",
   "execution_count": null,
   "metadata": {},
   "outputs": [],
   "source": []
  }
 ],
 "metadata": {
  "kernelspec": {
   "display_name": "Python 3",
   "language": "python",
   "name": "python3"
  },
  "language_info": {
   "codemirror_mode": {
    "name": "ipython",
    "version": 3
   },
   "file_extension": ".py",
   "mimetype": "text/x-python",
   "name": "python",
   "nbconvert_exporter": "python",
   "pygments_lexer": "ipython3",
   "version": "3.6.7"
  }
 },
 "nbformat": 4,
 "nbformat_minor": 2
}
